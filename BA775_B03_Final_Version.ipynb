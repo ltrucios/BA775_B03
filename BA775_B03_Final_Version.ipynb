{
 "cells": [
  {
   "cell_type": "markdown",
   "metadata": {
    "id": "tiUGzd4Rb5h9"
   },
   "source": [
    "**B03 Team Members:**   Himani Tyagi,    Jaishankar Govindaraj,    Leonardo Trucios Cevasco,    Srithijaa Sankepally,    Yumeng (Emelyn) Tang"
   ]
  },
  {
   "cell_type": "markdown",
   "metadata": {
    "id": "Vjg0nxp_OTkk",
    "tags": []
   },
   "source": [
    "# **Summary of the Assignment**"
   ]
  },
  {
   "cell_type": "markdown",
   "metadata": {
    "id": "ahdS4LLZwYPd"
   },
   "source": [
    "**Project title :** Global Pandemic And The Government - COVID-19’s Impact On Boston Government Employees’ Earnings\n",
    "\n",
    "**Problem Definition:** Evaluate the Boston government sector to understand the impact of the global pandemic, COVID-19, on the employees’ earnings. \n",
    "The main topics that we will focus on covering are the followings: \n",
    "\n",
    "1. Examine the data across years preceding, during, and following the pandemic to assess whether there have been any effects on both earnings and the workforce.\n",
    "2. Explore which job levels/positions have recorded the highest earnings, and which department have recorded the highest number of employees\n",
    "3. Determine which income component has the most impact on an employee’s gross earnings.\n",
    "4. Construct patterns from data collected across various Boston areas/zip codes.\n",
    "\n",
    "**Data:** For the developement of this project we have used two datasets from two different sources.\n",
    "\n",
    "1. Boston Government - Office of Human Resources: https://data.boston.gov/dataset/employee-earnings-report\n",
    "  * The City of Boston releases an annual dataset containing payroll information for its employees, encompassing employee names, job details, and earnings breakdown, including base salary, overtime, and total compensation. To conduct a comprehensive analysis, we are using the dataset spanning the years 2018, 2019, 2020, 2021, and 2022. This resource, offers citizens valuable insights into the financial aspects of the City's workforce during these specific years.\n",
    "\n",
    "2. United States Zip Codes - Massachusetts: https://www.unitedstateszipcodes.org/ma/\n",
    "  * This dataset provides zip code information for Massachusetts, including key details such as zip code, type, primary city, state, county, timezone, latitude, longitude among others. It offers a concise and comprehensive snapshot of geographic and locational attributes associated with each zip code in the state of Massachusetts. By incorporating this dataset, the project can be analyzed in a location-wise level.\n",
    "\n",
    "\n",
    "**Motivation :** Government jobs tend to be secure because they are essential for the functioning of society and are less influenced by market fluctuations compared to private sector. We aim to provide insights into Boston’s government sector for our peers with potential interest.\n",
    "\n",
    "**Executive Summary:** This project assesses the effects of the COVID-19 pandemic on earnings in the Boston government sector. Utilizing datasets from 2018 to 2022, sourced from Boston Government's payroll records and Massachusetts zip code information, the study evaluates changes in workforce and earnings during the pre-pandemic, pandemic, and post-pandemic periods. Key objectives include identifying top-earning job levels, determining departments with the highest employee numbers, and analyzing income components impacting gross earnings. Emphasis is placed on constructing patterns across Boston areas and zip codes. Motivated by the stability of government jobs, our project aims to provide insights into Boston's government workforce over the last five years, which can be a source of interest for our peers."
   ]
  },
  {
   "cell_type": "markdown",
   "metadata": {
    "tags": []
   },
   "source": [
    "# **Description of the Datasets**"
   ]
  },
  {
   "cell_type": "markdown",
   "metadata": {
    "id": "heOaBriuFKpj"
   },
   "source": [
    "## Description for Boston Government - Office of Human Resources Dataset\n",
    "\n",
    "### Dictionary\n",
    "\n",
    "*   **Name:** Full name of each government employee\n",
    "\n",
    "*  **Department_Name:** The department in which the employee works\n",
    "\n",
    "*   **Title:** The job title or position held by the employee\n",
    "\n",
    "*   **Regular:** Regular earnings or base salary of the employee\n",
    "\n",
    "*   **Retro:** Retroactive pay, if any, received by the employee. This concept refers to compensation added to an employee's paycheck to make up for a compensation shortfall in a previous pay period\n",
    "\n",
    "*   **Other:** Additional earnings or extraordinary income for the employee. This type of compensation may consist of various supplementary forms of compensation, including bonuses, allowances, or reimbursement expenses\n",
    "\n",
    "*   **Overtime:** Overtime payments received by the employee\n",
    "\n",
    "*   **Injured:** Earnings related to injury, if applicable\n",
    "\n",
    "*   **Detail:** Additional details payments or special job-related earnings\n",
    "\n",
    "*   **Quinn Education:**  Earnings related to educational incentives or allowances\n",
    "\n",
    "*   **Total Gross:** The total earnings of the employee, including regular, retro, other, overtime, injured, detail, and education earnings.\n",
    "\n",
    "*   **Postal:** The zip code associated with the employee's location\n",
    "\n",
    "*   **Year:** The year for which the earnings data is reported\n",
    "\n",
    "\n",
    "### Basic Information for the concatenated dataset from 2018-2022 tables\n",
    "\n",
    "* There are a total of 114523 rows\n",
    "* There are a total of 12 columns\n",
    "* Null values: \n",
    "    * Zip_code column returned 93 null values\n",
    "    * Columns like regular, retro, other, overtime, injured, detail and education represent income components, hence, null values are taken as USD 0, which means that there has been no contribution towards that component"
   ]
  },
  {
   "cell_type": "markdown",
   "metadata": {},
   "source": [
    "## United States Zip Codes - Massachusetts\n",
    "\n",
    "### Dictionary\n",
    "\n",
    "*   **zip:** The ZIP code, a numerical code used in postal addresses to facilitate mail delivery\n",
    "\n",
    "*  **type:** The type of address associated with the ZIP code (e.g., STANDARD for standard delivery or PO BOX for a post office box address)\n",
    "\n",
    "*   **primary_city:** The primary city or locality associated with the ZIP code\n",
    "\n",
    "*   **state:**  The state in which the ZIP code is located (in this case, MA for Massachusetts)\n",
    "\n",
    "*   **county:** The county to which the ZIP code belongs (e.g., Plymouth County)\n",
    "\n",
    "*   **timezone:** The timezone of the area covered by the ZIP code (e.g., America/New_York)\n",
    "\n",
    "*   **world_region:** The world region or continent to which the ZIP code is geographically associated (in this case, NA for North America)\n",
    "\n",
    "*   **country:** The country to which the ZIP code belongs (in this case, US for the United States)\n",
    "\n",
    "*   **latitude:** The geographic latitude coordinates of the ZIP code location\n",
    "\n",
    "*   **longitude:** The geographic longitude coordinates of the ZIP code location"
   ]
  },
  {
   "cell_type": "markdown",
   "metadata": {},
   "source": [
    "# **Entity Relationship Diagram**"
   ]
  },
  {
   "cell_type": "code",
   "execution_count": null,
   "metadata": {},
   "outputs": [],
   "source": [
    "Paste the ERD updated"
   ]
  },
  {
   "cell_type": "markdown",
   "metadata": {},
   "source": [
    "# **Exploratory Data Analysis**"
   ]
  },
  {
   "cell_type": "markdown",
   "metadata": {
    "tags": []
   },
   "source": [
    "Before doing all the data cleaning, we have eliminated the observations with similar names, so we can have 1 unique identifier for each of the 5 tables \n",
    "that represents the payroll of 2018,2019,2020,2021 and 2022"
   ]
  },
  {
   "cell_type": "code",
   "execution_count": 46,
   "metadata": {
    "tags": []
   },
   "outputs": [
    {
     "data": {
      "application/vnd.jupyter.widget-view+json": {
       "model_id": "668356da4af94a6c92ca845b3bc825fe",
       "version_major": 2,
       "version_minor": 0
      },
      "text/plain": [
       "Query is running:   0%|          |"
      ]
     },
     "metadata": {},
     "output_type": "display_data"
    },
    {
     "data": {
      "text/html": [
       "<div>\n",
       "<style scoped>\n",
       "    .dataframe tbody tr th:only-of-type {\n",
       "        vertical-align: middle;\n",
       "    }\n",
       "\n",
       "    .dataframe tbody tr th {\n",
       "        vertical-align: top;\n",
       "    }\n",
       "\n",
       "    .dataframe thead th {\n",
       "        text-align: right;\n",
       "    }\n",
       "</style>\n",
       "<table border=\"1\" class=\"dataframe\">\n",
       "  <thead>\n",
       "    <tr style=\"text-align: right;\">\n",
       "      <th></th>\n",
       "    </tr>\n",
       "  </thead>\n",
       "  <tbody>\n",
       "  </tbody>\n",
       "</table>\n",
       "</div>"
      ],
      "text/plain": [
       "Empty DataFrame\n",
       "Columns: []\n",
       "Index: []"
      ]
     },
     "execution_count": 46,
     "metadata": {},
     "output_type": "execute_result"
    }
   ],
   "source": [
    "%%bigquery\n",
    "CREATE OR REPLACE TABLE `ba-775-b03.BA_775_Dataset.2022_unique`AS\n",
    "SELECT *\n",
    "FROM (\n",
    "    SELECT *,\n",
    "           ROW_NUMBER() OVER (PARTITION BY NAME ORDER BY NAME) AS row_num\n",
    "    FROM `ba-775-b03.BA_775_Dataset.2022` \n",
    ") AS subquery\n",
    "WHERE row_num = 1;"
   ]
  },
  {
   "cell_type": "markdown",
   "metadata": {},
   "source": [
    "The table that has information of the payroll in 2022, has 23,204 observations,but the distinct ones are 23,133, so we will drop 73 observations"
   ]
  },
  {
   "cell_type": "code",
   "execution_count": 47,
   "metadata": {
    "tags": []
   },
   "outputs": [
    {
     "data": {
      "application/vnd.jupyter.widget-view+json": {
       "model_id": "0a84a5c83e7d4f499795af3b269800d2",
       "version_major": 2,
       "version_minor": 0
      },
      "text/plain": [
       "Query is running:   0%|          |"
      ]
     },
     "metadata": {},
     "output_type": "display_data"
    },
    {
     "data": {
      "text/html": [
       "<div>\n",
       "<style scoped>\n",
       "    .dataframe tbody tr th:only-of-type {\n",
       "        vertical-align: middle;\n",
       "    }\n",
       "\n",
       "    .dataframe tbody tr th {\n",
       "        vertical-align: top;\n",
       "    }\n",
       "\n",
       "    .dataframe thead th {\n",
       "        text-align: right;\n",
       "    }\n",
       "</style>\n",
       "<table border=\"1\" class=\"dataframe\">\n",
       "  <thead>\n",
       "    <tr style=\"text-align: right;\">\n",
       "      <th></th>\n",
       "    </tr>\n",
       "  </thead>\n",
       "  <tbody>\n",
       "  </tbody>\n",
       "</table>\n",
       "</div>"
      ],
      "text/plain": [
       "Empty DataFrame\n",
       "Columns: []\n",
       "Index: []"
      ]
     },
     "execution_count": 47,
     "metadata": {},
     "output_type": "execute_result"
    }
   ],
   "source": [
    "%%bigquery\n",
    "CREATE OR REPLACE TABLE `ba-775-b03.BA_775_Dataset.2021_unique`AS\n",
    "SELECT *\n",
    "FROM (\n",
    "    SELECT *,\n",
    "           ROW_NUMBER() OVER (PARTITION BY NAME ORDER BY NAME) AS row_num\n",
    "    FROM `ba-775-b03.BA_775_Dataset.2021` \n",
    ") AS subquery\n",
    "WHERE row_num = 1;"
   ]
  },
  {
   "cell_type": "markdown",
   "metadata": {
    "tags": []
   },
   "source": [
    "The table that has information of the payroll in 2021, has 22,546 observations,but the distinct ones are 22,472, so we will drop 74 observations"
   ]
  },
  {
   "cell_type": "code",
   "execution_count": 48,
   "metadata": {
    "tags": []
   },
   "outputs": [
    {
     "data": {
      "application/vnd.jupyter.widget-view+json": {
       "model_id": "b52ba3c67f14423e9c9037e2213bf850",
       "version_major": 2,
       "version_minor": 0
      },
      "text/plain": [
       "Query is running:   0%|          |"
      ]
     },
     "metadata": {},
     "output_type": "display_data"
    },
    {
     "data": {
      "text/html": [
       "<div>\n",
       "<style scoped>\n",
       "    .dataframe tbody tr th:only-of-type {\n",
       "        vertical-align: middle;\n",
       "    }\n",
       "\n",
       "    .dataframe tbody tr th {\n",
       "        vertical-align: top;\n",
       "    }\n",
       "\n",
       "    .dataframe thead th {\n",
       "        text-align: right;\n",
       "    }\n",
       "</style>\n",
       "<table border=\"1\" class=\"dataframe\">\n",
       "  <thead>\n",
       "    <tr style=\"text-align: right;\">\n",
       "      <th></th>\n",
       "    </tr>\n",
       "  </thead>\n",
       "  <tbody>\n",
       "  </tbody>\n",
       "</table>\n",
       "</div>"
      ],
      "text/plain": [
       "Empty DataFrame\n",
       "Columns: []\n",
       "Index: []"
      ]
     },
     "execution_count": 48,
     "metadata": {},
     "output_type": "execute_result"
    }
   ],
   "source": [
    "%%bigquery\n",
    "CREATE OR REPLACE TABLE `ba-775-b03.BA_775_Dataset.2020_unique`AS\n",
    "SELECT *\n",
    "FROM (\n",
    "    SELECT *,\n",
    "           ROW_NUMBER() OVER (PARTITION BY NAME ORDER BY NAME) AS row_num\n",
    "    FROM `ba-775-b03.BA_775_Dataset.2020` \n",
    ") AS subquery\n",
    "WHERE row_num = 1;"
   ]
  },
  {
   "cell_type": "markdown",
   "metadata": {},
   "source": [
    "The table that has information of the payroll in 2020, has 21,858 observations,but the distinct ones are 21,785, so we will drop 73 observations"
   ]
  },
  {
   "cell_type": "code",
   "execution_count": 49,
   "metadata": {
    "tags": []
   },
   "outputs": [
    {
     "data": {
      "application/vnd.jupyter.widget-view+json": {
       "model_id": "ee61c9114949492898347ffb67a1875e",
       "version_major": 2,
       "version_minor": 0
      },
      "text/plain": [
       "Query is running:   0%|          |"
      ]
     },
     "metadata": {},
     "output_type": "display_data"
    },
    {
     "data": {
      "text/html": [
       "<div>\n",
       "<style scoped>\n",
       "    .dataframe tbody tr th:only-of-type {\n",
       "        vertical-align: middle;\n",
       "    }\n",
       "\n",
       "    .dataframe tbody tr th {\n",
       "        vertical-align: top;\n",
       "    }\n",
       "\n",
       "    .dataframe thead th {\n",
       "        text-align: right;\n",
       "    }\n",
       "</style>\n",
       "<table border=\"1\" class=\"dataframe\">\n",
       "  <thead>\n",
       "    <tr style=\"text-align: right;\">\n",
       "      <th></th>\n",
       "    </tr>\n",
       "  </thead>\n",
       "  <tbody>\n",
       "  </tbody>\n",
       "</table>\n",
       "</div>"
      ],
      "text/plain": [
       "Empty DataFrame\n",
       "Columns: []\n",
       "Index: []"
      ]
     },
     "execution_count": 49,
     "metadata": {},
     "output_type": "execute_result"
    }
   ],
   "source": [
    "%%bigquery\n",
    "CREATE OR REPLACE TABLE `ba-775-b03.BA_775_Dataset.2019_unique`AS\n",
    "SELECT *\n",
    "FROM (\n",
    "    SELECT *,\n",
    "           ROW_NUMBER() OVER (PARTITION BY NAME ORDER BY NAME) AS row_num\n",
    "    FROM `ba-775-b03.BA_775_Dataset.2019` \n",
    ") AS subquery\n",
    "WHERE row_num = 1;"
   ]
  },
  {
   "cell_type": "markdown",
   "metadata": {
    "tags": []
   },
   "source": [
    "The table that has information of the payroll in 2019, has 23,312 observations,but the distinct ones are 23,232, so we will drop 80 observations"
   ]
  },
  {
   "cell_type": "code",
   "execution_count": 50,
   "metadata": {
    "tags": []
   },
   "outputs": [
    {
     "data": {
      "application/vnd.jupyter.widget-view+json": {
       "model_id": "2d0fd5beb53d4893926b3beaf5c3517a",
       "version_major": 2,
       "version_minor": 0
      },
      "text/plain": [
       "Query is running:   0%|          |"
      ]
     },
     "metadata": {},
     "output_type": "display_data"
    },
    {
     "data": {
      "text/html": [
       "<div>\n",
       "<style scoped>\n",
       "    .dataframe tbody tr th:only-of-type {\n",
       "        vertical-align: middle;\n",
       "    }\n",
       "\n",
       "    .dataframe tbody tr th {\n",
       "        vertical-align: top;\n",
       "    }\n",
       "\n",
       "    .dataframe thead th {\n",
       "        text-align: right;\n",
       "    }\n",
       "</style>\n",
       "<table border=\"1\" class=\"dataframe\">\n",
       "  <thead>\n",
       "    <tr style=\"text-align: right;\">\n",
       "      <th></th>\n",
       "    </tr>\n",
       "  </thead>\n",
       "  <tbody>\n",
       "  </tbody>\n",
       "</table>\n",
       "</div>"
      ],
      "text/plain": [
       "Empty DataFrame\n",
       "Columns: []\n",
       "Index: []"
      ]
     },
     "execution_count": 50,
     "metadata": {},
     "output_type": "execute_result"
    }
   ],
   "source": [
    "%%bigquery\n",
    "CREATE OR REPLACE TABLE `ba-775-b03.BA_775_Dataset.2018_unique`AS\n",
    "SELECT *\n",
    "FROM (\n",
    "    SELECT *,\n",
    "           ROW_NUMBER() OVER (PARTITION BY NAME ORDER BY NAME) AS row_num\n",
    "    FROM `ba-775-b03.BA_775_Dataset.2018` \n",
    ") AS subquery\n",
    "WHERE row_num = 1;"
   ]
  },
  {
   "cell_type": "markdown",
   "metadata": {},
   "source": [
    "The table that has information of the payroll in 2018, has 23,603 observations,but the distinct ones are 23,525, so we will drop 78 observations"
   ]
  },
  {
   "cell_type": "code",
   "execution_count": 51,
   "metadata": {
    "tags": []
   },
   "outputs": [
    {
     "data": {
      "application/vnd.jupyter.widget-view+json": {
       "model_id": "904a71e3c2a44b289cf5abcf06168138",
       "version_major": 2,
       "version_minor": 0
      },
      "text/plain": [
       "Query is running:   0%|          |"
      ]
     },
     "metadata": {},
     "output_type": "display_data"
    },
    {
     "data": {
      "text/html": [
       "<div>\n",
       "<style scoped>\n",
       "    .dataframe tbody tr th:only-of-type {\n",
       "        vertical-align: middle;\n",
       "    }\n",
       "\n",
       "    .dataframe tbody tr th {\n",
       "        vertical-align: top;\n",
       "    }\n",
       "\n",
       "    .dataframe thead th {\n",
       "        text-align: right;\n",
       "    }\n",
       "</style>\n",
       "<table border=\"1\" class=\"dataframe\">\n",
       "  <thead>\n",
       "    <tr style=\"text-align: right;\">\n",
       "      <th></th>\n",
       "    </tr>\n",
       "  </thead>\n",
       "  <tbody>\n",
       "  </tbody>\n",
       "</table>\n",
       "</div>"
      ],
      "text/plain": [
       "Empty DataFrame\n",
       "Columns: []\n",
       "Index: []"
      ]
     },
     "execution_count": 51,
     "metadata": {},
     "output_type": "execute_result"
    }
   ],
   "source": [
    "%%bigquery \n",
    "\n",
    "CREATE OR REPLACE TABLE `ba-775-b03.BA_775_Dataset.data_merged_raw` AS\n",
    "\n",
    "(SELECT\n",
    "  REPLACE(CAST(NAME AS STRING), ',', ' ') AS name,\n",
    "  DEPARTMENT_NAME AS department_name,\n",
    "  TITLE AS job_title,\n",
    "  CAST(REGULAR AS FLOAT64) AS regular,\n",
    "  CAST(RETRO AS FLOAT64) AS retro,\n",
    "  CAST(OTHER AS FLOAT64) AS other,\n",
    "  CAST(OVERTIME AS FLOAT64) AS overtime,\n",
    "  CAST(INJURED AS FLOAT64) AS injured,\n",
    "  CAST(DETAIL AS FLOAT64) AS detail,\n",
    "  CAST(QUINN_EDUCATION AS FLOAT64) AS education,\n",
    "  CAST(TOTAL__GROSS AS FLOAT64) AS total_earnings,\n",
    "  CAST(POSTAL AS TINYINT) AS zip_code,\n",
    "  2022 AS year\n",
    "FROM\n",
    "  `ba-775-b03.BA_775_Dataset.2022_unique`\n",
    "\n",
    "\n",
    "UNION ALL\n",
    "\n",
    "\n",
    "SELECT\n",
    "  REPLACE(CAST(NAME AS STRING), ',', ' ') AS name,\n",
    "  DEPARTMENT_NAME AS department_name,\n",
    "  TITLE AS job_title,\n",
    "  CAST(REGULAR AS FLOAT64) AS regular,\n",
    "  CAST(RETRO AS FLOAT64) AS retro,\n",
    "  CAST(OTHER AS FLOAT64) AS other,\n",
    "  CAST(OVERTIME AS FLOAT64) AS overtime,\n",
    "  CAST(INJURED AS FLOAT64) AS injured,\n",
    "  CAST(DETAIL AS FLOAT64) AS detail,\n",
    "  CAST(QUINN_EDUCATION_INCENTIVE AS FLOAT64) AS education,\n",
    "  CAST(TOTAL_GROSS AS FLOAT64) AS total_earnings,\n",
    "  CAST(POSTAL AS TINYINT) AS zip_code,\n",
    "  2021 AS year\n",
    "FROM\n",
    "  `ba-775-b03.BA_775_Dataset.2021_unique`\n",
    "\n",
    "\n",
    "UNION ALL\n",
    "\n",
    "\n",
    "SELECT\n",
    "  REPLACE(CAST(NAME AS STRING), ',', ' ') AS name,\n",
    "  DEPARTMENT_NAME AS department_name,\n",
    "  TITLE AS job_title,\n",
    "  CAST(_REGULAR_ AS FLOAT64) AS regular,\n",
    "  CAST(_RETRO_ AS FLOAT64) AS retro,\n",
    "  CAST(_OTHER_ AS FLOAT64) AS other,\n",
    "  CAST(_OVERTIME_ AS FLOAT64) AS overtime,\n",
    "  CAST(_INJURED_ AS FLOAT64) AS injured,\n",
    "  CAST(_DETAIL_ AS FLOAT64) AS detail,\n",
    "  CAST(_QUINN___EDUCATION_INCENTIVE_ AS FLOAT64) AS education,\n",
    "  CAST(_TOTAL_EARNINGS_ AS FLOAT64) AS total_earnings,\n",
    "  CAST(POSTAL AS TINYINT) AS zip_code,\n",
    "  2020 AS year\n",
    "FROM\n",
    "  `ba-775-b03.BA_775_Dataset.2020_unique`\n",
    "\n",
    "\n",
    "UNION ALL\n",
    "\n",
    "\n",
    "SELECT\n",
    "  REPLACE(CAST(NAME AS STRING), ',', ' ') AS name,\n",
    "  DEPARTMENT_NAME AS department_name,\n",
    "  TITLE AS job_title,\n",
    "  CAST(_REGULAR_ AS FLOAT64) AS regular,\n",
    "  CAST(_RETRO_ AS FLOAT64) AS retro,\n",
    "  CAST(_OTHER_ AS FLOAT64) AS other,\n",
    "  CAST(_OVERTIME_ AS FLOAT64) AS overtime,\n",
    "  CAST(_INJURED_ AS FLOAT64) AS injured,\n",
    "  CAST(_DETAIL_ AS FLOAT64) AS detail,\n",
    "  CAST(_QUINN_EDUCATION_INCENTIVE_ AS FLOAT64) AS education,\n",
    "  CAST(TOTAL_EARNINGS AS FLOAT64) AS total_earnings,\n",
    "  CAST(POSTAL AS TINYINT) AS zip_code,\n",
    "  2019 AS year\n",
    "FROM\n",
    "  `ba-775-b03.BA_775_Dataset.2019_unique`\n",
    "\n",
    "\n",
    "UNION ALL\n",
    "\n",
    "\n",
    "SELECT\n",
    "  REPLACE(CAST(NAME AS STRING), ',', ' ') AS name,\n",
    "  DEPARTMENT_NAME AS department_name,\n",
    "  TITLE AS job_title,\n",
    "  CAST(REGULAR AS FLOAT64) AS regular,\n",
    "  CAST(RETRO AS FLOAT64) AS retro,\n",
    "  CAST(OTHER AS FLOAT64) AS other,\n",
    "  CAST(OVERTIME AS FLOAT64) AS overtime,\n",
    "  CAST(INJURED AS FLOAT64) AS injured,\n",
    "  CAST(DETAIL AS FLOAT64) AS detail,\n",
    "  CAST(QUINN_EDUCATION_INCENTIVE AS FLOAT64) AS education,\n",
    "  CAST(TOTAL_EARNINGS AS FLOAT64) AS total_earnings,\n",
    "  CAST(POSTAL AS TINYINT) AS zip_code,\n",
    "  2018 AS year\n",
    "FROM\n",
    "  `ba-775-b03.BA_775_Dataset.2018_unique`);"
   ]
  },
  {
   "cell_type": "markdown",
   "metadata": {},
   "source": [
    "New Merged Table with data from 2018 - 2022"
   ]
  },
  {
   "cell_type": "code",
   "execution_count": 52,
   "metadata": {
    "tags": []
   },
   "outputs": [
    {
     "data": {
      "application/vnd.jupyter.widget-view+json": {
       "model_id": "4a04c14f30aa47e197131f368fc681c7",
       "version_major": 2,
       "version_minor": 0
      },
      "text/plain": [
       "Query is running:   0%|          |"
      ]
     },
     "metadata": {},
     "output_type": "display_data"
    },
    {
     "data": {
      "application/vnd.jupyter.widget-view+json": {
       "model_id": "20bf736fdfab4bad94293d9ef11afacf",
       "version_major": 2,
       "version_minor": 0
      },
      "text/plain": [
       "Downloading:   0%|          |"
      ]
     },
     "metadata": {},
     "output_type": "display_data"
    },
    {
     "data": {
      "text/html": [
       "<div>\n",
       "<style scoped>\n",
       "    .dataframe tbody tr th:only-of-type {\n",
       "        vertical-align: middle;\n",
       "    }\n",
       "\n",
       "    .dataframe tbody tr th {\n",
       "        vertical-align: top;\n",
       "    }\n",
       "\n",
       "    .dataframe thead th {\n",
       "        text-align: right;\n",
       "    }\n",
       "</style>\n",
       "<table border=\"1\" class=\"dataframe\">\n",
       "  <thead>\n",
       "    <tr style=\"text-align: right;\">\n",
       "      <th></th>\n",
       "      <th>name</th>\n",
       "      <th>department_name</th>\n",
       "      <th>job_title</th>\n",
       "      <th>regular</th>\n",
       "      <th>retro</th>\n",
       "      <th>other</th>\n",
       "      <th>overtime</th>\n",
       "      <th>injured</th>\n",
       "      <th>detail</th>\n",
       "      <th>education</th>\n",
       "      <th>total_earnings</th>\n",
       "      <th>zip_code</th>\n",
       "      <th>year</th>\n",
       "    </tr>\n",
       "  </thead>\n",
       "  <tbody>\n",
       "    <tr>\n",
       "      <th>0</th>\n",
       "      <td>Conlin Jane F</td>\n",
       "      <td>BPS Health Service</td>\n",
       "      <td>Nurse</td>\n",
       "      <td>115017.59</td>\n",
       "      <td>NaN</td>\n",
       "      <td>NaN</td>\n",
       "      <td>NaN</td>\n",
       "      <td>NaN</td>\n",
       "      <td>NaN</td>\n",
       "      <td>NaN</td>\n",
       "      <td>115017.59</td>\n",
       "      <td>&lt;NA&gt;</td>\n",
       "      <td>2020</td>\n",
       "    </tr>\n",
       "    <tr>\n",
       "      <th>1</th>\n",
       "      <td>Decius Fabiola Rachelle</td>\n",
       "      <td>Quincy Upper School</td>\n",
       "      <td>Teacher</td>\n",
       "      <td>80064.12</td>\n",
       "      <td>NaN</td>\n",
       "      <td>6716.06</td>\n",
       "      <td>NaN</td>\n",
       "      <td>NaN</td>\n",
       "      <td>NaN</td>\n",
       "      <td>NaN</td>\n",
       "      <td>86780.18</td>\n",
       "      <td>&lt;NA&gt;</td>\n",
       "      <td>2020</td>\n",
       "    </tr>\n",
       "    <tr>\n",
       "      <th>2</th>\n",
       "      <td>Desances Kerly</td>\n",
       "      <td>BPS Madison Park High</td>\n",
       "      <td>Teacher</td>\n",
       "      <td>88652.46</td>\n",
       "      <td>NaN</td>\n",
       "      <td>702.92</td>\n",
       "      <td>NaN</td>\n",
       "      <td>NaN</td>\n",
       "      <td>NaN</td>\n",
       "      <td>NaN</td>\n",
       "      <td>89355.38</td>\n",
       "      <td>&lt;NA&gt;</td>\n",
       "      <td>2020</td>\n",
       "    </tr>\n",
       "    <tr>\n",
       "      <th>3</th>\n",
       "      <td>Buendia Maria</td>\n",
       "      <td>Higginson/Lewis K-8</td>\n",
       "      <td>Teacher</td>\n",
       "      <td>128330.77</td>\n",
       "      <td>NaN</td>\n",
       "      <td>3612.22</td>\n",
       "      <td>NaN</td>\n",
       "      <td>NaN</td>\n",
       "      <td>NaN</td>\n",
       "      <td>NaN</td>\n",
       "      <td>131942.99</td>\n",
       "      <td>&lt;NA&gt;</td>\n",
       "      <td>2020</td>\n",
       "    </tr>\n",
       "    <tr>\n",
       "      <th>4</th>\n",
       "      <td>Mroz Joel P</td>\n",
       "      <td>BPS Ellis Elementary</td>\n",
       "      <td>Teacher</td>\n",
       "      <td>20405.78</td>\n",
       "      <td>NaN</td>\n",
       "      <td>NaN</td>\n",
       "      <td>NaN</td>\n",
       "      <td>NaN</td>\n",
       "      <td>NaN</td>\n",
       "      <td>NaN</td>\n",
       "      <td>20405.78</td>\n",
       "      <td>&lt;NA&gt;</td>\n",
       "      <td>2020</td>\n",
       "    </tr>\n",
       "    <tr>\n",
       "      <th>...</th>\n",
       "      <td>...</td>\n",
       "      <td>...</td>\n",
       "      <td>...</td>\n",
       "      <td>...</td>\n",
       "      <td>...</td>\n",
       "      <td>...</td>\n",
       "      <td>...</td>\n",
       "      <td>...</td>\n",
       "      <td>...</td>\n",
       "      <td>...</td>\n",
       "      <td>...</td>\n",
       "      <td>...</td>\n",
       "      <td>...</td>\n",
       "    </tr>\n",
       "    <tr>\n",
       "      <th>114142</th>\n",
       "      <td>Danilecki John H</td>\n",
       "      <td>Boston Police Department</td>\n",
       "      <td>Police Captain</td>\n",
       "      <td>157595.81</td>\n",
       "      <td>NaN</td>\n",
       "      <td>24504.13</td>\n",
       "      <td>49388.68</td>\n",
       "      <td>6504.89</td>\n",
       "      <td>64800.0</td>\n",
       "      <td>41025.08</td>\n",
       "      <td>343818.59</td>\n",
       "      <td>2559</td>\n",
       "      <td>2021</td>\n",
       "    </tr>\n",
       "    <tr>\n",
       "      <th>114143</th>\n",
       "      <td>Bannish Kaitlynn</td>\n",
       "      <td>BPS Special Education</td>\n",
       "      <td>ABA Specialist (BTU)</td>\n",
       "      <td>48156.31</td>\n",
       "      <td>1399.39</td>\n",
       "      <td>NaN</td>\n",
       "      <td>NaN</td>\n",
       "      <td>NaN</td>\n",
       "      <td>NaN</td>\n",
       "      <td>NaN</td>\n",
       "      <td>49555.70</td>\n",
       "      <td>2815</td>\n",
       "      <td>2018</td>\n",
       "    </tr>\n",
       "    <tr>\n",
       "      <th>114144</th>\n",
       "      <td>Bannish Kaitlynn</td>\n",
       "      <td>BPS Special Education</td>\n",
       "      <td>ABA Specialist (BTU)</td>\n",
       "      <td>55716.60</td>\n",
       "      <td>NaN</td>\n",
       "      <td>NaN</td>\n",
       "      <td>NaN</td>\n",
       "      <td>NaN</td>\n",
       "      <td>NaN</td>\n",
       "      <td>NaN</td>\n",
       "      <td>55716.60</td>\n",
       "      <td>2815</td>\n",
       "      <td>2020</td>\n",
       "    </tr>\n",
       "    <tr>\n",
       "      <th>114145</th>\n",
       "      <td>Bannish Kaitlynn</td>\n",
       "      <td>BPS Special Education</td>\n",
       "      <td>ABA Specialist (BTU)</td>\n",
       "      <td>49985.66</td>\n",
       "      <td>984.72</td>\n",
       "      <td>346.50</td>\n",
       "      <td>NaN</td>\n",
       "      <td>NaN</td>\n",
       "      <td>NaN</td>\n",
       "      <td>NaN</td>\n",
       "      <td>51316.88</td>\n",
       "      <td>2815</td>\n",
       "      <td>2019</td>\n",
       "    </tr>\n",
       "    <tr>\n",
       "      <th>114146</th>\n",
       "      <td>Santiago Natalia</td>\n",
       "      <td>BPS Adams Elementary</td>\n",
       "      <td>Teacher</td>\n",
       "      <td>55866.12</td>\n",
       "      <td>NaN</td>\n",
       "      <td>800.00</td>\n",
       "      <td>NaN</td>\n",
       "      <td>NaN</td>\n",
       "      <td>NaN</td>\n",
       "      <td>NaN</td>\n",
       "      <td>56666.12</td>\n",
       "      <td>33023</td>\n",
       "      <td>2020</td>\n",
       "    </tr>\n",
       "  </tbody>\n",
       "</table>\n",
       "<p>114147 rows × 13 columns</p>\n",
       "</div>"
      ],
      "text/plain": [
       "                           name           department_name  \\\n",
       "0                 Conlin Jane F        BPS Health Service   \n",
       "1       Decius Fabiola Rachelle       Quincy Upper School   \n",
       "2                Desances Kerly     BPS Madison Park High   \n",
       "3                 Buendia Maria       Higginson/Lewis K-8   \n",
       "4                   Mroz Joel P      BPS Ellis Elementary   \n",
       "...                         ...                       ...   \n",
       "114142         Danilecki John H  Boston Police Department   \n",
       "114143         Bannish Kaitlynn     BPS Special Education   \n",
       "114144         Bannish Kaitlynn     BPS Special Education   \n",
       "114145         Bannish Kaitlynn     BPS Special Education   \n",
       "114146         Santiago Natalia      BPS Adams Elementary   \n",
       "\n",
       "                   job_title    regular    retro     other  overtime  injured  \\\n",
       "0                      Nurse  115017.59      NaN       NaN       NaN      NaN   \n",
       "1                    Teacher   80064.12      NaN   6716.06       NaN      NaN   \n",
       "2                    Teacher   88652.46      NaN    702.92       NaN      NaN   \n",
       "3                    Teacher  128330.77      NaN   3612.22       NaN      NaN   \n",
       "4                    Teacher   20405.78      NaN       NaN       NaN      NaN   \n",
       "...                      ...        ...      ...       ...       ...      ...   \n",
       "114142        Police Captain  157595.81      NaN  24504.13  49388.68  6504.89   \n",
       "114143  ABA Specialist (BTU)   48156.31  1399.39       NaN       NaN      NaN   \n",
       "114144  ABA Specialist (BTU)   55716.60      NaN       NaN       NaN      NaN   \n",
       "114145  ABA Specialist (BTU)   49985.66   984.72    346.50       NaN      NaN   \n",
       "114146               Teacher   55866.12      NaN    800.00       NaN      NaN   \n",
       "\n",
       "         detail  education  total_earnings  zip_code  year  \n",
       "0           NaN        NaN       115017.59      <NA>  2020  \n",
       "1           NaN        NaN        86780.18      <NA>  2020  \n",
       "2           NaN        NaN        89355.38      <NA>  2020  \n",
       "3           NaN        NaN       131942.99      <NA>  2020  \n",
       "4           NaN        NaN        20405.78      <NA>  2020  \n",
       "...         ...        ...             ...       ...   ...  \n",
       "114142  64800.0   41025.08       343818.59      2559  2021  \n",
       "114143      NaN        NaN        49555.70      2815  2018  \n",
       "114144      NaN        NaN        55716.60      2815  2020  \n",
       "114145      NaN        NaN        51316.88      2815  2019  \n",
       "114146      NaN        NaN        56666.12     33023  2020  \n",
       "\n",
       "[114147 rows x 13 columns]"
      ]
     },
     "execution_count": 52,
     "metadata": {},
     "output_type": "execute_result"
    }
   ],
   "source": [
    "%%bigquery\n",
    "SELECT*\n",
    "FROM `ba-775-b03.BA_775_Dataset.data_merged_raw`"
   ]
  },
  {
   "cell_type": "code",
   "execution_count": 53,
   "metadata": {
    "tags": []
   },
   "outputs": [
    {
     "data": {
      "application/vnd.jupyter.widget-view+json": {
       "model_id": "c9f6d998930d43e0ad80f1492fa6bf70",
       "version_major": 2,
       "version_minor": 0
      },
      "text/plain": [
       "Query is running:   0%|          |"
      ]
     },
     "metadata": {},
     "output_type": "display_data"
    },
    {
     "data": {
      "application/vnd.jupyter.widget-view+json": {
       "model_id": "504b8d20cdbd49fb93577cec8982ece8",
       "version_major": 2,
       "version_minor": 0
      },
      "text/plain": [
       "Downloading:   0%|          |"
      ]
     },
     "metadata": {},
     "output_type": "display_data"
    },
    {
     "data": {
      "text/html": [
       "<div>\n",
       "<style scoped>\n",
       "    .dataframe tbody tr th:only-of-type {\n",
       "        vertical-align: middle;\n",
       "    }\n",
       "\n",
       "    .dataframe tbody tr th {\n",
       "        vertical-align: top;\n",
       "    }\n",
       "\n",
       "    .dataframe thead th {\n",
       "        text-align: right;\n",
       "    }\n",
       "</style>\n",
       "<table border=\"1\" class=\"dataframe\">\n",
       "  <thead>\n",
       "    <tr style=\"text-align: right;\">\n",
       "      <th></th>\n",
       "      <th>name</th>\n",
       "      <th>department_name</th>\n",
       "      <th>job_title</th>\n",
       "      <th>regular</th>\n",
       "      <th>retro</th>\n",
       "      <th>other</th>\n",
       "      <th>overtime</th>\n",
       "      <th>injured</th>\n",
       "      <th>detail</th>\n",
       "      <th>education</th>\n",
       "      <th>total_earnings</th>\n",
       "      <th>zip_code</th>\n",
       "      <th>year</th>\n",
       "    </tr>\n",
       "  </thead>\n",
       "  <tbody>\n",
       "    <tr>\n",
       "      <th>0</th>\n",
       "      <td>0</td>\n",
       "      <td>0</td>\n",
       "      <td>0</td>\n",
       "      <td>4751</td>\n",
       "      <td>84277</td>\n",
       "      <td>43754</td>\n",
       "      <td>79977</td>\n",
       "      <td>107213</td>\n",
       "      <td>103262</td>\n",
       "      <td>107329</td>\n",
       "      <td>0</td>\n",
       "      <td>93</td>\n",
       "      <td>0</td>\n",
       "    </tr>\n",
       "  </tbody>\n",
       "</table>\n",
       "</div>"
      ],
      "text/plain": [
       "   name  department_name  job_title  regular  retro  other  overtime  injured  \\\n",
       "0     0                0          0     4751  84277  43754     79977   107213   \n",
       "\n",
       "   detail  education  total_earnings  zip_code  year  \n",
       "0  103262     107329               0        93     0  "
      ]
     },
     "execution_count": 53,
     "metadata": {},
     "output_type": "execute_result"
    }
   ],
   "source": [
    "%%bigquery\n",
    "SELECT\n",
    "  COUNTIF(name IS NULL) AS name,\n",
    "  COUNTIF(department_name IS NULL) AS department_name,\n",
    "  COUNTIF(job_title IS NULL) AS job_title,\n",
    "  COUNTIF(regular IS NULL) AS regular,\n",
    "  COUNTIF(retro IS NULL) AS retro,\n",
    "  COUNTIF(other IS NULL) AS other,\n",
    "  COUNTIF(overtime IS NULL) AS overtime,\n",
    "  COUNTIF(injured IS NULL) AS injured,\n",
    "  COUNTIF(detail IS NULL) AS detail,\n",
    "  COUNTIF(education IS NULL) AS education,\n",
    "  COUNTIF(total_earnings IS NULL) AS total_earnings,\n",
    "  COUNTIF(zip_code IS NULL) AS zip_code,\n",
    "  COUNTIF(year IS NULL) AS year\n",
    "FROM `ba-775-b03.BA_775_Dataset.data_merged_raw`"
   ]
  },
  {
   "cell_type": "markdown",
   "metadata": {},
   "source": [
    "Write more info about null values"
   ]
  },
  {
   "cell_type": "code",
   "execution_count": 54,
   "metadata": {
    "tags": []
   },
   "outputs": [
    {
     "data": {
      "application/vnd.jupyter.widget-view+json": {
       "model_id": "36d5acc7b659454da630fa5740c22c9b",
       "version_major": 2,
       "version_minor": 0
      },
      "text/plain": [
       "Query is running:   0%|          |"
      ]
     },
     "metadata": {},
     "output_type": "display_data"
    },
    {
     "data": {
      "text/html": [
       "<div>\n",
       "<style scoped>\n",
       "    .dataframe tbody tr th:only-of-type {\n",
       "        vertical-align: middle;\n",
       "    }\n",
       "\n",
       "    .dataframe tbody tr th {\n",
       "        vertical-align: top;\n",
       "    }\n",
       "\n",
       "    .dataframe thead th {\n",
       "        text-align: right;\n",
       "    }\n",
       "</style>\n",
       "<table border=\"1\" class=\"dataframe\">\n",
       "  <thead>\n",
       "    <tr style=\"text-align: right;\">\n",
       "      <th></th>\n",
       "    </tr>\n",
       "  </thead>\n",
       "  <tbody>\n",
       "  </tbody>\n",
       "</table>\n",
       "</div>"
      ],
      "text/plain": [
       "Empty DataFrame\n",
       "Columns: []\n",
       "Index: []"
      ]
     },
     "execution_count": 54,
     "metadata": {},
     "output_type": "execute_result"
    }
   ],
   "source": [
    "%%bigquery\n",
    "UPDATE `ba-775-b03.BA_775_Dataset.data_merged_raw`\n",
    "SET\n",
    "  regular = COALESCE(regular, 0),\n",
    "  retro = COALESCE(retro, 0),\n",
    "  other = COALESCE(other, 0),\n",
    "  overtime = COALESCE(overtime, 0),\n",
    "  injured = COALESCE(injured, 0),\n",
    "  detail = COALESCE(detail, 0),\n",
    "  education = COALESCE(education, 0),\n",
    "  total_earnings = COALESCE(total_earnings, 0),\n",
    "  zip_code = COALESCE(zip_code, 0)\n",
    "WHERE TRUE;"
   ]
  },
  {
   "cell_type": "code",
   "execution_count": 55,
   "metadata": {
    "tags": []
   },
   "outputs": [
    {
     "data": {
      "application/vnd.jupyter.widget-view+json": {
       "model_id": "815561ef11514bba9d09aee2b89eebde",
       "version_major": 2,
       "version_minor": 0
      },
      "text/plain": [
       "Query is running:   0%|          |"
      ]
     },
     "metadata": {},
     "output_type": "display_data"
    },
    {
     "data": {
      "application/vnd.jupyter.widget-view+json": {
       "model_id": "66f3ffe43029450a9ae021592983c321",
       "version_major": 2,
       "version_minor": 0
      },
      "text/plain": [
       "Downloading:   0%|          |"
      ]
     },
     "metadata": {},
     "output_type": "display_data"
    },
    {
     "data": {
      "text/html": [
       "<div>\n",
       "<style scoped>\n",
       "    .dataframe tbody tr th:only-of-type {\n",
       "        vertical-align: middle;\n",
       "    }\n",
       "\n",
       "    .dataframe tbody tr th {\n",
       "        vertical-align: top;\n",
       "    }\n",
       "\n",
       "    .dataframe thead th {\n",
       "        text-align: right;\n",
       "    }\n",
       "</style>\n",
       "<table border=\"1\" class=\"dataframe\">\n",
       "  <thead>\n",
       "    <tr style=\"text-align: right;\">\n",
       "      <th></th>\n",
       "      <th>name</th>\n",
       "      <th>department_name</th>\n",
       "      <th>job_title</th>\n",
       "      <th>regular</th>\n",
       "      <th>retro</th>\n",
       "      <th>other</th>\n",
       "      <th>overtime</th>\n",
       "      <th>injured</th>\n",
       "      <th>detail</th>\n",
       "      <th>education</th>\n",
       "      <th>total_earnings</th>\n",
       "      <th>zip_code</th>\n",
       "      <th>year</th>\n",
       "    </tr>\n",
       "  </thead>\n",
       "  <tbody>\n",
       "    <tr>\n",
       "      <th>0</th>\n",
       "      <td>0</td>\n",
       "      <td>0</td>\n",
       "      <td>0</td>\n",
       "      <td>0</td>\n",
       "      <td>0</td>\n",
       "      <td>0</td>\n",
       "      <td>0</td>\n",
       "      <td>0</td>\n",
       "      <td>0</td>\n",
       "      <td>0</td>\n",
       "      <td>0</td>\n",
       "      <td>0</td>\n",
       "      <td>0</td>\n",
       "    </tr>\n",
       "  </tbody>\n",
       "</table>\n",
       "</div>"
      ],
      "text/plain": [
       "   name  department_name  job_title  regular  retro  other  overtime  injured  \\\n",
       "0     0                0          0        0      0      0         0        0   \n",
       "\n",
       "   detail  education  total_earnings  zip_code  year  \n",
       "0       0          0               0         0     0  "
      ]
     },
     "execution_count": 55,
     "metadata": {},
     "output_type": "execute_result"
    }
   ],
   "source": [
    "%%bigquery\n",
    "SELECT\n",
    "  COUNTIF(name IS NULL) AS name,\n",
    "  COUNTIF(department_name IS NULL) AS department_name,\n",
    "  COUNTIF(job_title IS NULL) AS job_title,\n",
    "  COUNTIF(regular IS NULL) AS regular,\n",
    "  COUNTIF(retro IS NULL) AS retro,\n",
    "  COUNTIF(other IS NULL) AS other,\n",
    "  COUNTIF(overtime IS NULL) AS overtime,\n",
    "  COUNTIF(injured IS NULL) AS injured,\n",
    "  COUNTIF(detail IS NULL) AS detail,\n",
    "  COUNTIF(education IS NULL) AS education,\n",
    "  COUNTIF(total_earnings IS NULL) AS total_earnings,\n",
    "  COUNTIF(zip_code IS NULL) AS zip_code,\n",
    "  COUNTIF(year IS NULL) AS year\n",
    "FROM `ba-775-b03.BA_775_Dataset.data_merged_raw`"
   ]
  },
  {
   "cell_type": "markdown",
   "metadata": {},
   "source": [
    "Replacing all the null values"
   ]
  },
  {
   "cell_type": "code",
   "execution_count": 56,
   "metadata": {
    "tags": []
   },
   "outputs": [
    {
     "data": {
      "application/vnd.jupyter.widget-view+json": {
       "model_id": "4564a3af57074011ab7ff934779450ce",
       "version_major": 2,
       "version_minor": 0
      },
      "text/plain": [
       "Query is running:   0%|          |"
      ]
     },
     "metadata": {},
     "output_type": "display_data"
    },
    {
     "data": {
      "text/html": [
       "<div>\n",
       "<style scoped>\n",
       "    .dataframe tbody tr th:only-of-type {\n",
       "        vertical-align: middle;\n",
       "    }\n",
       "\n",
       "    .dataframe tbody tr th {\n",
       "        vertical-align: top;\n",
       "    }\n",
       "\n",
       "    .dataframe thead th {\n",
       "        text-align: right;\n",
       "    }\n",
       "</style>\n",
       "<table border=\"1\" class=\"dataframe\">\n",
       "  <thead>\n",
       "    <tr style=\"text-align: right;\">\n",
       "      <th></th>\n",
       "    </tr>\n",
       "  </thead>\n",
       "  <tbody>\n",
       "  </tbody>\n",
       "</table>\n",
       "</div>"
      ],
      "text/plain": [
       "Empty DataFrame\n",
       "Columns: []\n",
       "Index: []"
      ]
     },
     "execution_count": 56,
     "metadata": {},
     "output_type": "execute_result"
    }
   ],
   "source": [
    "%%bigquery\n",
    "\n",
    "CREATE OR REPLACE TABLE `ba-775-b03.BA_775_Dataset.data_merged_cleaned_joined_zip` AS\n",
    "(\n",
    "SELECT *\n",
    "FROM `ba-775-b03.BA_775_Dataset.data_merged_raw` AS earnings\n",
    "LEFT JOIN `ba-775-b03.BA_775_Dataset.MA_zipcodeda` as zip_code\n",
    "ON earnings.zip_code = zip_code.zip);"
   ]
  },
  {
   "cell_type": "code",
   "execution_count": 57,
   "metadata": {
    "tags": []
   },
   "outputs": [
    {
     "data": {
      "application/vnd.jupyter.widget-view+json": {
       "model_id": "4a05620f06a54e4fa96041fc24c33650",
       "version_major": 2,
       "version_minor": 0
      },
      "text/plain": [
       "Query is running:   0%|          |"
      ]
     },
     "metadata": {},
     "output_type": "display_data"
    },
    {
     "data": {
      "application/vnd.jupyter.widget-view+json": {
       "model_id": "310890dca6164f1aa54def88a12c7524",
       "version_major": 2,
       "version_minor": 0
      },
      "text/plain": [
       "Downloading:   0%|          |"
      ]
     },
     "metadata": {},
     "output_type": "display_data"
    },
    {
     "data": {
      "text/html": [
       "<div>\n",
       "<style scoped>\n",
       "    .dataframe tbody tr th:only-of-type {\n",
       "        vertical-align: middle;\n",
       "    }\n",
       "\n",
       "    .dataframe tbody tr th {\n",
       "        vertical-align: top;\n",
       "    }\n",
       "\n",
       "    .dataframe thead th {\n",
       "        text-align: right;\n",
       "    }\n",
       "</style>\n",
       "<table border=\"1\" class=\"dataframe\">\n",
       "  <thead>\n",
       "    <tr style=\"text-align: right;\">\n",
       "      <th></th>\n",
       "      <th>name</th>\n",
       "      <th>department_name</th>\n",
       "      <th>job_title</th>\n",
       "      <th>regular</th>\n",
       "      <th>retro</th>\n",
       "      <th>other</th>\n",
       "      <th>overtime</th>\n",
       "      <th>injured</th>\n",
       "      <th>detail</th>\n",
       "      <th>education</th>\n",
       "      <th>...</th>\n",
       "      <th>zip</th>\n",
       "      <th>type</th>\n",
       "      <th>primary_city</th>\n",
       "      <th>state</th>\n",
       "      <th>county</th>\n",
       "      <th>timezone</th>\n",
       "      <th>world_region</th>\n",
       "      <th>country</th>\n",
       "      <th>latitude</th>\n",
       "      <th>longitude</th>\n",
       "    </tr>\n",
       "  </thead>\n",
       "  <tbody>\n",
       "    <tr>\n",
       "      <th>0</th>\n",
       "      <td>Gates Joshua</td>\n",
       "      <td>BPS Human Resource Team</td>\n",
       "      <td>Teacher</td>\n",
       "      <td>89306.58</td>\n",
       "      <td>2311.50</td>\n",
       "      <td>1000.00</td>\n",
       "      <td>0.00</td>\n",
       "      <td>0.00</td>\n",
       "      <td>0.0</td>\n",
       "      <td>0.00</td>\n",
       "      <td>...</td>\n",
       "      <td>&lt;NA&gt;</td>\n",
       "      <td>None</td>\n",
       "      <td>None</td>\n",
       "      <td>None</td>\n",
       "      <td>None</td>\n",
       "      <td>None</td>\n",
       "      <td>None</td>\n",
       "      <td>None</td>\n",
       "      <td>NaN</td>\n",
       "      <td>NaN</td>\n",
       "    </tr>\n",
       "    <tr>\n",
       "      <th>1</th>\n",
       "      <td>Zawislak Wanda I</td>\n",
       "      <td>BPS Timilty Middle</td>\n",
       "      <td>Teacher</td>\n",
       "      <td>106236.26</td>\n",
       "      <td>2872.00</td>\n",
       "      <td>0.00</td>\n",
       "      <td>0.00</td>\n",
       "      <td>0.00</td>\n",
       "      <td>0.0</td>\n",
       "      <td>0.00</td>\n",
       "      <td>...</td>\n",
       "      <td>&lt;NA&gt;</td>\n",
       "      <td>None</td>\n",
       "      <td>None</td>\n",
       "      <td>None</td>\n",
       "      <td>None</td>\n",
       "      <td>None</td>\n",
       "      <td>None</td>\n",
       "      <td>None</td>\n",
       "      <td>NaN</td>\n",
       "      <td>NaN</td>\n",
       "    </tr>\n",
       "    <tr>\n",
       "      <th>2</th>\n",
       "      <td>Plummer Abby</td>\n",
       "      <td>BPS Equity</td>\n",
       "      <td>Intern 3</td>\n",
       "      <td>4112.50</td>\n",
       "      <td>0.00</td>\n",
       "      <td>0.00</td>\n",
       "      <td>0.00</td>\n",
       "      <td>0.00</td>\n",
       "      <td>0.0</td>\n",
       "      <td>0.00</td>\n",
       "      <td>...</td>\n",
       "      <td>&lt;NA&gt;</td>\n",
       "      <td>None</td>\n",
       "      <td>None</td>\n",
       "      <td>None</td>\n",
       "      <td>None</td>\n",
       "      <td>None</td>\n",
       "      <td>None</td>\n",
       "      <td>None</td>\n",
       "      <td>NaN</td>\n",
       "      <td>NaN</td>\n",
       "    </tr>\n",
       "    <tr>\n",
       "      <th>3</th>\n",
       "      <td>Pattz Desmond Trevor Wayne</td>\n",
       "      <td>BPS Higginson Elementary</td>\n",
       "      <td>Paraprofessional</td>\n",
       "      <td>0.00</td>\n",
       "      <td>665.03</td>\n",
       "      <td>3077.68</td>\n",
       "      <td>0.00</td>\n",
       "      <td>0.00</td>\n",
       "      <td>0.0</td>\n",
       "      <td>0.00</td>\n",
       "      <td>...</td>\n",
       "      <td>&lt;NA&gt;</td>\n",
       "      <td>None</td>\n",
       "      <td>None</td>\n",
       "      <td>None</td>\n",
       "      <td>None</td>\n",
       "      <td>None</td>\n",
       "      <td>None</td>\n",
       "      <td>None</td>\n",
       "      <td>NaN</td>\n",
       "      <td>NaN</td>\n",
       "    </tr>\n",
       "    <tr>\n",
       "      <th>4</th>\n",
       "      <td>Ambroise Michel c</td>\n",
       "      <td>BPS Substitute Teachers/Nurs</td>\n",
       "      <td>Substitute Teacher</td>\n",
       "      <td>15661.65</td>\n",
       "      <td>88.51</td>\n",
       "      <td>0.00</td>\n",
       "      <td>0.00</td>\n",
       "      <td>0.00</td>\n",
       "      <td>0.0</td>\n",
       "      <td>0.00</td>\n",
       "      <td>...</td>\n",
       "      <td>&lt;NA&gt;</td>\n",
       "      <td>None</td>\n",
       "      <td>None</td>\n",
       "      <td>None</td>\n",
       "      <td>None</td>\n",
       "      <td>None</td>\n",
       "      <td>None</td>\n",
       "      <td>None</td>\n",
       "      <td>NaN</td>\n",
       "      <td>NaN</td>\n",
       "    </tr>\n",
       "    <tr>\n",
       "      <th>...</th>\n",
       "      <td>...</td>\n",
       "      <td>...</td>\n",
       "      <td>...</td>\n",
       "      <td>...</td>\n",
       "      <td>...</td>\n",
       "      <td>...</td>\n",
       "      <td>...</td>\n",
       "      <td>...</td>\n",
       "      <td>...</td>\n",
       "      <td>...</td>\n",
       "      <td>...</td>\n",
       "      <td>...</td>\n",
       "      <td>...</td>\n",
       "      <td>...</td>\n",
       "      <td>...</td>\n",
       "      <td>...</td>\n",
       "      <td>...</td>\n",
       "      <td>...</td>\n",
       "      <td>...</td>\n",
       "      <td>...</td>\n",
       "      <td>...</td>\n",
       "    </tr>\n",
       "    <tr>\n",
       "      <th>114142</th>\n",
       "      <td>Carrasquillo Mayra</td>\n",
       "      <td>Food &amp; Nutrition Svc</td>\n",
       "      <td>Cafeteria Manager 12</td>\n",
       "      <td>46842.35</td>\n",
       "      <td>0.00</td>\n",
       "      <td>3100.00</td>\n",
       "      <td>67.42</td>\n",
       "      <td>0.00</td>\n",
       "      <td>0.0</td>\n",
       "      <td>0.00</td>\n",
       "      <td>...</td>\n",
       "      <td>2302</td>\n",
       "      <td>STANDARD</td>\n",
       "      <td>Brockton</td>\n",
       "      <td>MA</td>\n",
       "      <td>Plymouth County</td>\n",
       "      <td>America/New_York</td>\n",
       "      <td>NA</td>\n",
       "      <td>US</td>\n",
       "      <td>42.09</td>\n",
       "      <td>-71.00</td>\n",
       "    </tr>\n",
       "    <tr>\n",
       "      <th>114143</th>\n",
       "      <td>Serra Christopher A</td>\n",
       "      <td>Boston Fire Department</td>\n",
       "      <td>Fire Fighter</td>\n",
       "      <td>22775.47</td>\n",
       "      <td>0.00</td>\n",
       "      <td>65516.36</td>\n",
       "      <td>2095.21</td>\n",
       "      <td>0.00</td>\n",
       "      <td>0.0</td>\n",
       "      <td>0.00</td>\n",
       "      <td>...</td>\n",
       "      <td>2047</td>\n",
       "      <td>PO BOX</td>\n",
       "      <td>Humarock</td>\n",
       "      <td>MA</td>\n",
       "      <td>Plymouth County</td>\n",
       "      <td>America/New_York</td>\n",
       "      <td>NA</td>\n",
       "      <td>US</td>\n",
       "      <td>42.15</td>\n",
       "      <td>-70.70</td>\n",
       "    </tr>\n",
       "    <tr>\n",
       "      <th>114144</th>\n",
       "      <td>Sullivan Carla</td>\n",
       "      <td>Boston Police Department</td>\n",
       "      <td>Police Detective</td>\n",
       "      <td>106191.97</td>\n",
       "      <td>0.00</td>\n",
       "      <td>12405.70</td>\n",
       "      <td>15372.25</td>\n",
       "      <td>1160.57</td>\n",
       "      <td>55200.0</td>\n",
       "      <td>26838.10</td>\n",
       "      <td>...</td>\n",
       "      <td>2047</td>\n",
       "      <td>PO BOX</td>\n",
       "      <td>Humarock</td>\n",
       "      <td>MA</td>\n",
       "      <td>Plymouth County</td>\n",
       "      <td>America/New_York</td>\n",
       "      <td>NA</td>\n",
       "      <td>US</td>\n",
       "      <td>42.15</td>\n",
       "      <td>-70.70</td>\n",
       "    </tr>\n",
       "    <tr>\n",
       "      <th>114145</th>\n",
       "      <td>Tavares Kim</td>\n",
       "      <td>Boston Police Department</td>\n",
       "      <td>Police Officer</td>\n",
       "      <td>105343.12</td>\n",
       "      <td>0.00</td>\n",
       "      <td>3450.85</td>\n",
       "      <td>58362.74</td>\n",
       "      <td>0.00</td>\n",
       "      <td>0.0</td>\n",
       "      <td>0.00</td>\n",
       "      <td>...</td>\n",
       "      <td>2303</td>\n",
       "      <td>PO BOX</td>\n",
       "      <td>Brockton</td>\n",
       "      <td>MA</td>\n",
       "      <td>Plymouth County</td>\n",
       "      <td>America/New_York</td>\n",
       "      <td>NA</td>\n",
       "      <td>US</td>\n",
       "      <td>42.08</td>\n",
       "      <td>-71.02</td>\n",
       "    </tr>\n",
       "    <tr>\n",
       "      <th>114146</th>\n",
       "      <td>Danilecki John H</td>\n",
       "      <td>Boston Police Department</td>\n",
       "      <td>Police Captain</td>\n",
       "      <td>164100.70</td>\n",
       "      <td>0.00</td>\n",
       "      <td>24504.13</td>\n",
       "      <td>71315.48</td>\n",
       "      <td>0.00</td>\n",
       "      <td>61200.0</td>\n",
       "      <td>41025.08</td>\n",
       "      <td>...</td>\n",
       "      <td>2559</td>\n",
       "      <td>STANDARD</td>\n",
       "      <td>Pocasset</td>\n",
       "      <td>MA</td>\n",
       "      <td>Barnstable County</td>\n",
       "      <td>America/New_York</td>\n",
       "      <td>NA</td>\n",
       "      <td>US</td>\n",
       "      <td>41.69</td>\n",
       "      <td>-70.63</td>\n",
       "    </tr>\n",
       "  </tbody>\n",
       "</table>\n",
       "<p>114147 rows × 23 columns</p>\n",
       "</div>"
      ],
      "text/plain": [
       "                              name               department_name  \\\n",
       "0                     Gates Joshua       BPS Human Resource Team   \n",
       "1                 Zawislak Wanda I            BPS Timilty Middle   \n",
       "2                     Plummer Abby                    BPS Equity   \n",
       "3       Pattz Desmond Trevor Wayne      BPS Higginson Elementary   \n",
       "4                Ambroise Michel c  BPS Substitute Teachers/Nurs   \n",
       "...                            ...                           ...   \n",
       "114142          Carrasquillo Mayra          Food & Nutrition Svc   \n",
       "114143         Serra Christopher A        Boston Fire Department   \n",
       "114144              Sullivan Carla      Boston Police Department   \n",
       "114145                 Tavares Kim      Boston Police Department   \n",
       "114146            Danilecki John H      Boston Police Department   \n",
       "\n",
       "                   job_title    regular    retro     other  overtime  injured  \\\n",
       "0                    Teacher   89306.58  2311.50   1000.00      0.00     0.00   \n",
       "1                    Teacher  106236.26  2872.00      0.00      0.00     0.00   \n",
       "2                   Intern 3    4112.50     0.00      0.00      0.00     0.00   \n",
       "3           Paraprofessional       0.00   665.03   3077.68      0.00     0.00   \n",
       "4         Substitute Teacher   15661.65    88.51      0.00      0.00     0.00   \n",
       "...                      ...        ...      ...       ...       ...      ...   \n",
       "114142  Cafeteria Manager 12   46842.35     0.00   3100.00     67.42     0.00   \n",
       "114143          Fire Fighter   22775.47     0.00  65516.36   2095.21     0.00   \n",
       "114144      Police Detective  106191.97     0.00  12405.70  15372.25  1160.57   \n",
       "114145        Police Officer  105343.12     0.00   3450.85  58362.74     0.00   \n",
       "114146        Police Captain  164100.70     0.00  24504.13  71315.48     0.00   \n",
       "\n",
       "         detail  education  ...   zip      type  primary_city  state  \\\n",
       "0           0.0       0.00  ...  <NA>      None          None   None   \n",
       "1           0.0       0.00  ...  <NA>      None          None   None   \n",
       "2           0.0       0.00  ...  <NA>      None          None   None   \n",
       "3           0.0       0.00  ...  <NA>      None          None   None   \n",
       "4           0.0       0.00  ...  <NA>      None          None   None   \n",
       "...         ...        ...  ...   ...       ...           ...    ...   \n",
       "114142      0.0       0.00  ...  2302  STANDARD      Brockton     MA   \n",
       "114143      0.0       0.00  ...  2047    PO BOX      Humarock     MA   \n",
       "114144  55200.0   26838.10  ...  2047    PO BOX      Humarock     MA   \n",
       "114145      0.0       0.00  ...  2303    PO BOX      Brockton     MA   \n",
       "114146  61200.0   41025.08  ...  2559  STANDARD      Pocasset     MA   \n",
       "\n",
       "                   county          timezone world_region country latitude  \\\n",
       "0                    None              None         None    None      NaN   \n",
       "1                    None              None         None    None      NaN   \n",
       "2                    None              None         None    None      NaN   \n",
       "3                    None              None         None    None      NaN   \n",
       "4                    None              None         None    None      NaN   \n",
       "...                   ...               ...          ...     ...      ...   \n",
       "114142    Plymouth County  America/New_York           NA      US    42.09   \n",
       "114143    Plymouth County  America/New_York           NA      US    42.15   \n",
       "114144    Plymouth County  America/New_York           NA      US    42.15   \n",
       "114145    Plymouth County  America/New_York           NA      US    42.08   \n",
       "114146  Barnstable County  America/New_York           NA      US    41.69   \n",
       "\n",
       "       longitude  \n",
       "0            NaN  \n",
       "1            NaN  \n",
       "2            NaN  \n",
       "3            NaN  \n",
       "4            NaN  \n",
       "...          ...  \n",
       "114142    -71.00  \n",
       "114143    -70.70  \n",
       "114144    -70.70  \n",
       "114145    -71.02  \n",
       "114146    -70.63  \n",
       "\n",
       "[114147 rows x 23 columns]"
      ]
     },
     "execution_count": 57,
     "metadata": {},
     "output_type": "execute_result"
    }
   ],
   "source": [
    "%%bigquery\n",
    "SELECT *\n",
    "FROM `ba-775-b03.BA_775_Dataset.data_merged_cleaned_joined_zip`"
   ]
  },
  {
   "cell_type": "code",
   "execution_count": 58,
   "metadata": {
    "tags": []
   },
   "outputs": [
    {
     "data": {
      "application/vnd.jupyter.widget-view+json": {
       "model_id": "be75f7b2be664b09bf4ca87c572698ae",
       "version_major": 2,
       "version_minor": 0
      },
      "text/plain": [
       "Query is running:   0%|          |"
      ]
     },
     "metadata": {},
     "output_type": "display_data"
    },
    {
     "data": {
      "application/vnd.jupyter.widget-view+json": {
       "model_id": "b7cc17302a4d4cdf95b209105319abb3",
       "version_major": 2,
       "version_minor": 0
      },
      "text/plain": [
       "Downloading:   0%|          |"
      ]
     },
     "metadata": {},
     "output_type": "display_data"
    },
    {
     "data": {
      "text/html": [
       "<div>\n",
       "<style scoped>\n",
       "    .dataframe tbody tr th:only-of-type {\n",
       "        vertical-align: middle;\n",
       "    }\n",
       "\n",
       "    .dataframe tbody tr th {\n",
       "        vertical-align: top;\n",
       "    }\n",
       "\n",
       "    .dataframe thead th {\n",
       "        text-align: right;\n",
       "    }\n",
       "</style>\n",
       "<table border=\"1\" class=\"dataframe\">\n",
       "  <thead>\n",
       "    <tr style=\"text-align: right;\">\n",
       "      <th></th>\n",
       "      <th>name</th>\n",
       "      <th>department_name</th>\n",
       "      <th>job_title</th>\n",
       "      <th>regular</th>\n",
       "      <th>retro</th>\n",
       "      <th>other</th>\n",
       "      <th>overtime</th>\n",
       "      <th>injured</th>\n",
       "      <th>detail</th>\n",
       "      <th>education</th>\n",
       "      <th>total_earnings</th>\n",
       "      <th>zip_code</th>\n",
       "      <th>year</th>\n",
       "      <th>zip</th>\n",
       "    </tr>\n",
       "  </thead>\n",
       "  <tbody>\n",
       "    <tr>\n",
       "      <th>0</th>\n",
       "      <td>0</td>\n",
       "      <td>0</td>\n",
       "      <td>0</td>\n",
       "      <td>0</td>\n",
       "      <td>0</td>\n",
       "      <td>0</td>\n",
       "      <td>0</td>\n",
       "      <td>0</td>\n",
       "      <td>0</td>\n",
       "      <td>0</td>\n",
       "      <td>0</td>\n",
       "      <td>0</td>\n",
       "      <td>0</td>\n",
       "      <td>1730</td>\n",
       "    </tr>\n",
       "  </tbody>\n",
       "</table>\n",
       "</div>"
      ],
      "text/plain": [
       "   name  department_name  job_title  regular  retro  other  overtime  injured  \\\n",
       "0     0                0          0        0      0      0         0        0   \n",
       "\n",
       "   detail  education  total_earnings  zip_code  year   zip  \n",
       "0       0          0               0         0     0  1730  "
      ]
     },
     "execution_count": 58,
     "metadata": {},
     "output_type": "execute_result"
    }
   ],
   "source": [
    "%%bigquery\n",
    "\n",
    "SELECT\n",
    "  COUNTIF(name IS NULL) AS name,\n",
    "  COUNTIF(department_name IS NULL) AS department_name,\n",
    "  COUNTIF(job_title IS NULL) AS job_title,\n",
    "  COUNTIF(regular IS NULL) AS regular,\n",
    "  COUNTIF(retro IS NULL) AS retro,\n",
    "  COUNTIF(other IS NULL) AS other,\n",
    "  COUNTIF(overtime IS NULL) AS overtime,\n",
    "  COUNTIF(injured IS NULL) AS injured,\n",
    "  COUNTIF(detail IS NULL) AS detail,\n",
    "  COUNTIF(education IS NULL) AS education,\n",
    "  COUNTIF(total_earnings IS NULL) AS total_earnings,\n",
    "  COUNTIF(zip_code IS NULL) AS zip_code,\n",
    "  COUNTIF(year IS NULL) AS year,\n",
    "  COUNTIF(zip IS NULL) AS zip\n",
    "FROM `ba-775-b03.BA_775_Dataset.data_merged_cleaned_joined_zip`;"
   ]
  },
  {
   "cell_type": "markdown",
   "metadata": {},
   "source": [
    "1731 outside mass; add more insights"
   ]
  },
  {
   "cell_type": "code",
   "execution_count": 59,
   "metadata": {
    "tags": []
   },
   "outputs": [
    {
     "data": {
      "application/vnd.jupyter.widget-view+json": {
       "model_id": "238400dae8af4230bf399af787282e2d",
       "version_major": 2,
       "version_minor": 0
      },
      "text/plain": [
       "Query is running:   0%|          |"
      ]
     },
     "metadata": {},
     "output_type": "display_data"
    },
    {
     "data": {
      "text/html": [
       "<div>\n",
       "<style scoped>\n",
       "    .dataframe tbody tr th:only-of-type {\n",
       "        vertical-align: middle;\n",
       "    }\n",
       "\n",
       "    .dataframe tbody tr th {\n",
       "        vertical-align: top;\n",
       "    }\n",
       "\n",
       "    .dataframe thead th {\n",
       "        text-align: right;\n",
       "    }\n",
       "</style>\n",
       "<table border=\"1\" class=\"dataframe\">\n",
       "  <thead>\n",
       "    <tr style=\"text-align: right;\">\n",
       "      <th></th>\n",
       "    </tr>\n",
       "  </thead>\n",
       "  <tbody>\n",
       "  </tbody>\n",
       "</table>\n",
       "</div>"
      ],
      "text/plain": [
       "Empty DataFrame\n",
       "Columns: []\n",
       "Index: []"
      ]
     },
     "execution_count": 59,
     "metadata": {},
     "output_type": "execute_result"
    }
   ],
   "source": [
    "%%bigquery\n",
    "\n",
    "DELETE FROM `ba-775-b03.BA_775_Dataset.data_merged_cleaned_joined_zip`\n",
    "WHERE ZIP IS NULL;\n",
    "\n",
    "CREATE OR REPLACE TABLE `ba-775-b03.BA_775_Dataset.data_final` AS\n",
    "(SELECT *\n",
    "FROM `ba-775-b03.BA_775_Dataset.data_merged_cleaned_joined_zip`);"
   ]
  },
  {
   "cell_type": "code",
   "execution_count": 60,
   "metadata": {
    "tags": []
   },
   "outputs": [
    {
     "data": {
      "application/vnd.jupyter.widget-view+json": {
       "model_id": "c3f5892dba6149458030b4de4ee7e24a",
       "version_major": 2,
       "version_minor": 0
      },
      "text/plain": [
       "Query is running:   0%|          |"
      ]
     },
     "metadata": {},
     "output_type": "display_data"
    },
    {
     "data": {
      "application/vnd.jupyter.widget-view+json": {
       "model_id": "a3d06d31c3444f099de2b73923292baa",
       "version_major": 2,
       "version_minor": 0
      },
      "text/plain": [
       "Downloading:   0%|          |"
      ]
     },
     "metadata": {},
     "output_type": "display_data"
    },
    {
     "data": {
      "text/html": [
       "<div>\n",
       "<style scoped>\n",
       "    .dataframe tbody tr th:only-of-type {\n",
       "        vertical-align: middle;\n",
       "    }\n",
       "\n",
       "    .dataframe tbody tr th {\n",
       "        vertical-align: top;\n",
       "    }\n",
       "\n",
       "    .dataframe thead th {\n",
       "        text-align: right;\n",
       "    }\n",
       "</style>\n",
       "<table border=\"1\" class=\"dataframe\">\n",
       "  <thead>\n",
       "    <tr style=\"text-align: right;\">\n",
       "      <th></th>\n",
       "      <th>name</th>\n",
       "      <th>department_name</th>\n",
       "      <th>job_title</th>\n",
       "      <th>regular</th>\n",
       "      <th>retro</th>\n",
       "      <th>other</th>\n",
       "      <th>overtime</th>\n",
       "      <th>injured</th>\n",
       "      <th>detail</th>\n",
       "      <th>education</th>\n",
       "      <th>...</th>\n",
       "      <th>zip</th>\n",
       "      <th>type</th>\n",
       "      <th>primary_city</th>\n",
       "      <th>state</th>\n",
       "      <th>county</th>\n",
       "      <th>timezone</th>\n",
       "      <th>world_region</th>\n",
       "      <th>country</th>\n",
       "      <th>latitude</th>\n",
       "      <th>longitude</th>\n",
       "    </tr>\n",
       "  </thead>\n",
       "  <tbody>\n",
       "    <tr>\n",
       "      <th>0</th>\n",
       "      <td>Flores Ty-Juana L</td>\n",
       "      <td>Office of Arts &amp; Culture</td>\n",
       "      <td>Dir</td>\n",
       "      <td>5006.83</td>\n",
       "      <td>0.00</td>\n",
       "      <td>0.00</td>\n",
       "      <td>0.00</td>\n",
       "      <td>0.0</td>\n",
       "      <td>0.0</td>\n",
       "      <td>0.0</td>\n",
       "      <td>...</td>\n",
       "      <td>2121</td>\n",
       "      <td>STANDARD</td>\n",
       "      <td>Dorchester</td>\n",
       "      <td>MA</td>\n",
       "      <td>Suffolk County</td>\n",
       "      <td>America/New_York</td>\n",
       "      <td>NA</td>\n",
       "      <td>US</td>\n",
       "      <td>42.31</td>\n",
       "      <td>-71.09</td>\n",
       "    </tr>\n",
       "    <tr>\n",
       "      <th>1</th>\n",
       "      <td>Flores Ty-Juana L</td>\n",
       "      <td>Office of Arts &amp; Culture</td>\n",
       "      <td>Dir</td>\n",
       "      <td>30040.96</td>\n",
       "      <td>0.00</td>\n",
       "      <td>0.00</td>\n",
       "      <td>0.00</td>\n",
       "      <td>0.0</td>\n",
       "      <td>0.0</td>\n",
       "      <td>0.0</td>\n",
       "      <td>...</td>\n",
       "      <td>2121</td>\n",
       "      <td>STANDARD</td>\n",
       "      <td>Dorchester</td>\n",
       "      <td>MA</td>\n",
       "      <td>Suffolk County</td>\n",
       "      <td>America/New_York</td>\n",
       "      <td>NA</td>\n",
       "      <td>US</td>\n",
       "      <td>42.31</td>\n",
       "      <td>-71.09</td>\n",
       "    </tr>\n",
       "    <tr>\n",
       "      <th>2</th>\n",
       "      <td>Smith Wesley Drew</td>\n",
       "      <td>Treasury-Treasury Division</td>\n",
       "      <td>Dir</td>\n",
       "      <td>86307.70</td>\n",
       "      <td>0.00</td>\n",
       "      <td>19450.55</td>\n",
       "      <td>0.00</td>\n",
       "      <td>0.0</td>\n",
       "      <td>0.0</td>\n",
       "      <td>0.0</td>\n",
       "      <td>...</td>\n",
       "      <td>2122</td>\n",
       "      <td>STANDARD</td>\n",
       "      <td>Dorchester</td>\n",
       "      <td>MA</td>\n",
       "      <td>Suffolk County</td>\n",
       "      <td>America/New_York</td>\n",
       "      <td>NA</td>\n",
       "      <td>US</td>\n",
       "      <td>42.29</td>\n",
       "      <td>-71.04</td>\n",
       "    </tr>\n",
       "    <tr>\n",
       "      <th>3</th>\n",
       "      <td>Smith Wesley Drew</td>\n",
       "      <td>Treasury-Treasury Division</td>\n",
       "      <td>Dir</td>\n",
       "      <td>130576.93</td>\n",
       "      <td>0.00</td>\n",
       "      <td>2500.00</td>\n",
       "      <td>0.00</td>\n",
       "      <td>0.0</td>\n",
       "      <td>0.0</td>\n",
       "      <td>0.0</td>\n",
       "      <td>...</td>\n",
       "      <td>2122</td>\n",
       "      <td>STANDARD</td>\n",
       "      <td>Dorchester</td>\n",
       "      <td>MA</td>\n",
       "      <td>Suffolk County</td>\n",
       "      <td>America/New_York</td>\n",
       "      <td>NA</td>\n",
       "      <td>US</td>\n",
       "      <td>42.29</td>\n",
       "      <td>-71.04</td>\n",
       "    </tr>\n",
       "    <tr>\n",
       "      <th>4</th>\n",
       "      <td>Costello Megan</td>\n",
       "      <td>Women's Advancement</td>\n",
       "      <td>Dir</td>\n",
       "      <td>53540.36</td>\n",
       "      <td>880.96</td>\n",
       "      <td>4756.04</td>\n",
       "      <td>0.00</td>\n",
       "      <td>0.0</td>\n",
       "      <td>0.0</td>\n",
       "      <td>0.0</td>\n",
       "      <td>...</td>\n",
       "      <td>2122</td>\n",
       "      <td>STANDARD</td>\n",
       "      <td>Dorchester</td>\n",
       "      <td>MA</td>\n",
       "      <td>Suffolk County</td>\n",
       "      <td>America/New_York</td>\n",
       "      <td>NA</td>\n",
       "      <td>US</td>\n",
       "      <td>42.29</td>\n",
       "      <td>-71.04</td>\n",
       "    </tr>\n",
       "    <tr>\n",
       "      <th>...</th>\n",
       "      <td>...</td>\n",
       "      <td>...</td>\n",
       "      <td>...</td>\n",
       "      <td>...</td>\n",
       "      <td>...</td>\n",
       "      <td>...</td>\n",
       "      <td>...</td>\n",
       "      <td>...</td>\n",
       "      <td>...</td>\n",
       "      <td>...</td>\n",
       "      <td>...</td>\n",
       "      <td>...</td>\n",
       "      <td>...</td>\n",
       "      <td>...</td>\n",
       "      <td>...</td>\n",
       "      <td>...</td>\n",
       "      <td>...</td>\n",
       "      <td>...</td>\n",
       "      <td>...</td>\n",
       "      <td>...</td>\n",
       "      <td>...</td>\n",
       "    </tr>\n",
       "    <tr>\n",
       "      <th>112412</th>\n",
       "      <td>Conward-Lewis Breannah</td>\n",
       "      <td>Youth Engagement &amp; Employment</td>\n",
       "      <td>Yth &amp; Career Development Coord</td>\n",
       "      <td>2799.91</td>\n",
       "      <td>98.13</td>\n",
       "      <td>3919.89</td>\n",
       "      <td>53.33</td>\n",
       "      <td>0.0</td>\n",
       "      <td>0.0</td>\n",
       "      <td>0.0</td>\n",
       "      <td>...</td>\n",
       "      <td>2125</td>\n",
       "      <td>STANDARD</td>\n",
       "      <td>Dorchester</td>\n",
       "      <td>MA</td>\n",
       "      <td>Suffolk County</td>\n",
       "      <td>America/New_York</td>\n",
       "      <td>NA</td>\n",
       "      <td>US</td>\n",
       "      <td>42.32</td>\n",
       "      <td>-71.06</td>\n",
       "    </tr>\n",
       "    <tr>\n",
       "      <th>112413</th>\n",
       "      <td>Conward-Lewis Breannah</td>\n",
       "      <td>Youth Engagement &amp; Employment</td>\n",
       "      <td>Yth &amp; Career Development Coord</td>\n",
       "      <td>37292.24</td>\n",
       "      <td>0.00</td>\n",
       "      <td>0.00</td>\n",
       "      <td>1239.96</td>\n",
       "      <td>0.0</td>\n",
       "      <td>0.0</td>\n",
       "      <td>0.0</td>\n",
       "      <td>...</td>\n",
       "      <td>2125</td>\n",
       "      <td>STANDARD</td>\n",
       "      <td>Dorchester</td>\n",
       "      <td>MA</td>\n",
       "      <td>Suffolk County</td>\n",
       "      <td>America/New_York</td>\n",
       "      <td>NA</td>\n",
       "      <td>US</td>\n",
       "      <td>42.32</td>\n",
       "      <td>-71.06</td>\n",
       "    </tr>\n",
       "    <tr>\n",
       "      <th>112414</th>\n",
       "      <td>Raciukaitis Lina Ona</td>\n",
       "      <td>Boston Public Library</td>\n",
       "      <td>Yth Educational Outreach Coord</td>\n",
       "      <td>35734.54</td>\n",
       "      <td>0.00</td>\n",
       "      <td>0.00</td>\n",
       "      <td>0.00</td>\n",
       "      <td>0.0</td>\n",
       "      <td>0.0</td>\n",
       "      <td>0.0</td>\n",
       "      <td>...</td>\n",
       "      <td>2134</td>\n",
       "      <td>STANDARD</td>\n",
       "      <td>Allston</td>\n",
       "      <td>MA</td>\n",
       "      <td>Suffolk County</td>\n",
       "      <td>America/New_York</td>\n",
       "      <td>NA</td>\n",
       "      <td>US</td>\n",
       "      <td>42.35</td>\n",
       "      <td>-71.13</td>\n",
       "    </tr>\n",
       "    <tr>\n",
       "      <th>112415</th>\n",
       "      <td>Raciukaitis Lina Ona</td>\n",
       "      <td>Boston Public Library</td>\n",
       "      <td>Yth Educational Outreach Coord</td>\n",
       "      <td>18726.98</td>\n",
       "      <td>0.00</td>\n",
       "      <td>5268.71</td>\n",
       "      <td>0.00</td>\n",
       "      <td>0.0</td>\n",
       "      <td>0.0</td>\n",
       "      <td>0.0</td>\n",
       "      <td>...</td>\n",
       "      <td>2134</td>\n",
       "      <td>STANDARD</td>\n",
       "      <td>Allston</td>\n",
       "      <td>MA</td>\n",
       "      <td>Suffolk County</td>\n",
       "      <td>America/New_York</td>\n",
       "      <td>NA</td>\n",
       "      <td>US</td>\n",
       "      <td>42.35</td>\n",
       "      <td>-71.13</td>\n",
       "    </tr>\n",
       "    <tr>\n",
       "      <th>112416</th>\n",
       "      <td>Raciukaitis Lina Ona</td>\n",
       "      <td>Boston Public Library</td>\n",
       "      <td>Yth Educational Outreach Coord</td>\n",
       "      <td>30715.80</td>\n",
       "      <td>0.00</td>\n",
       "      <td>0.00</td>\n",
       "      <td>0.00</td>\n",
       "      <td>0.0</td>\n",
       "      <td>0.0</td>\n",
       "      <td>0.0</td>\n",
       "      <td>...</td>\n",
       "      <td>2134</td>\n",
       "      <td>STANDARD</td>\n",
       "      <td>Allston</td>\n",
       "      <td>MA</td>\n",
       "      <td>Suffolk County</td>\n",
       "      <td>America/New_York</td>\n",
       "      <td>NA</td>\n",
       "      <td>US</td>\n",
       "      <td>42.35</td>\n",
       "      <td>-71.13</td>\n",
       "    </tr>\n",
       "  </tbody>\n",
       "</table>\n",
       "<p>112417 rows × 23 columns</p>\n",
       "</div>"
      ],
      "text/plain": [
       "                          name                department_name  \\\n",
       "0            Flores Ty-Juana L       Office of Arts & Culture   \n",
       "1            Flores Ty-Juana L       Office of Arts & Culture   \n",
       "2            Smith Wesley Drew     Treasury-Treasury Division   \n",
       "3            Smith Wesley Drew     Treasury-Treasury Division   \n",
       "4               Costello Megan            Women's Advancement   \n",
       "...                        ...                            ...   \n",
       "112412  Conward-Lewis Breannah  Youth Engagement & Employment   \n",
       "112413  Conward-Lewis Breannah  Youth Engagement & Employment   \n",
       "112414    Raciukaitis Lina Ona          Boston Public Library   \n",
       "112415    Raciukaitis Lina Ona          Boston Public Library   \n",
       "112416    Raciukaitis Lina Ona          Boston Public Library   \n",
       "\n",
       "                             job_title    regular   retro     other  overtime  \\\n",
       "0                                  Dir    5006.83    0.00      0.00      0.00   \n",
       "1                                  Dir   30040.96    0.00      0.00      0.00   \n",
       "2                                  Dir   86307.70    0.00  19450.55      0.00   \n",
       "3                                  Dir  130576.93    0.00   2500.00      0.00   \n",
       "4                                  Dir   53540.36  880.96   4756.04      0.00   \n",
       "...                                ...        ...     ...       ...       ...   \n",
       "112412  Yth & Career Development Coord    2799.91   98.13   3919.89     53.33   \n",
       "112413  Yth & Career Development Coord   37292.24    0.00      0.00   1239.96   \n",
       "112414  Yth Educational Outreach Coord   35734.54    0.00      0.00      0.00   \n",
       "112415  Yth Educational Outreach Coord   18726.98    0.00   5268.71      0.00   \n",
       "112416  Yth Educational Outreach Coord   30715.80    0.00      0.00      0.00   \n",
       "\n",
       "        injured  detail  education  ...   zip      type  primary_city  state  \\\n",
       "0           0.0     0.0        0.0  ...  2121  STANDARD    Dorchester     MA   \n",
       "1           0.0     0.0        0.0  ...  2121  STANDARD    Dorchester     MA   \n",
       "2           0.0     0.0        0.0  ...  2122  STANDARD    Dorchester     MA   \n",
       "3           0.0     0.0        0.0  ...  2122  STANDARD    Dorchester     MA   \n",
       "4           0.0     0.0        0.0  ...  2122  STANDARD    Dorchester     MA   \n",
       "...         ...     ...        ...  ...   ...       ...           ...    ...   \n",
       "112412      0.0     0.0        0.0  ...  2125  STANDARD    Dorchester     MA   \n",
       "112413      0.0     0.0        0.0  ...  2125  STANDARD    Dorchester     MA   \n",
       "112414      0.0     0.0        0.0  ...  2134  STANDARD       Allston     MA   \n",
       "112415      0.0     0.0        0.0  ...  2134  STANDARD       Allston     MA   \n",
       "112416      0.0     0.0        0.0  ...  2134  STANDARD       Allston     MA   \n",
       "\n",
       "                county          timezone world_region country latitude  \\\n",
       "0       Suffolk County  America/New_York           NA      US    42.31   \n",
       "1       Suffolk County  America/New_York           NA      US    42.31   \n",
       "2       Suffolk County  America/New_York           NA      US    42.29   \n",
       "3       Suffolk County  America/New_York           NA      US    42.29   \n",
       "4       Suffolk County  America/New_York           NA      US    42.29   \n",
       "...                ...               ...          ...     ...      ...   \n",
       "112412  Suffolk County  America/New_York           NA      US    42.32   \n",
       "112413  Suffolk County  America/New_York           NA      US    42.32   \n",
       "112414  Suffolk County  America/New_York           NA      US    42.35   \n",
       "112415  Suffolk County  America/New_York           NA      US    42.35   \n",
       "112416  Suffolk County  America/New_York           NA      US    42.35   \n",
       "\n",
       "       longitude  \n",
       "0         -71.09  \n",
       "1         -71.09  \n",
       "2         -71.04  \n",
       "3         -71.04  \n",
       "4         -71.04  \n",
       "...          ...  \n",
       "112412    -71.06  \n",
       "112413    -71.06  \n",
       "112414    -71.13  \n",
       "112415    -71.13  \n",
       "112416    -71.13  \n",
       "\n",
       "[112417 rows x 23 columns]"
      ]
     },
     "execution_count": 60,
     "metadata": {},
     "output_type": "execute_result"
    }
   ],
   "source": [
    "%%bigquery\n",
    "\n",
    "SELECT *\n",
    "FROM `ba-775-b03.BA_775_Dataset.data_final`"
   ]
  },
  {
   "cell_type": "markdown",
   "metadata": {},
   "source": [
    "By dropping all the null values, we have eliminated 1730 observations, the ones that do not registered a valid zip code"
   ]
  },
  {
   "cell_type": "markdown",
   "metadata": {
    "tags": []
   },
   "source": [
    "# **Questions and Analysis**"
   ]
  },
  {
   "cell_type": "markdown",
   "metadata": {},
   "source": [
    "In this section, we will analyze the cleaned dataset to gain insights."
   ]
  },
  {
   "cell_type": "markdown",
   "metadata": {},
   "source": [
    "## Storyline:"
   ]
  },
  {
   "cell_type": "markdown",
   "metadata": {},
   "source": [
    "## **Section 1: Year-wise breakdown**"
   ]
  },
  {
   "cell_type": "markdown",
   "metadata": {},
   "source": [
    "### **Question 1**"
   ]
  },
  {
   "cell_type": "markdown",
   "metadata": {},
   "source": [
    "### **Question 2**"
   ]
  },
  {
   "cell_type": "markdown",
   "metadata": {},
   "source": [
    "### **Question 3**"
   ]
  },
  {
   "cell_type": "markdown",
   "metadata": {},
   "source": [
    "### **Question 4**"
   ]
  },
  {
   "cell_type": "markdown",
   "metadata": {},
   "source": [
    "## **Section 2: Department-wise breakdown**"
   ]
  },
  {
   "cell_type": "markdown",
   "metadata": {},
   "source": [
    "### **Question 1:** How do the number of employees and median salaries across different departments correlate with the allocation of their pay components (regular, retroactive, other, and overtime) in millions, and which department exhibits the highest median earnings per employee, indicating potentially efficient budget utilization?"
   ]
  },
  {
   "cell_type": "code",
   "execution_count": 61,
   "metadata": {
    "tags": []
   },
   "outputs": [
    {
     "data": {
      "application/vnd.jupyter.widget-view+json": {
       "model_id": "4f90613af7734b049681f2c0aa2d8f81",
       "version_major": 2,
       "version_minor": 0
      },
      "text/plain": [
       "Query is running:   0%|          |"
      ]
     },
     "metadata": {},
     "output_type": "display_data"
    },
    {
     "data": {
      "application/vnd.jupyter.widget-view+json": {
       "model_id": "4d06ae6008ea4ed98590dd3a89ae1e10",
       "version_major": 2,
       "version_minor": 0
      },
      "text/plain": [
       "Downloading:   0%|          |"
      ]
     },
     "metadata": {},
     "output_type": "display_data"
    },
    {
     "data": {
      "text/html": [
       "<div>\n",
       "<style scoped>\n",
       "    .dataframe tbody tr th:only-of-type {\n",
       "        vertical-align: middle;\n",
       "    }\n",
       "\n",
       "    .dataframe tbody tr th {\n",
       "        vertical-align: top;\n",
       "    }\n",
       "\n",
       "    .dataframe thead th {\n",
       "        text-align: right;\n",
       "    }\n",
       "</style>\n",
       "<table border=\"1\" class=\"dataframe\">\n",
       "  <thead>\n",
       "    <tr style=\"text-align: right;\">\n",
       "      <th></th>\n",
       "      <th>department_name</th>\n",
       "      <th>number_of_employees</th>\n",
       "      <th>total_regular_pay_in_millions</th>\n",
       "      <th>total_retro_pay_in_millions</th>\n",
       "      <th>total_other_pay_in_millions</th>\n",
       "      <th>total_overtime_pay_in_millions</th>\n",
       "      <th>total_earnings_in_millions</th>\n",
       "      <th>median_salary_in_millions</th>\n",
       "    </tr>\n",
       "  </thead>\n",
       "  <tbody>\n",
       "    <tr>\n",
       "      <th>0</th>\n",
       "      <td>Boston Police Department</td>\n",
       "      <td>15514</td>\n",
       "      <td>1184.136641</td>\n",
       "      <td>9.113784</td>\n",
       "      <td>85.359261</td>\n",
       "      <td>380.489221</td>\n",
       "      <td>1659.10</td>\n",
       "      <td>0.11</td>\n",
       "    </tr>\n",
       "    <tr>\n",
       "      <th>1</th>\n",
       "      <td>Boston Fire Department</td>\n",
       "      <td>8540</td>\n",
       "      <td>946.028466</td>\n",
       "      <td>17.779547</td>\n",
       "      <td>41.359242</td>\n",
       "      <td>169.558076</td>\n",
       "      <td>1174.73</td>\n",
       "      <td>0.14</td>\n",
       "    </tr>\n",
       "    <tr>\n",
       "      <th>2</th>\n",
       "      <td>BPS Special Education</td>\n",
       "      <td>4097</td>\n",
       "      <td>256.370650</td>\n",
       "      <td>2.716519</td>\n",
       "      <td>5.654851</td>\n",
       "      <td>0.104827</td>\n",
       "      <td>264.85</td>\n",
       "      <td>0.05</td>\n",
       "    </tr>\n",
       "    <tr>\n",
       "      <th>3</th>\n",
       "      <td>BPS Facility Management</td>\n",
       "      <td>2948</td>\n",
       "      <td>132.395731</td>\n",
       "      <td>1.255610</td>\n",
       "      <td>5.361500</td>\n",
       "      <td>10.443515</td>\n",
       "      <td>149.46</td>\n",
       "      <td>0.06</td>\n",
       "    </tr>\n",
       "    <tr>\n",
       "      <th>4</th>\n",
       "      <td>Boston Public Library</td>\n",
       "      <td>2496</td>\n",
       "      <td>137.077742</td>\n",
       "      <td>1.834487</td>\n",
       "      <td>3.032512</td>\n",
       "      <td>2.641883</td>\n",
       "      <td>144.59</td>\n",
       "      <td>0.06</td>\n",
       "    </tr>\n",
       "    <tr>\n",
       "      <th>5</th>\n",
       "      <td>Public Works Department</td>\n",
       "      <td>2057</td>\n",
       "      <td>105.470333</td>\n",
       "      <td>1.102356</td>\n",
       "      <td>2.369946</td>\n",
       "      <td>21.982451</td>\n",
       "      <td>130.93</td>\n",
       "      <td>0.06</td>\n",
       "    </tr>\n",
       "    <tr>\n",
       "      <th>6</th>\n",
       "      <td>Boston Cntr - Youth &amp; Families</td>\n",
       "      <td>2265</td>\n",
       "      <td>105.058821</td>\n",
       "      <td>0.817317</td>\n",
       "      <td>2.320374</td>\n",
       "      <td>1.516634</td>\n",
       "      <td>109.71</td>\n",
       "      <td>0.05</td>\n",
       "    </tr>\n",
       "    <tr>\n",
       "      <th>7</th>\n",
       "      <td>Traffic Division</td>\n",
       "      <td>1761</td>\n",
       "      <td>95.965151</td>\n",
       "      <td>0.895647</td>\n",
       "      <td>2.047477</td>\n",
       "      <td>8.156571</td>\n",
       "      <td>107.06</td>\n",
       "      <td>0.06</td>\n",
       "    </tr>\n",
       "    <tr>\n",
       "      <th>8</th>\n",
       "      <td>BPS Madison Park High</td>\n",
       "      <td>1143</td>\n",
       "      <td>86.637333</td>\n",
       "      <td>0.768595</td>\n",
       "      <td>3.074336</td>\n",
       "      <td>0.056003</td>\n",
       "      <td>90.54</td>\n",
       "      <td>0.09</td>\n",
       "    </tr>\n",
       "    <tr>\n",
       "      <th>9</th>\n",
       "      <td>Inspectional Services Dept</td>\n",
       "      <td>1113</td>\n",
       "      <td>76.165305</td>\n",
       "      <td>0.788774</td>\n",
       "      <td>2.788521</td>\n",
       "      <td>8.716531</td>\n",
       "      <td>88.46</td>\n",
       "      <td>0.08</td>\n",
       "    </tr>\n",
       "  </tbody>\n",
       "</table>\n",
       "</div>"
      ],
      "text/plain": [
       "                  department_name  number_of_employees  \\\n",
       "0        Boston Police Department                15514   \n",
       "1          Boston Fire Department                 8540   \n",
       "2           BPS Special Education                 4097   \n",
       "3         BPS Facility Management                 2948   \n",
       "4           Boston Public Library                 2496   \n",
       "5         Public Works Department                 2057   \n",
       "6  Boston Cntr - Youth & Families                 2265   \n",
       "7                Traffic Division                 1761   \n",
       "8           BPS Madison Park High                 1143   \n",
       "9      Inspectional Services Dept                 1113   \n",
       "\n",
       "   total_regular_pay_in_millions  total_retro_pay_in_millions  \\\n",
       "0                    1184.136641                     9.113784   \n",
       "1                     946.028466                    17.779547   \n",
       "2                     256.370650                     2.716519   \n",
       "3                     132.395731                     1.255610   \n",
       "4                     137.077742                     1.834487   \n",
       "5                     105.470333                     1.102356   \n",
       "6                     105.058821                     0.817317   \n",
       "7                      95.965151                     0.895647   \n",
       "8                      86.637333                     0.768595   \n",
       "9                      76.165305                     0.788774   \n",
       "\n",
       "   total_other_pay_in_millions  total_overtime_pay_in_millions  \\\n",
       "0                    85.359261                      380.489221   \n",
       "1                    41.359242                      169.558076   \n",
       "2                     5.654851                        0.104827   \n",
       "3                     5.361500                       10.443515   \n",
       "4                     3.032512                        2.641883   \n",
       "5                     2.369946                       21.982451   \n",
       "6                     2.320374                        1.516634   \n",
       "7                     2.047477                        8.156571   \n",
       "8                     3.074336                        0.056003   \n",
       "9                     2.788521                        8.716531   \n",
       "\n",
       "   total_earnings_in_millions  median_salary_in_millions  \n",
       "0                     1659.10                       0.11  \n",
       "1                     1174.73                       0.14  \n",
       "2                      264.85                       0.05  \n",
       "3                      149.46                       0.06  \n",
       "4                      144.59                       0.06  \n",
       "5                      130.93                       0.06  \n",
       "6                      109.71                       0.05  \n",
       "7                      107.06                       0.06  \n",
       "8                       90.54                       0.09  \n",
       "9                       88.46                       0.08  "
      ]
     },
     "execution_count": 61,
     "metadata": {},
     "output_type": "execute_result"
    }
   ],
   "source": [
    "%%bigquery\n",
    "WITH MedianSalaries AS (\n",
    "SELECT\n",
    "  department_name,\n",
    "  APPROX_QUANTILES((regular + IFNULL(retro, 0) + IFNULL(other, 0) + IFNULL(overtime, 0)), 2)[OFFSET(1)] AS median_salary\n",
    "FROM `ba-775-b03.BA_775_Dataset.data_final`\n",
    "GROUP BY\n",
    "  department_name\n",
    ")\n",
    "SELECT\n",
    "ms.department_name,\n",
    "COUNT(e.name) AS number_of_employees,\n",
    "SUM(e.regular) / 1000000 AS total_regular_pay_in_millions,\n",
    "SUM(e.retro) / 1000000 AS total_retro_pay_in_millions,\n",
    "SUM(e.other) / 1000000 AS total_other_pay_in_millions,\n",
    "SUM(e.overtime) / 1000000 AS total_overtime_pay_in_millions,\n",
    "ROUND(SUM(e.regular + IFNULL(e.retro, 0) + IFNULL(e.other, 0) + IFNULL(e.overtime, 0)) / 1000000, 2) AS total_earnings_in_millions,\n",
    "ROUND(ms.median_salary / 1000000, 2) AS median_salary_in_millions\n",
    "FROM `ba-775-b03.BA_775_Dataset.data_final` e\n",
    "JOIN\n",
    "MedianSalaries ms ON e.department_name = ms.department_name\n",
    "GROUP BY\n",
    "ms.department_name, ms.median_salary\n",
    "ORDER BY\n",
    "total_earnings_in_millions DESC\n",
    "LIMIT 10;"
   ]
  },
  {
   "cell_type": "markdown",
   "metadata": {},
   "source": [
    "**Answer**: \n",
    "A higher median salary can indicate a department's commitment to competitive compensation, which can be essential for retaining talent. For example, the Boston Fire Department shows a median salary of USD 0.14 million, which is higher than that of the Boston Police Department at USD 0.11 million, despite the latter having a higher total earnings figure. This might suggest that the Fire Department has a more concentrated distribution of compensation towards the median, which could be interpreted as a more equitable pay structure."
   ]
  },
  {
   "cell_type": "markdown",
   "metadata": {},
   "source": [
    "### **Question 2:** In the analysis of public sector salaries within the Boston area, what patterns emerge from the top earnings across different departments, and how do regular, retroactive, other compensations, and overtime contribute to the total earnings of the highest-paid employees? Specifically, how do the earnings of the top officials in the Boston Police Department compare to those in the Boston Fire Department, and what might this indicate about the compensation structures and fiscal management within these public institutions?"
   ]
  },
  {
   "cell_type": "code",
   "execution_count": 62,
   "metadata": {
    "tags": []
   },
   "outputs": [
    {
     "data": {
      "application/vnd.jupyter.widget-view+json": {
       "model_id": "f50f61e8e3284656aac0212f2c3c83f7",
       "version_major": 2,
       "version_minor": 0
      },
      "text/plain": [
       "Query is running:   0%|          |"
      ]
     },
     "metadata": {},
     "output_type": "display_data"
    },
    {
     "data": {
      "application/vnd.jupyter.widget-view+json": {
       "model_id": "0049f088102e4c77afc15e2829bf8b9f",
       "version_major": 2,
       "version_minor": 0
      },
      "text/plain": [
       "Downloading:   0%|          |"
      ]
     },
     "metadata": {},
     "output_type": "display_data"
    },
    {
     "data": {
      "text/html": [
       "<div>\n",
       "<style scoped>\n",
       "    .dataframe tbody tr th:only-of-type {\n",
       "        vertical-align: middle;\n",
       "    }\n",
       "\n",
       "    .dataframe tbody tr th {\n",
       "        vertical-align: top;\n",
       "    }\n",
       "\n",
       "    .dataframe thead th {\n",
       "        text-align: right;\n",
       "    }\n",
       "</style>\n",
       "<table border=\"1\" class=\"dataframe\">\n",
       "  <thead>\n",
       "    <tr style=\"text-align: right;\">\n",
       "      <th></th>\n",
       "      <th>name</th>\n",
       "      <th>department_name</th>\n",
       "      <th>job_title</th>\n",
       "      <th>regular</th>\n",
       "      <th>retro</th>\n",
       "      <th>other</th>\n",
       "      <th>overtime</th>\n",
       "      <th>total_earnings</th>\n",
       "    </tr>\n",
       "  </thead>\n",
       "  <tbody>\n",
       "    <tr>\n",
       "      <th>0</th>\n",
       "      <td>Beckers Richard</td>\n",
       "      <td>Boston Police Department</td>\n",
       "      <td>Police Officer</td>\n",
       "      <td>0.00</td>\n",
       "      <td>0.0</td>\n",
       "      <td>1264843.63</td>\n",
       "      <td>0.00</td>\n",
       "      <td>1264843.63</td>\n",
       "    </tr>\n",
       "    <tr>\n",
       "      <th>1</th>\n",
       "      <td>McGowan Jacqueline M.</td>\n",
       "      <td>Boston Police Department</td>\n",
       "      <td>Police Officer</td>\n",
       "      <td>0.00</td>\n",
       "      <td>0.0</td>\n",
       "      <td>1252990.81</td>\n",
       "      <td>0.00</td>\n",
       "      <td>1252990.81</td>\n",
       "    </tr>\n",
       "    <tr>\n",
       "      <th>2</th>\n",
       "      <td>Gavin Donna M.</td>\n",
       "      <td>Boston Police Department</td>\n",
       "      <td>Police Lieutenant (Det)</td>\n",
       "      <td>53226.90</td>\n",
       "      <td>0.0</td>\n",
       "      <td>1045845.44</td>\n",
       "      <td>463.52</td>\n",
       "      <td>1099535.86</td>\n",
       "    </tr>\n",
       "    <tr>\n",
       "      <th>3</th>\n",
       "      <td>Harris Shawn N</td>\n",
       "      <td>Boston Police Department</td>\n",
       "      <td>Police Officer</td>\n",
       "      <td>517789.82</td>\n",
       "      <td>0.0</td>\n",
       "      <td>83369.34</td>\n",
       "      <td>48199.74</td>\n",
       "      <td>649358.90</td>\n",
       "    </tr>\n",
       "    <tr>\n",
       "      <th>4</th>\n",
       "      <td>Williams David C.</td>\n",
       "      <td>Boston Police Department</td>\n",
       "      <td>Police Officer</td>\n",
       "      <td>95184.68</td>\n",
       "      <td>0.0</td>\n",
       "      <td>503025.78</td>\n",
       "      <td>45176.88</td>\n",
       "      <td>643387.34</td>\n",
       "    </tr>\n",
       "    <tr>\n",
       "      <th>5</th>\n",
       "      <td>Jones Ronnie C</td>\n",
       "      <td>Boston Police Department</td>\n",
       "      <td>Police Officer</td>\n",
       "      <td>462149.98</td>\n",
       "      <td>0.0</td>\n",
       "      <td>114973.46</td>\n",
       "      <td>0.00</td>\n",
       "      <td>577123.44</td>\n",
       "    </tr>\n",
       "    <tr>\n",
       "      <th>6</th>\n",
       "      <td>Downing George C</td>\n",
       "      <td>Boston Police Department</td>\n",
       "      <td>Police Officer</td>\n",
       "      <td>417664.03</td>\n",
       "      <td>0.0</td>\n",
       "      <td>78599.22</td>\n",
       "      <td>29567.40</td>\n",
       "      <td>525830.65</td>\n",
       "    </tr>\n",
       "    <tr>\n",
       "      <th>7</th>\n",
       "      <td>Washington Walter</td>\n",
       "      <td>Boston Police Department</td>\n",
       "      <td>Police Officer</td>\n",
       "      <td>313154.27</td>\n",
       "      <td>0.0</td>\n",
       "      <td>99893.17</td>\n",
       "      <td>45337.30</td>\n",
       "      <td>458384.74</td>\n",
       "    </tr>\n",
       "    <tr>\n",
       "      <th>8</th>\n",
       "      <td>Dempsey John</td>\n",
       "      <td>Boston Fire Department</td>\n",
       "      <td>Commissioner (BFD)</td>\n",
       "      <td>133653.78</td>\n",
       "      <td>0.0</td>\n",
       "      <td>312752.53</td>\n",
       "      <td>0.00</td>\n",
       "      <td>446406.31</td>\n",
       "    </tr>\n",
       "    <tr>\n",
       "      <th>9</th>\n",
       "      <td>Washington Walter</td>\n",
       "      <td>Boston Police Department</td>\n",
       "      <td>Police Officer</td>\n",
       "      <td>100963.38</td>\n",
       "      <td>0.0</td>\n",
       "      <td>211900.28</td>\n",
       "      <td>67849.66</td>\n",
       "      <td>380713.32</td>\n",
       "    </tr>\n",
       "  </tbody>\n",
       "</table>\n",
       "</div>"
      ],
      "text/plain": [
       "                    name           department_name                job_title  \\\n",
       "0        Beckers Richard  Boston Police Department           Police Officer   \n",
       "1  McGowan Jacqueline M.  Boston Police Department           Police Officer   \n",
       "2         Gavin Donna M.  Boston Police Department  Police Lieutenant (Det)   \n",
       "3         Harris Shawn N  Boston Police Department           Police Officer   \n",
       "4      Williams David C.  Boston Police Department           Police Officer   \n",
       "5         Jones Ronnie C  Boston Police Department           Police Officer   \n",
       "6       Downing George C  Boston Police Department           Police Officer   \n",
       "7      Washington Walter  Boston Police Department           Police Officer   \n",
       "8           Dempsey John    Boston Fire Department       Commissioner (BFD)   \n",
       "9      Washington Walter  Boston Police Department           Police Officer   \n",
       "\n",
       "     regular  retro       other  overtime  total_earnings  \n",
       "0       0.00    0.0  1264843.63      0.00      1264843.63  \n",
       "1       0.00    0.0  1252990.81      0.00      1252990.81  \n",
       "2   53226.90    0.0  1045845.44    463.52      1099535.86  \n",
       "3  517789.82    0.0    83369.34  48199.74       649358.90  \n",
       "4   95184.68    0.0   503025.78  45176.88       643387.34  \n",
       "5  462149.98    0.0   114973.46      0.00       577123.44  \n",
       "6  417664.03    0.0    78599.22  29567.40       525830.65  \n",
       "7  313154.27    0.0    99893.17  45337.30       458384.74  \n",
       "8  133653.78    0.0   312752.53      0.00       446406.31  \n",
       "9  100963.38    0.0   211900.28  67849.66       380713.32  "
      ]
     },
     "execution_count": 62,
     "metadata": {},
     "output_type": "execute_result"
    }
   ],
   "source": [
    "%%bigquery\n",
    "SELECT\n",
    "name,\n",
    "department_name,\n",
    "job_title,\n",
    "regular,\n",
    "retro,\n",
    "other,\n",
    "overtime,\n",
    "ROUND((regular + IFNULL(retro, 0) + IFNULL(other, 0) + IFNULL(overtime, 0)), 2) AS total_earnings\n",
    "FROM `ba-775-b03.BA_775_Dataset.data_final`\n",
    "ORDER BY\n",
    "total_earnings DESC\n",
    "LIMIT 10;"
   ]
  },
  {
   "cell_type": "markdown",
   "metadata": {},
   "source": [
    "**Answer**:\n",
    "Top Earnings Overview: Richard Beckers and Jacqueline M. McGowan of the Boston Police Department’s total earnings are significantly higher than their colleagues due to large 'other' payments, with both having no regular or overtime pay listed. This raises questions about the nature of these 'other' payments and whether they reflect bonus compensations, back pay, or other non-standard financial arrangements.\n",
    "\n",
    "Salary Discrepancies: Donna M. Gavin, a Police Lieutenant, shows a balanced composition of pay with a modest regular pay and minimal overtime, indicating a structured compensation with less reliance on variable pay. In contrast, Shawn N. Harris, a Police Officer, has an exceptionally high regular pay and a large sum of overtime pay, highlighting disparities that may arise from different roles, special duties, or administrative errors that warrant further review.\n",
    "\n",
    "Overtime: Overtime pay, seen in significant amounts for Harris and Williams, suggests these individuals are either extensively involved in operations requiring long hours or there may be systematic overtime budgeting issues within the department. The large variance in overtime pay among the top earners necessitates a deeper look into departmental staffing and workload distribution.\n",
    "\n",
    "Comparative Analysis: The Boston Fire Department's top earner, John Dempsey, shows no overtime pay, which starkly contrasts with the police department's pattern. This could reflect differing operational demands or more stringent overtime controls within the fire department."
   ]
  },
  {
   "cell_type": "markdown",
   "metadata": {},
   "source": [
    "### **Question 3:** What does the salary structure reveal about the distribution of earnings among the highest-paid individuals in various departments of the Boston public sector, and how do these figures compare within and across these departments?"
   ]
  },
  {
   "cell_type": "code",
   "execution_count": 63,
   "metadata": {
    "tags": []
   },
   "outputs": [
    {
     "data": {
      "application/vnd.jupyter.widget-view+json": {
       "model_id": "11f0524e5ac649b7a815622632acbf00",
       "version_major": 2,
       "version_minor": 0
      },
      "text/plain": [
       "Query is running:   0%|          |"
      ]
     },
     "metadata": {},
     "output_type": "display_data"
    },
    {
     "data": {
      "application/vnd.jupyter.widget-view+json": {
       "model_id": "f5b3fd4287494c6594aec74e049f8d5c",
       "version_major": 2,
       "version_minor": 0
      },
      "text/plain": [
       "Downloading:   0%|          |"
      ]
     },
     "metadata": {},
     "output_type": "display_data"
    },
    {
     "data": {
      "text/html": [
       "<div>\n",
       "<style scoped>\n",
       "    .dataframe tbody tr th:only-of-type {\n",
       "        vertical-align: middle;\n",
       "    }\n",
       "\n",
       "    .dataframe tbody tr th {\n",
       "        vertical-align: top;\n",
       "    }\n",
       "\n",
       "    .dataframe thead th {\n",
       "        text-align: right;\n",
       "    }\n",
       "</style>\n",
       "<table border=\"1\" class=\"dataframe\">\n",
       "  <thead>\n",
       "    <tr style=\"text-align: right;\">\n",
       "      <th></th>\n",
       "      <th>name</th>\n",
       "      <th>year</th>\n",
       "      <th>department_name</th>\n",
       "      <th>job_title</th>\n",
       "      <th>total_earnings</th>\n",
       "    </tr>\n",
       "  </thead>\n",
       "  <tbody>\n",
       "    <tr>\n",
       "      <th>0</th>\n",
       "      <td>Cahill Karen M</td>\n",
       "      <td>2022</td>\n",
       "      <td>BPS Everett Elementary</td>\n",
       "      <td>Principal Elementary</td>\n",
       "      <td>170759.83</td>\n",
       "    </tr>\n",
       "    <tr>\n",
       "      <th>1</th>\n",
       "      <td>Clark Anne R</td>\n",
       "      <td>2022</td>\n",
       "      <td>BPS Boston Arts Academy</td>\n",
       "      <td>Head of School</td>\n",
       "      <td>161278.43</td>\n",
       "    </tr>\n",
       "    <tr>\n",
       "      <th>2</th>\n",
       "      <td>Greenwood Lori</td>\n",
       "      <td>2022</td>\n",
       "      <td>Enrollment Services</td>\n",
       "      <td>Director (NonAcad) D</td>\n",
       "      <td>119523.06</td>\n",
       "    </tr>\n",
       "    <tr>\n",
       "      <th>3</th>\n",
       "      <td>Holmes Christine M</td>\n",
       "      <td>2018</td>\n",
       "      <td>BPS Another Course To Colleg</td>\n",
       "      <td>Teacher</td>\n",
       "      <td>153613.20</td>\n",
       "    </tr>\n",
       "    <tr>\n",
       "      <th>4</th>\n",
       "      <td>Cauley Charles Eudene</td>\n",
       "      <td>2021</td>\n",
       "      <td>BPS Dearborn Middle</td>\n",
       "      <td>Instructional Coach</td>\n",
       "      <td>161686.94</td>\n",
       "    </tr>\n",
       "    <tr>\n",
       "      <th>...</th>\n",
       "      <td>...</td>\n",
       "      <td>...</td>\n",
       "      <td>...</td>\n",
       "      <td>...</td>\n",
       "      <td>...</td>\n",
       "    </tr>\n",
       "    <tr>\n",
       "      <th>254</th>\n",
       "      <td>Cirasuolo Stephen A.</td>\n",
       "      <td>2022</td>\n",
       "      <td>Quincy Upper School</td>\n",
       "      <td>Head of School</td>\n",
       "      <td>155392.33</td>\n",
       "    </tr>\n",
       "    <tr>\n",
       "      <th>255</th>\n",
       "      <td>Smith Jomila C.</td>\n",
       "      <td>2022</td>\n",
       "      <td>Research Assess &amp; Eval</td>\n",
       "      <td>Principal Elementary</td>\n",
       "      <td>143812.84</td>\n",
       "    </tr>\n",
       "    <tr>\n",
       "      <th>256</th>\n",
       "      <td>Henderson Walter K</td>\n",
       "      <td>2018</td>\n",
       "      <td>Mattapan Early Elementary</td>\n",
       "      <td>Principal Elementary</td>\n",
       "      <td>136046.83</td>\n",
       "    </tr>\n",
       "    <tr>\n",
       "      <th>257</th>\n",
       "      <td>McMahon Patricia Ann</td>\n",
       "      <td>2022</td>\n",
       "      <td>Registry Division</td>\n",
       "      <td>City Registrar</td>\n",
       "      <td>119346.22</td>\n",
       "    </tr>\n",
       "    <tr>\n",
       "      <th>258</th>\n",
       "      <td>Santiago Robert</td>\n",
       "      <td>2022</td>\n",
       "      <td>Veterans' Services</td>\n",
       "      <td>Commissioner (Vet)</td>\n",
       "      <td>110057.72</td>\n",
       "    </tr>\n",
       "  </tbody>\n",
       "</table>\n",
       "<p>259 rows × 5 columns</p>\n",
       "</div>"
      ],
      "text/plain": [
       "                      name  year               department_name  \\\n",
       "0           Cahill Karen M  2022        BPS Everett Elementary   \n",
       "1             Clark Anne R  2022       BPS Boston Arts Academy   \n",
       "2           Greenwood Lori  2022           Enrollment Services   \n",
       "3       Holmes Christine M  2018  BPS Another Course To Colleg   \n",
       "4    Cauley Charles Eudene  2021           BPS Dearborn Middle   \n",
       "..                     ...   ...                           ...   \n",
       "254   Cirasuolo Stephen A.  2022           Quincy Upper School   \n",
       "255        Smith Jomila C.  2022        Research Assess & Eval   \n",
       "256     Henderson Walter K  2018     Mattapan Early Elementary   \n",
       "257   McMahon Patricia Ann  2022             Registry Division   \n",
       "258        Santiago Robert  2022            Veterans' Services   \n",
       "\n",
       "                job_title  total_earnings  \n",
       "0    Principal Elementary       170759.83  \n",
       "1          Head of School       161278.43  \n",
       "2    Director (NonAcad) D       119523.06  \n",
       "3                 Teacher       153613.20  \n",
       "4     Instructional Coach       161686.94  \n",
       "..                    ...             ...  \n",
       "254        Head of School       155392.33  \n",
       "255  Principal Elementary       143812.84  \n",
       "256  Principal Elementary       136046.83  \n",
       "257        City Registrar       119346.22  \n",
       "258    Commissioner (Vet)       110057.72  \n",
       "\n",
       "[259 rows x 5 columns]"
      ]
     },
     "execution_count": 63,
     "metadata": {},
     "output_type": "execute_result"
    }
   ],
   "source": [
    "%%bigquery\n",
    "WITH RankedEarnings AS (\n",
    " SELECT\n",
    "   name,\n",
    "    year, # I have added year, i dont know if you think its correct to add it \n",
    "   department_name,\n",
    "   job_title,\n",
    "   ROUND(regular + IFNULL(retro, 0) + IFNULL(other, 0) + IFNULL(overtime, 0), 2) AS total_earnings,\n",
    "   DENSE_RANK() OVER (PARTITION BY department_name ORDER BY ROUND(regular + IFNULL(retro, 0) + IFNULL(other, 0) + IFNULL(overtime, 0), 2) DESC) AS rank\n",
    "FROM `ba-775-b03.BA_775_Dataset.data_final`\n",
    ")\n",
    "SELECT\n",
    " name,\n",
    " year,\n",
    " department_name,\n",
    " job_title,\n",
    " total_earnings\n",
    "FROM\n",
    " RankedEarnings\n",
    "WHERE\n",
    " rank = 1;"
   ]
  },
  {
   "cell_type": "markdown",
   "metadata": {},
   "source": [
    "**Answer**: Diverse Compensation Structures: The dataset showcases a range of total earnings, from Imani Monet Penn's USD 4,640 as an intern in the BPS Development to Leslie L Gant's USD 193,233.08 as a Principal at BPS Tynan Elementary. This variance indicates a broad spectrum of roles and the associated value placed on these positions within the public sector.\n",
    "\n",
    "Top Earners by Department: High-ranking roles, such as Jill E Carter as Assistant Superintendent and Kristen McCosh as Commissioner, command substantial earnings, at USD 168,470.83 and USD 119,961.5, respectively. These figures reflect the significant fiscal responsibility and leadership expectations associated with their positions.\n",
    "\n",
    "Compensation and Job Titles: There's a notable correlation between job titles and earnings. Leadership positions such as elementary principals and commissioners are among the top earners, which aligns with the additional responsibilities and expertise required for these roles.\n",
    "\n",
    "Comparative Earnings Analysis: Comparing departments, we see a Commissioner in the Commission for Persons with Disabilities earning USD 119,961.5, whereas a Commissioner of Elderly Affairs earns USD 121,577.14, suggesting parity in pay for commissioners across different public service domains.\n",
    "\n",
    "Anomalies and Outliers: The standout anomaly is the earnings for the 'Retirees' category, with Glenn L Brewington receiving only USD 3,020.72, a figure that dramatically deviates from the rest and could represent part-time work, a pension payout, or an administrative error.\n",
    "\n",
    "Inconsistencies in Pay: Marlene M Gibbs, a Teacher, earns USD 158,371.55, which is quite high relative to the common pay range for teachers. This could be due to additional duties, long tenure, or special qualifications warranting further examination.\n",
    "\n",
    "Fiscal Oversight Implications: The data indicates a need for fiscal oversight to ensure that salaries are not only competitive but also justified based on the roles and responsibilities within each department.\n"
   ]
  },
  {
   "cell_type": "markdown",
   "metadata": {},
   "source": [
    "## **Section 3: Income components breakdown**"
   ]
  },
  {
   "cell_type": "markdown",
   "metadata": {},
   "source": [
    "### **Question 1:** Find the top 10 employees who contributed the most to the regular earnings component and which department are they in?"
   ]
  },
  {
   "cell_type": "code",
   "execution_count": 64,
   "metadata": {
    "tags": []
   },
   "outputs": [
    {
     "data": {
      "application/vnd.jupyter.widget-view+json": {
       "model_id": "9835a159f7804099a5fc57779aecb2e6",
       "version_major": 2,
       "version_minor": 0
      },
      "text/plain": [
       "Query is running:   0%|          |"
      ]
     },
     "metadata": {},
     "output_type": "display_data"
    },
    {
     "data": {
      "application/vnd.jupyter.widget-view+json": {
       "model_id": "198d1fc80d2e414dbfb7624d51f75fbc",
       "version_major": 2,
       "version_minor": 0
      },
      "text/plain": [
       "Downloading:   0%|          |"
      ]
     },
     "metadata": {},
     "output_type": "display_data"
    },
    {
     "data": {
      "text/html": [
       "<div>\n",
       "<style scoped>\n",
       "    .dataframe tbody tr th:only-of-type {\n",
       "        vertical-align: middle;\n",
       "    }\n",
       "\n",
       "    .dataframe tbody tr th {\n",
       "        vertical-align: top;\n",
       "    }\n",
       "\n",
       "    .dataframe thead th {\n",
       "        text-align: right;\n",
       "    }\n",
       "</style>\n",
       "<table border=\"1\" class=\"dataframe\">\n",
       "  <thead>\n",
       "    <tr style=\"text-align: right;\">\n",
       "      <th></th>\n",
       "      <th>name</th>\n",
       "      <th>department_name</th>\n",
       "      <th>regular</th>\n",
       "    </tr>\n",
       "  </thead>\n",
       "  <tbody>\n",
       "    <tr>\n",
       "      <th>0</th>\n",
       "      <td>Harris Shawn N</td>\n",
       "      <td>Boston Police Department</td>\n",
       "      <td>517789.82</td>\n",
       "    </tr>\n",
       "    <tr>\n",
       "      <th>1</th>\n",
       "      <td>Jones Ronnie C</td>\n",
       "      <td>Boston Police Department</td>\n",
       "      <td>462149.98</td>\n",
       "    </tr>\n",
       "    <tr>\n",
       "      <th>2</th>\n",
       "      <td>Downing George C</td>\n",
       "      <td>Boston Police Department</td>\n",
       "      <td>417664.03</td>\n",
       "    </tr>\n",
       "    <tr>\n",
       "      <th>3</th>\n",
       "      <td>Washington Walter</td>\n",
       "      <td>Boston Police Department</td>\n",
       "      <td>313154.27</td>\n",
       "    </tr>\n",
       "    <tr>\n",
       "      <th>4</th>\n",
       "      <td>Long Gregory P</td>\n",
       "      <td>Boston Police Department</td>\n",
       "      <td>290703.31</td>\n",
       "    </tr>\n",
       "    <tr>\n",
       "      <th>5</th>\n",
       "      <td>Cassellius Brenda</td>\n",
       "      <td>Superintendent</td>\n",
       "      <td>279999.98</td>\n",
       "    </tr>\n",
       "    <tr>\n",
       "      <th>6</th>\n",
       "      <td>Cassellius Brenda</td>\n",
       "      <td>Superintendent</td>\n",
       "      <td>279999.98</td>\n",
       "    </tr>\n",
       "    <tr>\n",
       "      <th>7</th>\n",
       "      <td>Dempsey John</td>\n",
       "      <td>Boston Fire Department</td>\n",
       "      <td>262657.41</td>\n",
       "    </tr>\n",
       "    <tr>\n",
       "      <th>8</th>\n",
       "      <td>McMahon Joseph G</td>\n",
       "      <td>Boston Fire Department</td>\n",
       "      <td>262641.69</td>\n",
       "    </tr>\n",
       "    <tr>\n",
       "      <th>9</th>\n",
       "      <td>Walsh David John</td>\n",
       "      <td>Boston Fire Department</td>\n",
       "      <td>262134.86</td>\n",
       "    </tr>\n",
       "  </tbody>\n",
       "</table>\n",
       "</div>"
      ],
      "text/plain": [
       "                name           department_name    regular\n",
       "0     Harris Shawn N  Boston Police Department  517789.82\n",
       "1     Jones Ronnie C  Boston Police Department  462149.98\n",
       "2   Downing George C  Boston Police Department  417664.03\n",
       "3  Washington Walter  Boston Police Department  313154.27\n",
       "4     Long Gregory P  Boston Police Department  290703.31\n",
       "5  Cassellius Brenda            Superintendent  279999.98\n",
       "6  Cassellius Brenda            Superintendent  279999.98\n",
       "7       Dempsey John    Boston Fire Department  262657.41\n",
       "8   McMahon Joseph G    Boston Fire Department  262641.69\n",
       "9   Walsh David John    Boston Fire Department  262134.86"
      ]
     },
     "execution_count": 64,
     "metadata": {},
     "output_type": "execute_result"
    }
   ],
   "source": [
    "%%bigquery\n",
    "WITH TopRegularContributors AS (\n",
    " SELECT\n",
    "   name,\n",
    "   department_name,\n",
    "   regular,\n",
    "   RANK() OVER (ORDER BY regular DESC) AS ranking\n",
    "FROM \n",
    "    `ba-775-b03.BA_775_Dataset.data_final`\n",
    ")\n",
    "SELECT\n",
    " name,\n",
    " department_name,\n",
    " regular\n",
    "FROM\n",
    " TopRegularContributors\n",
    "WHERE\n",
    " ranking <= 10\n",
    "ORDER BY regular DESC;"
   ]
  },
  {
   "cell_type": "markdown",
   "metadata": {},
   "source": [
    "**Answer**: Out of the top 10 employees , 50% of the employees are from the Police department whose regular components are the highest, 30% from the top 10 belong to the fire department and the rest 20% are Superintendents."
   ]
  },
  {
   "cell_type": "markdown",
   "metadata": {
    "tags": []
   },
   "source": [
    "### **Question 2:** Which department had paid the most to their employees for each specific year?"
   ]
  },
  {
   "cell_type": "code",
   "execution_count": 65,
   "metadata": {
    "tags": []
   },
   "outputs": [
    {
     "data": {
      "application/vnd.jupyter.widget-view+json": {
       "model_id": "205e84cf821c4127b3a54a2d808c43ec",
       "version_major": 2,
       "version_minor": 0
      },
      "text/plain": [
       "Query is running:   0%|          |"
      ]
     },
     "metadata": {},
     "output_type": "display_data"
    },
    {
     "data": {
      "application/vnd.jupyter.widget-view+json": {
       "model_id": "c6dee36ed57743d9a2e022cc316330e9",
       "version_major": 2,
       "version_minor": 0
      },
      "text/plain": [
       "Downloading:   0%|          |"
      ]
     },
     "metadata": {},
     "output_type": "display_data"
    },
    {
     "data": {
      "text/html": [
       "<div>\n",
       "<style scoped>\n",
       "    .dataframe tbody tr th:only-of-type {\n",
       "        vertical-align: middle;\n",
       "    }\n",
       "\n",
       "    .dataframe tbody tr th {\n",
       "        vertical-align: top;\n",
       "    }\n",
       "\n",
       "    .dataframe thead th {\n",
       "        text-align: right;\n",
       "    }\n",
       "</style>\n",
       "<table border=\"1\" class=\"dataframe\">\n",
       "  <thead>\n",
       "    <tr style=\"text-align: right;\">\n",
       "      <th></th>\n",
       "      <th>department_name</th>\n",
       "      <th>year</th>\n",
       "      <th>total_earnings_sum</th>\n",
       "    </tr>\n",
       "  </thead>\n",
       "  <tbody>\n",
       "    <tr>\n",
       "      <th>0</th>\n",
       "      <td>Boston Police Department</td>\n",
       "      <td>2021</td>\n",
       "      <td>4.040525e+08</td>\n",
       "    </tr>\n",
       "    <tr>\n",
       "      <th>1</th>\n",
       "      <td>Boston Police Department</td>\n",
       "      <td>2020</td>\n",
       "      <td>4.112909e+08</td>\n",
       "    </tr>\n",
       "    <tr>\n",
       "      <th>2</th>\n",
       "      <td>Boston Police Department</td>\n",
       "      <td>2022</td>\n",
       "      <td>4.008621e+08</td>\n",
       "    </tr>\n",
       "    <tr>\n",
       "      <th>3</th>\n",
       "      <td>Boston Police Department</td>\n",
       "      <td>2018</td>\n",
       "      <td>4.125141e+08</td>\n",
       "    </tr>\n",
       "    <tr>\n",
       "      <th>4</th>\n",
       "      <td>Boston Police Department</td>\n",
       "      <td>2019</td>\n",
       "      <td>4.105958e+08</td>\n",
       "    </tr>\n",
       "  </tbody>\n",
       "</table>\n",
       "</div>"
      ],
      "text/plain": [
       "            department_name  year  total_earnings_sum\n",
       "0  Boston Police Department  2021        4.040525e+08\n",
       "1  Boston Police Department  2020        4.112909e+08\n",
       "2  Boston Police Department  2022        4.008621e+08\n",
       "3  Boston Police Department  2018        4.125141e+08\n",
       "4  Boston Police Department  2019        4.105958e+08"
      ]
     },
     "execution_count": 65,
     "metadata": {},
     "output_type": "execute_result"
    }
   ],
   "source": [
    "%%bigquery\n",
    "WITH DepartmentTotalEarnings AS (\n",
    " SELECT\n",
    "   department_name,\n",
    "   year,\n",
    "   SUM(total_earnings) AS total_earnings_sum\n",
    "FROM \n",
    "    `ba-775-b03.BA_775_Dataset.data_final`\n",
    " WHERE\n",
    "   year IN (2018, 2019, 2020, 2021,2022)\n",
    "GROUP BY\n",
    "   department_name,\n",
    "year\n",
    ")\n",
    "SELECT\n",
    " d.department_name,\n",
    " d.year,\n",
    " d.total_earnings_sum\n",
    "FROM\n",
    " DepartmentTotalEarnings d\n",
    "JOIN ( SELECT\n",
    "year,\n",
    "   MAX(total_earnings_sum) AS max_earnings\n",
    " FROM\n",
    "   DepartmentTotalEarnings\n",
    "GROUP BY\n",
    "   year\n",
    ") max_earnings_per_year\n",
    "ON d.year = max_earnings_per_year.year\n",
    "AND d.total_earnings_sum = max_earnings_per_year.max_earnings;"
   ]
  },
  {
   "cell_type": "markdown",
   "metadata": {},
   "source": [
    "**Answer**: The Boston Police Department consistently paid the highest total earnings to its employees across the years 2018 to 2022. The department maintained its position as the top payer each year, also we notice a declining trend in total earnings observed over this period."
   ]
  },
  {
   "cell_type": "markdown",
   "metadata": {},
   "source": [
    "### **Question 3:** Which were the top 3 job title that got the highest total earnings in the past 5 years?"
   ]
  },
  {
   "cell_type": "code",
   "execution_count": 66,
   "metadata": {
    "tags": []
   },
   "outputs": [
    {
     "data": {
      "application/vnd.jupyter.widget-view+json": {
       "model_id": "d481bb01e044424bbded619e957a2d40",
       "version_major": 2,
       "version_minor": 0
      },
      "text/plain": [
       "Query is running:   0%|          |"
      ]
     },
     "metadata": {},
     "output_type": "display_data"
    },
    {
     "data": {
      "application/vnd.jupyter.widget-view+json": {
       "model_id": "9d6d6925d44b48339a7b1a8ef91a03ea",
       "version_major": 2,
       "version_minor": 0
      },
      "text/plain": [
       "Downloading:   0%|          |"
      ]
     },
     "metadata": {},
     "output_type": "display_data"
    },
    {
     "data": {
      "text/html": [
       "<div>\n",
       "<style scoped>\n",
       "    .dataframe tbody tr th:only-of-type {\n",
       "        vertical-align: middle;\n",
       "    }\n",
       "\n",
       "    .dataframe tbody tr th {\n",
       "        vertical-align: top;\n",
       "    }\n",
       "\n",
       "    .dataframe thead th {\n",
       "        text-align: right;\n",
       "    }\n",
       "</style>\n",
       "<table border=\"1\" class=\"dataframe\">\n",
       "  <thead>\n",
       "    <tr style=\"text-align: right;\">\n",
       "      <th></th>\n",
       "      <th>job_title</th>\n",
       "      <th>department_name</th>\n",
       "      <th>total_earnings_in_millions</th>\n",
       "    </tr>\n",
       "  </thead>\n",
       "  <tbody>\n",
       "    <tr>\n",
       "      <th>0</th>\n",
       "      <td>Police Officer</td>\n",
       "      <td>Boston Police Department</td>\n",
       "      <td>696.67158547000349</td>\n",
       "    </tr>\n",
       "    <tr>\n",
       "      <th>1</th>\n",
       "      <td>Fire Fighter</td>\n",
       "      <td>Boston Fire Department</td>\n",
       "      <td>464.88350213999996</td>\n",
       "    </tr>\n",
       "    <tr>\n",
       "      <th>2</th>\n",
       "      <td>Police Detective</td>\n",
       "      <td>Boston Police Department</td>\n",
       "      <td>202.94132968000031</td>\n",
       "    </tr>\n",
       "  </tbody>\n",
       "</table>\n",
       "</div>"
      ],
      "text/plain": [
       "          job_title           department_name total_earnings_in_millions\n",
       "0    Police Officer  Boston Police Department         696.67158547000349\n",
       "1      Fire Fighter    Boston Fire Department         464.88350213999996\n",
       "2  Police Detective  Boston Police Department         202.94132968000031"
      ]
     },
     "execution_count": 66,
     "metadata": {},
     "output_type": "execute_result"
    }
   ],
   "source": [
    "%%bigquery\n",
    "WITH JobTitleTotalEarnings AS (\n",
    " SELECT\n",
    "   job_title,\n",
    "   department_name,\n",
    "   SUM(total_earnings) AS total_earnings_sum\n",
    "FROM \n",
    "    `ba-775-b03.BA_775_Dataset.data_final`\n",
    " WHERE\n",
    "   year BETWEEN EXTRACT(YEAR FROM CURRENT_DATE()) - 4 AND EXTRACT(YEAR FROM\n",
    "CURRENT_DATE())\n",
    " GROUP BY\n",
    "   job_title, department_name\n",
    ")\n",
    "SELECT\n",
    " job_title,\n",
    " department_name,\n",
    " FORMAT('%t', total_earnings_sum / 1000000) AS total_earnings_in_millions\n",
    "FROM\n",
    " JobTitleTotalEarnings\n",
    "ORDER BY\n",
    " total_earnings_sum DESC\n",
    "LIMIT 3;"
   ]
  },
  {
   "cell_type": "markdown",
   "metadata": {},
   "source": [
    "**Answer**: The top three job titles with the highest total earnings in millions are Police Officer and Police Detective from the Boston Police Department, along with Fire Fighter from the Boston Fire Department. This suggests that law enforcement roles, particularly within the police department, tend to have higher overall earnings compared to other positions, with Police Officer being the highest."
   ]
  },
  {
   "cell_type": "markdown",
   "metadata": {},
   "source": [
    "### **Question 4:** Which income component has the most impact after regular on an employee’s gross earnings for the top 3 departments with highest pay out."
   ]
  },
  {
   "cell_type": "code",
   "execution_count": 67,
   "metadata": {
    "tags": []
   },
   "outputs": [
    {
     "data": {
      "application/vnd.jupyter.widget-view+json": {
       "model_id": "89bbeb350af5488e9bb5814dfa6601b9",
       "version_major": 2,
       "version_minor": 0
      },
      "text/plain": [
       "Query is running:   0%|          |"
      ]
     },
     "metadata": {},
     "output_type": "display_data"
    },
    {
     "data": {
      "application/vnd.jupyter.widget-view+json": {
       "model_id": "bc703d8efd2249da90c071aed89c6537",
       "version_major": 2,
       "version_minor": 0
      },
      "text/plain": [
       "Downloading:   0%|          |"
      ]
     },
     "metadata": {},
     "output_type": "display_data"
    },
    {
     "data": {
      "text/html": [
       "<div>\n",
       "<style scoped>\n",
       "    .dataframe tbody tr th:only-of-type {\n",
       "        vertical-align: middle;\n",
       "    }\n",
       "\n",
       "    .dataframe tbody tr th {\n",
       "        vertical-align: top;\n",
       "    }\n",
       "\n",
       "    .dataframe thead th {\n",
       "        text-align: right;\n",
       "    }\n",
       "</style>\n",
       "<table border=\"1\" class=\"dataframe\">\n",
       "  <thead>\n",
       "    <tr style=\"text-align: right;\">\n",
       "      <th></th>\n",
       "      <th>department_name</th>\n",
       "      <th>regular_percentage</th>\n",
       "      <th>retro_percentage</th>\n",
       "      <th>other_percentage</th>\n",
       "      <th>overtime_percentage</th>\n",
       "      <th>injured_percentage</th>\n",
       "      <th>detail_percentage</th>\n",
       "      <th>education_percentage</th>\n",
       "    </tr>\n",
       "  </thead>\n",
       "  <tbody>\n",
       "    <tr>\n",
       "      <th>0</th>\n",
       "      <td>Boston Police Department</td>\n",
       "      <td>58.065400</td>\n",
       "      <td>0.446904</td>\n",
       "      <td>4.185682</td>\n",
       "      <td>18.657694</td>\n",
       "      <td>5.227077</td>\n",
       "      <td>6.636647</td>\n",
       "      <td>6.781138</td>\n",
       "    </tr>\n",
       "    <tr>\n",
       "      <th>1</th>\n",
       "      <td>Boston Fire Department</td>\n",
       "      <td>73.410363</td>\n",
       "      <td>1.379666</td>\n",
       "      <td>3.209414</td>\n",
       "      <td>13.157447</td>\n",
       "      <td>5.603053</td>\n",
       "      <td>3.238120</td>\n",
       "      <td>0.002564</td>\n",
       "    </tr>\n",
       "    <tr>\n",
       "      <th>2</th>\n",
       "      <td>BPS Special Education</td>\n",
       "      <td>96.748382</td>\n",
       "      <td>1.025152</td>\n",
       "      <td>2.134010</td>\n",
       "      <td>0.039559</td>\n",
       "      <td>0.052897</td>\n",
       "      <td>0.000000</td>\n",
       "      <td>0.000000</td>\n",
       "    </tr>\n",
       "  </tbody>\n",
       "</table>\n",
       "</div>"
      ],
      "text/plain": [
       "            department_name  regular_percentage  retro_percentage  \\\n",
       "0  Boston Police Department           58.065400          0.446904   \n",
       "1    Boston Fire Department           73.410363          1.379666   \n",
       "2     BPS Special Education           96.748382          1.025152   \n",
       "\n",
       "   other_percentage  overtime_percentage  injured_percentage  \\\n",
       "0          4.185682            18.657694            5.227077   \n",
       "1          3.209414            13.157447            5.603053   \n",
       "2          2.134010             0.039559            0.052897   \n",
       "\n",
       "   detail_percentage  education_percentage  \n",
       "0           6.636647              6.781138  \n",
       "1           3.238120              0.002564  \n",
       "2           0.000000              0.000000  "
      ]
     },
     "execution_count": 67,
     "metadata": {},
     "output_type": "execute_result"
    }
   ],
   "source": [
    "%%bigquery\n",
    "SELECT\n",
    " department_name,\n",
    " SUM(regular) / SUM(total_earnings) * 100 AS regular_percentage,\n",
    " SUM(retro) / SUM(total_earnings) * 100 AS retro_percentage,\n",
    " SUM(other) / SUM(total_earnings) * 100 AS other_percentage,\n",
    " SUM(overtime) / SUM(total_earnings) * 100 AS overtime_percentage,\n",
    " SUM(injured) / SUM(total_earnings) * 100 AS injured_percentage,\n",
    " SUM(detail) / SUM(total_earnings) * 100 AS detail_percentage,\n",
    " SUM(education) / SUM(total_earnings) * 100 AS education_percentage,\n",
    "FROM \n",
    "    `ba-775-b03.BA_775_Dataset.data_final`\n",
    "GROUP BY\n",
    " department_name\n",
    "ORDER BY\n",
    " SUM(total_earnings) DESC\n",
    "LIMIT 3;"
   ]
  },
  {
   "cell_type": "markdown",
   "metadata": {},
   "source": [
    "**Answer**: \n",
    "1. **Police Department**: The highest variable pay comes from Overtime work that the people in the Police department do.\n",
    "2. **Fire Department**: Similar to the police department the highest variable for the fire department comes from Overtime pay that employees do.\n",
    "\n",
    "* Employees in the Police and Fire department are driven by the potential for increased earnings through performance-related bonuses,\n",
    "\n",
    "3. **Boston Public Schools**: We don’t see any significant contribution from variable pay in the Public Schools department which implies that the individual’s income is not dependent on performance or external factors. There is job security and comparatively stable to others"
   ]
  },
  {
   "cell_type": "markdown",
   "metadata": {},
   "source": [
    "## **Section 4: COVID-19’s Impact analysis**"
   ]
  },
  {
   "cell_type": "markdown",
   "metadata": {
    "tags": []
   },
   "source": [
    "In accordance with what is indicated in section 1 (Year-wise breakdown), it has been validated that in 2020 the lowest levels of hired workers were recorded. In this section we will analyze the previous (2018) and subsequent (2022) impact of COVID19 on workers in the government sector of Boston, for this, we will do an analysis at the Departmental and County level."
   ]
  },
  {
   "cell_type": "markdown",
   "metadata": {
    "tags": []
   },
   "source": [
    "### **Question 1:** Which department experienced the most significant workforce reductions between 2018 and 2020, before the emergence of the COVID-19 pandemic?"
   ]
  },
  {
   "cell_type": "code",
   "execution_count": 68,
   "metadata": {
    "tags": []
   },
   "outputs": [
    {
     "data": {
      "application/vnd.jupyter.widget-view+json": {
       "model_id": "4018a969bc624ed787206d98e1e01533",
       "version_major": 2,
       "version_minor": 0
      },
      "text/plain": [
       "Query is running:   0%|          |"
      ]
     },
     "metadata": {},
     "output_type": "display_data"
    },
    {
     "data": {
      "application/vnd.jupyter.widget-view+json": {
       "model_id": "e725c6e0152b48b0b54d93a9989463db",
       "version_major": 2,
       "version_minor": 0
      },
      "text/plain": [
       "Downloading:   0%|          |"
      ]
     },
     "metadata": {},
     "output_type": "display_data"
    },
    {
     "data": {
      "text/html": [
       "<div>\n",
       "<style scoped>\n",
       "    .dataframe tbody tr th:only-of-type {\n",
       "        vertical-align: middle;\n",
       "    }\n",
       "\n",
       "    .dataframe tbody tr th {\n",
       "        vertical-align: top;\n",
       "    }\n",
       "\n",
       "    .dataframe thead th {\n",
       "        text-align: right;\n",
       "    }\n",
       "</style>\n",
       "<table border=\"1\" class=\"dataframe\">\n",
       "  <thead>\n",
       "    <tr style=\"text-align: right;\">\n",
       "      <th></th>\n",
       "      <th>rank_var_2020_2018</th>\n",
       "      <th>department_name</th>\n",
       "      <th>w_var_2020_2018</th>\n",
       "    </tr>\n",
       "  </thead>\n",
       "  <tbody>\n",
       "    <tr>\n",
       "      <th>0</th>\n",
       "      <td>1</td>\n",
       "      <td>BPS Substitute Teachers/Nurs</td>\n",
       "      <td>-273</td>\n",
       "    </tr>\n",
       "    <tr>\n",
       "      <th>1</th>\n",
       "      <td>2</td>\n",
       "      <td>Boston Cntr - Youth &amp; Families</td>\n",
       "      <td>-178</td>\n",
       "    </tr>\n",
       "    <tr>\n",
       "      <th>2</th>\n",
       "      <td>3</td>\n",
       "      <td>BPS Facility Management</td>\n",
       "      <td>-102</td>\n",
       "    </tr>\n",
       "    <tr>\n",
       "      <th>3</th>\n",
       "      <td>4</td>\n",
       "      <td>Parks Department</td>\n",
       "      <td>-55</td>\n",
       "    </tr>\n",
       "    <tr>\n",
       "      <th>4</th>\n",
       "      <td>5</td>\n",
       "      <td>Workers Compensation Service</td>\n",
       "      <td>-43</td>\n",
       "    </tr>\n",
       "    <tr>\n",
       "      <th>...</th>\n",
       "      <td>...</td>\n",
       "      <td>...</td>\n",
       "      <td>...</td>\n",
       "    </tr>\n",
       "    <tr>\n",
       "      <th>213</th>\n",
       "      <td>214</td>\n",
       "      <td>BPS Lee Elementary</td>\n",
       "      <td>10</td>\n",
       "    </tr>\n",
       "    <tr>\n",
       "      <th>214</th>\n",
       "      <td>214</td>\n",
       "      <td>Neighborhood Services</td>\n",
       "      <td>10</td>\n",
       "    </tr>\n",
       "    <tr>\n",
       "      <th>215</th>\n",
       "      <td>216</td>\n",
       "      <td>Perry K-8</td>\n",
       "      <td>11</td>\n",
       "    </tr>\n",
       "    <tr>\n",
       "      <th>216</th>\n",
       "      <td>217</td>\n",
       "      <td>Teaching &amp; Learning</td>\n",
       "      <td>17</td>\n",
       "    </tr>\n",
       "    <tr>\n",
       "      <th>217</th>\n",
       "      <td>218</td>\n",
       "      <td>Boston Police Department</td>\n",
       "      <td>27</td>\n",
       "    </tr>\n",
       "  </tbody>\n",
       "</table>\n",
       "<p>218 rows × 3 columns</p>\n",
       "</div>"
      ],
      "text/plain": [
       "     rank_var_2020_2018                 department_name  w_var_2020_2018\n",
       "0                     1    BPS Substitute Teachers/Nurs             -273\n",
       "1                     2  Boston Cntr - Youth & Families             -178\n",
       "2                     3         BPS Facility Management             -102\n",
       "3                     4                Parks Department              -55\n",
       "4                     5    Workers Compensation Service              -43\n",
       "..                  ...                             ...              ...\n",
       "213                 214              BPS Lee Elementary               10\n",
       "214                 214           Neighborhood Services               10\n",
       "215                 216                       Perry K-8               11\n",
       "216                 217             Teaching & Learning               17\n",
       "217                 218        Boston Police Department               27\n",
       "\n",
       "[218 rows x 3 columns]"
      ]
     },
     "execution_count": 68,
     "metadata": {},
     "output_type": "execute_result"
    }
   ],
   "source": [
    "%%bigquery\n",
    "WITH sq1 AS (\n",
    "    SELECT *\n",
    "    FROM `ba-775-b03.BA_775_Dataset.data_final`\n",
    "    WHERE year IN (2018, 2020)\n",
    ")\n",
    "\n",
    ", sq2 AS (\n",
    "    SELECT year, department_name, county, COUNT(*) AS total_workers\n",
    "    FROM sq1\n",
    "    GROUP BY year, department_name, county\n",
    ")\n",
    "\n",
    ", sq3 AS (\n",
    "    SELECT\n",
    "        department_name,\n",
    "        MAX(CASE WHEN year = 2018 THEN total_workers END) AS total_workers_2018,\n",
    "        MAX(CASE WHEN year = 2020 THEN total_workers END) AS total_workers_2020\n",
    "    FROM sq2\n",
    "    GROUP BY department_name\n",
    ")\n",
    "SELECT\n",
    "    RANK() OVER (ORDER BY total_workers_2020 - total_workers_2018) AS rank_var_2020_2018,\n",
    "    department_name,\n",
    "    total_workers_2020 - total_workers_2018 AS w_var_2020_2018\n",
    "FROM sq3\n",
    "WHERE total_workers_2020 IS NOT NULL AND total_workers_2018 IS NOT NULL\n",
    "ORDER BY rank_var_2020_2018;"
   ]
  },
  {
   "cell_type": "markdown",
   "metadata": {
    "tags": []
   },
   "source": [
    "**Answer**: The analysis of workforce changes between 2018 and 2020 reveals that the department most profoundly affected by reductions was BPS Substitute Teachers/Nursing, witnessing a substantial decline of 273 workers. Following closely behind are Boston Center for Youth & Families (-178), BPS Facility Management (-102), Parks Department (-55), and Workers Compensation Service (-43). Notably, regarding the findings in the second section, it is intriguing to observe that BPS Substitute Teachers/Nursing did not rank among the top ten departments with the highest workforce numbers."
   ]
  },
  {
   "cell_type": "markdown",
   "metadata": {},
   "source": [
    "### **Question 2:** Which department witnessed the most substantial increase in workforce hiring between 2020 and 2022, following the onset of the COVID-19 pandemic?"
   ]
  },
  {
   "cell_type": "code",
   "execution_count": 69,
   "metadata": {
    "tags": []
   },
   "outputs": [
    {
     "data": {
      "application/vnd.jupyter.widget-view+json": {
       "model_id": "70d014e835ea4583a29b53bd3472cbe5",
       "version_major": 2,
       "version_minor": 0
      },
      "text/plain": [
       "Query is running:   0%|          |"
      ]
     },
     "metadata": {},
     "output_type": "display_data"
    },
    {
     "data": {
      "application/vnd.jupyter.widget-view+json": {
       "model_id": "a528b6b2e3204f6e84713d39c74a5911",
       "version_major": 2,
       "version_minor": 0
      },
      "text/plain": [
       "Downloading:   0%|          |"
      ]
     },
     "metadata": {},
     "output_type": "display_data"
    },
    {
     "data": {
      "text/html": [
       "<div>\n",
       "<style scoped>\n",
       "    .dataframe tbody tr th:only-of-type {\n",
       "        vertical-align: middle;\n",
       "    }\n",
       "\n",
       "    .dataframe tbody tr th {\n",
       "        vertical-align: top;\n",
       "    }\n",
       "\n",
       "    .dataframe thead th {\n",
       "        text-align: right;\n",
       "    }\n",
       "</style>\n",
       "<table border=\"1\" class=\"dataframe\">\n",
       "  <thead>\n",
       "    <tr style=\"text-align: right;\">\n",
       "      <th></th>\n",
       "      <th>rank_var_2022_2020</th>\n",
       "      <th>department_name</th>\n",
       "      <th>w_var_2022_2020</th>\n",
       "    </tr>\n",
       "  </thead>\n",
       "  <tbody>\n",
       "    <tr>\n",
       "      <th>0</th>\n",
       "      <td>1</td>\n",
       "      <td>Food &amp; Nutrition Svc</td>\n",
       "      <td>428</td>\n",
       "    </tr>\n",
       "    <tr>\n",
       "      <th>1</th>\n",
       "      <td>2</td>\n",
       "      <td>Boston Fire Department</td>\n",
       "      <td>87</td>\n",
       "    </tr>\n",
       "    <tr>\n",
       "      <th>2</th>\n",
       "      <td>3</td>\n",
       "      <td>BPS Special Education</td>\n",
       "      <td>42</td>\n",
       "    </tr>\n",
       "    <tr>\n",
       "      <th>3</th>\n",
       "      <td>4</td>\n",
       "      <td>BPS Athletics</td>\n",
       "      <td>34</td>\n",
       "    </tr>\n",
       "    <tr>\n",
       "      <th>4</th>\n",
       "      <td>5</td>\n",
       "      <td>Health &amp; Human Servs</td>\n",
       "      <td>25</td>\n",
       "    </tr>\n",
       "    <tr>\n",
       "      <th>...</th>\n",
       "      <td>...</td>\n",
       "      <td>...</td>\n",
       "      <td>...</td>\n",
       "    </tr>\n",
       "    <tr>\n",
       "      <th>210</th>\n",
       "      <td>211</td>\n",
       "      <td>BPS Human Resource Team</td>\n",
       "      <td>-29</td>\n",
       "    </tr>\n",
       "    <tr>\n",
       "      <th>211</th>\n",
       "      <td>212</td>\n",
       "      <td>Mission Hill K-8</td>\n",
       "      <td>-33</td>\n",
       "    </tr>\n",
       "    <tr>\n",
       "      <th>212</th>\n",
       "      <td>213</td>\n",
       "      <td>Jackson/Mann K-8</td>\n",
       "      <td>-38</td>\n",
       "    </tr>\n",
       "    <tr>\n",
       "      <th>213</th>\n",
       "      <td>214</td>\n",
       "      <td>Boston Police Department</td>\n",
       "      <td>-39</td>\n",
       "    </tr>\n",
       "    <tr>\n",
       "      <th>214</th>\n",
       "      <td>215</td>\n",
       "      <td>Traffic Division</td>\n",
       "      <td>-41</td>\n",
       "    </tr>\n",
       "  </tbody>\n",
       "</table>\n",
       "<p>215 rows × 3 columns</p>\n",
       "</div>"
      ],
      "text/plain": [
       "     rank_var_2022_2020           department_name  w_var_2022_2020\n",
       "0                     1      Food & Nutrition Svc              428\n",
       "1                     2    Boston Fire Department               87\n",
       "2                     3     BPS Special Education               42\n",
       "3                     4             BPS Athletics               34\n",
       "4                     5      Health & Human Servs               25\n",
       "..                  ...                       ...              ...\n",
       "210                 211   BPS Human Resource Team              -29\n",
       "211                 212          Mission Hill K-8              -33\n",
       "212                 213          Jackson/Mann K-8              -38\n",
       "213                 214  Boston Police Department              -39\n",
       "214                 215          Traffic Division              -41\n",
       "\n",
       "[215 rows x 3 columns]"
      ]
     },
     "execution_count": 69,
     "metadata": {},
     "output_type": "execute_result"
    }
   ],
   "source": [
    "%%bigquery\n",
    "WITH sq1 AS (\n",
    "    SELECT *\n",
    "    FROM `ba-775-b03.BA_775_Dataset.data_final`\n",
    "    WHERE year IN (2020, 2022)\n",
    ")\n",
    "\n",
    ", sq2 AS (\n",
    "    SELECT year, department_name, county, COUNT(*) AS total_workers\n",
    "    FROM sq1\n",
    "    GROUP BY year, department_name, county\n",
    ")\n",
    "\n",
    ", sq3 AS (\n",
    "    SELECT\n",
    "        department_name,\n",
    "        MAX(CASE WHEN year = 2020 THEN total_workers END) AS total_workers_2020,\n",
    "        MAX(CASE WHEN year = 2022 THEN total_workers END) AS total_workers_2022\n",
    "    FROM sq2\n",
    "    GROUP BY department_name\n",
    ")\n",
    "\n",
    "SELECT\n",
    "    RANK() OVER (ORDER BY total_workers_2022 - total_workers_2020 DESC) AS rank_var_2022_2020,\n",
    "    department_name,\n",
    "    total_workers_2022 - total_workers_2020 AS w_var_2022_2020\n",
    "FROM sq3\n",
    "WHERE total_workers_2022 IS NOT NULL AND total_workers_2020  IS NOT NULL\n",
    "ORDER BY rank_var_2022_2020;"
   ]
  },
  {
   "cell_type": "markdown",
   "metadata": {
    "tags": []
   },
   "source": [
    "**Answer**: \n",
    "The department that experienced the most significant increase in workforce hiring between 2020 and 2022, in the aftermath of the COVID-19 pandemic, is Food & Nutrition Services, marking an impressive surge with 428 new hires. Following closely behind are Boston Fire Department (87), BPS Special Education (42), BPS Athletics (34), and Health & Human Services (25). Although the Department of Food & Nutrition Services\n",
    "does not appear in the top 10, these results highlight a notable expansion of staffing during the specified period, reflecting the organizational response to changing needs in the post-pandemic landscape."
   ]
  },
  {
   "cell_type": "markdown",
   "metadata": {},
   "source": [
    "### **Question 3:** Which county experienced the most significant worker layoffs between 2018 and 2020, prior to the onset of the COVID-19 pandemic?"
   ]
  },
  {
   "cell_type": "code",
   "execution_count": 70,
   "metadata": {
    "tags": []
   },
   "outputs": [
    {
     "data": {
      "application/vnd.jupyter.widget-view+json": {
       "model_id": "4bba1c8094b446b48062bd582ec8f109",
       "version_major": 2,
       "version_minor": 0
      },
      "text/plain": [
       "Query is running:   0%|          |"
      ]
     },
     "metadata": {},
     "output_type": "display_data"
    },
    {
     "data": {
      "application/vnd.jupyter.widget-view+json": {
       "model_id": "491a22138dca4ab494684109dc48c2bb",
       "version_major": 2,
       "version_minor": 0
      },
      "text/plain": [
       "Downloading:   0%|          |"
      ]
     },
     "metadata": {},
     "output_type": "display_data"
    },
    {
     "data": {
      "text/html": [
       "<div>\n",
       "<style scoped>\n",
       "    .dataframe tbody tr th:only-of-type {\n",
       "        vertical-align: middle;\n",
       "    }\n",
       "\n",
       "    .dataframe tbody tr th {\n",
       "        vertical-align: top;\n",
       "    }\n",
       "\n",
       "    .dataframe thead th {\n",
       "        text-align: right;\n",
       "    }\n",
       "</style>\n",
       "<table border=\"1\" class=\"dataframe\">\n",
       "  <thead>\n",
       "    <tr style=\"text-align: right;\">\n",
       "      <th></th>\n",
       "      <th>rank_change_2020_2018</th>\n",
       "      <th>county</th>\n",
       "      <th>change_2020_2018</th>\n",
       "    </tr>\n",
       "  </thead>\n",
       "  <tbody>\n",
       "    <tr>\n",
       "      <th>0</th>\n",
       "      <td>1</td>\n",
       "      <td>Suffolk County</td>\n",
       "      <td>-1312</td>\n",
       "    </tr>\n",
       "    <tr>\n",
       "      <th>1</th>\n",
       "      <td>2</td>\n",
       "      <td>Middlesex County</td>\n",
       "      <td>-248</td>\n",
       "    </tr>\n",
       "    <tr>\n",
       "      <th>2</th>\n",
       "      <td>3</td>\n",
       "      <td>Norfolk County</td>\n",
       "      <td>-131</td>\n",
       "    </tr>\n",
       "    <tr>\n",
       "      <th>3</th>\n",
       "      <td>4</td>\n",
       "      <td>Plymouth County</td>\n",
       "      <td>-30</td>\n",
       "    </tr>\n",
       "    <tr>\n",
       "      <th>4</th>\n",
       "      <td>5</td>\n",
       "      <td>Barnstable County</td>\n",
       "      <td>-8</td>\n",
       "    </tr>\n",
       "    <tr>\n",
       "      <th>5</th>\n",
       "      <td>6</td>\n",
       "      <td>Essex County</td>\n",
       "      <td>-7</td>\n",
       "    </tr>\n",
       "    <tr>\n",
       "      <th>6</th>\n",
       "      <td>7</td>\n",
       "      <td>Hampden County</td>\n",
       "      <td>-4</td>\n",
       "    </tr>\n",
       "    <tr>\n",
       "      <th>7</th>\n",
       "      <td>8</td>\n",
       "      <td>Dukes County</td>\n",
       "      <td>-2</td>\n",
       "    </tr>\n",
       "    <tr>\n",
       "      <th>8</th>\n",
       "      <td>9</td>\n",
       "      <td>Berkshire County</td>\n",
       "      <td>-1</td>\n",
       "    </tr>\n",
       "    <tr>\n",
       "      <th>9</th>\n",
       "      <td>9</td>\n",
       "      <td>Worcester County</td>\n",
       "      <td>-1</td>\n",
       "    </tr>\n",
       "    <tr>\n",
       "      <th>10</th>\n",
       "      <td>11</td>\n",
       "      <td>Nantucket County</td>\n",
       "      <td>0</td>\n",
       "    </tr>\n",
       "    <tr>\n",
       "      <th>11</th>\n",
       "      <td>12</td>\n",
       "      <td>Bristol County</td>\n",
       "      <td>10</td>\n",
       "    </tr>\n",
       "  </tbody>\n",
       "</table>\n",
       "</div>"
      ],
      "text/plain": [
       "    rank_change_2020_2018             county  change_2020_2018\n",
       "0                       1     Suffolk County             -1312\n",
       "1                       2   Middlesex County              -248\n",
       "2                       3     Norfolk County              -131\n",
       "3                       4    Plymouth County               -30\n",
       "4                       5  Barnstable County                -8\n",
       "5                       6       Essex County                -7\n",
       "6                       7     Hampden County                -4\n",
       "7                       8       Dukes County                -2\n",
       "8                       9   Berkshire County                -1\n",
       "9                       9   Worcester County                -1\n",
       "10                     11   Nantucket County                 0\n",
       "11                     12     Bristol County                10"
      ]
     },
     "execution_count": 70,
     "metadata": {},
     "output_type": "execute_result"
    }
   ],
   "source": [
    "%%bigquery\n",
    "WITH sq1 AS (\n",
    "    SELECT *\n",
    "    FROM `ba-775-b03.BA_775_Dataset.data_final`\n",
    "    WHERE year IN (2018, 2020)\n",
    ")\n",
    "\n",
    ", sq2 AS (\n",
    "    SELECT year, county, COUNT(*) AS total_workers\n",
    "    FROM sq1\n",
    "    GROUP BY year, county\n",
    ")\n",
    "\n",
    ", sq3 AS (\n",
    "    SELECT\n",
    "        county,\n",
    "        MAX(CASE WHEN year = 2018 THEN total_workers END) AS total_workers_2018,\n",
    "        MAX(CASE WHEN year = 2020 THEN total_workers END) AS total_workers_2020\n",
    "    FROM sq2\n",
    "    GROUP BY county\n",
    ")\n",
    "\n",
    ", sq4 AS (\n",
    "    SELECT\n",
    "        county,\n",
    "        total_workers_2020 - total_workers_2018 AS change_2020_2018\n",
    "    FROM sq3\n",
    "    WHERE total_workers_2020 IS NOT NULL AND total_workers_2018 IS NOT NULL\n",
    ")\n",
    "\n",
    "SELECT\n",
    "    RANK() OVER (ORDER BY change_2020_2018) AS rank_change_2020_2018,\n",
    "    county,\n",
    "    change_2020_2018\n",
    "FROM sq4\n",
    "ORDER BY change_2020_2018;"
   ]
  },
  {
   "cell_type": "markdown",
   "metadata": {},
   "source": [
    "**Answer**: Suffolk County, which according to Section 1 results is the county with the highest percentage of employees, emerged as the county that faced the most substantial worker layoffs between 2018 and 2020, with a notable decrease of 1,312 workers. Middlesex County followed closely with a decrease of 248 workers, and Norfolk County saw a reduction of 131 workers. Additionally, Plymouth County experienced a decrease of 36 workers during this period. "
   ]
  },
  {
   "cell_type": "markdown",
   "metadata": {},
   "source": [
    "### **Question 4:** Which county underwent the most significant worker hiring between 2020 and 2022, following the COVID-19 pandemic?"
   ]
  },
  {
   "cell_type": "code",
   "execution_count": 71,
   "metadata": {
    "tags": []
   },
   "outputs": [
    {
     "data": {
      "application/vnd.jupyter.widget-view+json": {
       "model_id": "1785a95e39c34aaf892d6902489f47c2",
       "version_major": 2,
       "version_minor": 0
      },
      "text/plain": [
       "Query is running:   0%|          |"
      ]
     },
     "metadata": {},
     "output_type": "display_data"
    },
    {
     "data": {
      "application/vnd.jupyter.widget-view+json": {
       "model_id": "701d17cfe3894e1b9a3cc1ed9e48b22b",
       "version_major": 2,
       "version_minor": 0
      },
      "text/plain": [
       "Downloading:   0%|          |"
      ]
     },
     "metadata": {},
     "output_type": "display_data"
    },
    {
     "data": {
      "text/html": [
       "<div>\n",
       "<style scoped>\n",
       "    .dataframe tbody tr th:only-of-type {\n",
       "        vertical-align: middle;\n",
       "    }\n",
       "\n",
       "    .dataframe tbody tr th {\n",
       "        vertical-align: top;\n",
       "    }\n",
       "\n",
       "    .dataframe thead th {\n",
       "        text-align: right;\n",
       "    }\n",
       "</style>\n",
       "<table border=\"1\" class=\"dataframe\">\n",
       "  <thead>\n",
       "    <tr style=\"text-align: right;\">\n",
       "      <th></th>\n",
       "      <th>rank_change_2022_2020</th>\n",
       "      <th>county</th>\n",
       "      <th>change_2022_2020</th>\n",
       "    </tr>\n",
       "  </thead>\n",
       "  <tbody>\n",
       "    <tr>\n",
       "      <th>0</th>\n",
       "      <td>1</td>\n",
       "      <td>Suffolk County</td>\n",
       "      <td>908</td>\n",
       "    </tr>\n",
       "    <tr>\n",
       "      <th>1</th>\n",
       "      <td>2</td>\n",
       "      <td>Norfolk County</td>\n",
       "      <td>173</td>\n",
       "    </tr>\n",
       "    <tr>\n",
       "      <th>2</th>\n",
       "      <td>3</td>\n",
       "      <td>Middlesex County</td>\n",
       "      <td>130</td>\n",
       "    </tr>\n",
       "    <tr>\n",
       "      <th>3</th>\n",
       "      <td>4</td>\n",
       "      <td>Plymouth County</td>\n",
       "      <td>82</td>\n",
       "    </tr>\n",
       "    <tr>\n",
       "      <th>4</th>\n",
       "      <td>5</td>\n",
       "      <td>Bristol County</td>\n",
       "      <td>43</td>\n",
       "    </tr>\n",
       "    <tr>\n",
       "      <th>5</th>\n",
       "      <td>6</td>\n",
       "      <td>Essex County</td>\n",
       "      <td>37</td>\n",
       "    </tr>\n",
       "    <tr>\n",
       "      <th>6</th>\n",
       "      <td>7</td>\n",
       "      <td>Worcester County</td>\n",
       "      <td>22</td>\n",
       "    </tr>\n",
       "    <tr>\n",
       "      <th>7</th>\n",
       "      <td>8</td>\n",
       "      <td>Barnstable County</td>\n",
       "      <td>4</td>\n",
       "    </tr>\n",
       "    <tr>\n",
       "      <th>8</th>\n",
       "      <td>9</td>\n",
       "      <td>Berkshire County</td>\n",
       "      <td>3</td>\n",
       "    </tr>\n",
       "    <tr>\n",
       "      <th>9</th>\n",
       "      <td>9</td>\n",
       "      <td>Hampden County</td>\n",
       "      <td>3</td>\n",
       "    </tr>\n",
       "  </tbody>\n",
       "</table>\n",
       "</div>"
      ],
      "text/plain": [
       "   rank_change_2022_2020             county  change_2022_2020\n",
       "0                      1     Suffolk County               908\n",
       "1                      2     Norfolk County               173\n",
       "2                      3   Middlesex County               130\n",
       "3                      4    Plymouth County                82\n",
       "4                      5     Bristol County                43\n",
       "5                      6       Essex County                37\n",
       "6                      7   Worcester County                22\n",
       "7                      8  Barnstable County                 4\n",
       "8                      9   Berkshire County                 3\n",
       "9                      9     Hampden County                 3"
      ]
     },
     "execution_count": 71,
     "metadata": {},
     "output_type": "execute_result"
    }
   ],
   "source": [
    "%%bigquery\n",
    "WITH sq1 AS (\n",
    "    SELECT *\n",
    "    FROM `ba-775-b03.BA_775_Dataset.data_final`\n",
    "    WHERE year IN (2020, 2022)\n",
    ")\n",
    "\n",
    ", sq2 AS (\n",
    "    SELECT year, county, COUNT(*) AS total_workers\n",
    "    FROM sq1\n",
    "    GROUP BY year, county\n",
    ")\n",
    "\n",
    ", sq3 AS (\n",
    "    SELECT\n",
    "        county,\n",
    "        MAX(CASE WHEN year = 2020 THEN total_workers END) AS total_workers_2020,\n",
    "        MAX(CASE WHEN year = 2022 THEN total_workers END) AS total_workers_2022\n",
    "    FROM sq2\n",
    "    GROUP BY county\n",
    ")\n",
    "\n",
    ", sq4 AS (\n",
    "    SELECT\n",
    "        county,\n",
    "        total_workers_2022 - total_workers_2020 AS change_2022_2020\n",
    "    FROM sq3\n",
    "    WHERE total_workers_2022 IS NOT NULL AND total_workers_2020 IS NOT NULL\n",
    ")\n",
    "\n",
    "SELECT\n",
    "    RANK() OVER (ORDER BY change_2022_2020 DESC) AS rank_change_2022_2020,\n",
    "    county,\n",
    "    change_2022_2020\n",
    "FROM sq4\n",
    "ORDER BY change_2022_2020 DESC;"
   ]
  },
  {
   "cell_type": "markdown",
   "metadata": {
    "tags": []
   },
   "source": [
    "**Answer**: Suffolk County stands out as the county with the most significant worker hiring between 2020 and 2022, post-COVID-19 pandemic, witnessing an impressive increase of 908 workers. This surge in hiring is particularly noteworthy given Suffolk County's initial status as the county with the highest percentage of employees, as indicated in Section 1 results. Norfolk County follows with a notable hiring increase of 173 workers,and Middlesex with an increase of 130 workers."
   ]
  },
  {
   "cell_type": "markdown",
   "metadata": {
    "id": "AwjQgewtjQTy",
    "tags": []
   },
   "source": [
    "# **Conclusion**\n",
    "\n",
    "*Unraveling the US Economy (2000-2020)*\n",
    "\n",
    "Our journey through the US economy from 2000 to 2020 unveiled some fascinating stories. One of the most striking tales was the dip during the 2008 recession, impacting both jobs and the overall economy. Although GDP and the number of businesses grew since 2000, job creation didn't keep up.\n",
    "\n",
    "When we looked closer at the recession years, we discovered that some job sectors remained stable, like Agriculture, Utilities, and Education, while others, such as Administrative, Manufacturing, and Construction, faced more ups and downs.\n",
    "\n",
    "As we traveled through states and their GDP, some states consistently stood out as leaders, like New York, California, and Texas. Florida, in particular, impressed us with its nearly doubled GDP over the course.\n",
    "\n",
    "Lastly, we explored how firm closures and GDP are connected. It turns out that when businesses struggled during the recession, it had a noticeable impact on the economy. The more firms closed, the lower the GDP.\n",
    "\n",
    "In simple terms, our analysis illuminated the US economy's ups and downs, showcasing its resilience, differences between job sectors, and the tightrope walk between business health and economic prosperity. These insights provide us with valuable guidance as we navigate the complex world of economics.\n"
   ]
  },
  {
   "cell_type": "markdown",
   "metadata": {},
   "source": [
    "# **Acknowledgments**\n",
    "\n",
    "We would like to acknowledge the following  \n",
    "\n",
    "1. ChatGPT from OpenAI for its assistance during the course of this project. ChatGPT aided us in three key instances:\n",
    "* \t\tPlotting the Map Plot: ChatGPT provided guidance in understanding the approach to create and interpret map plots, enhancing the geographical aspect of our analysis.\n",
    "* \t\tHighlighting Key Points: ChatGPT aided in highlighting the local maxima and minima an in our line graphs, making our insights more accessible and visually compelling.\n",
    "\n",
    "* \t\tGraph Beautification: ChatGPT assisted in adjusting the formatting of float values for years on the X-axis, enhancing the clarity of several graphs.\n",
    "\n",
    "2. Official documentation of Pandas, Numpy, Seaborn and Matplotlib for further clarification of functions/arguments.\n",
    "\n"
   ]
  },
  {
   "cell_type": "markdown",
   "metadata": {},
   "source": [
    "# **Next Steps**\n",
    "\n"
   ]
  }
 ],
 "metadata": {
  "colab": {
   "collapsed_sections": [
    "4uty_m2nOw_9",
    "o1R7EaC-O5Zh",
    "qc0J0W7hPV67",
    "IBTe3jg5AVr7",
    "nDIfJu1lTP9-",
    "uIwvQGK5yaaa",
    "4yA5ScoyyjWR",
    "Sy2fG9W70igi",
    "Uy2gJScD49Va",
    "SLWgJVBghJ90",
    "SgdKCjY5U5-8",
    "AwjQgewtjQTy"
   ],
   "provenance": []
  },
  "environment": {
   "kernel": "python3",
   "name": "common-cpu.m113",
   "type": "gcloud",
   "uri": "gcr.io/deeplearning-platform-release/base-cpu:m113"
  },
  "kernelspec": {
   "display_name": "Python 3",
   "language": "python",
   "name": "python3"
  },
  "language_info": {
   "codemirror_mode": {
    "name": "ipython",
    "version": 3
   },
   "file_extension": ".py",
   "mimetype": "text/x-python",
   "name": "python",
   "nbconvert_exporter": "python",
   "pygments_lexer": "ipython3",
   "version": "3.10.13"
  }
 },
 "nbformat": 4,
 "nbformat_minor": 4
}
