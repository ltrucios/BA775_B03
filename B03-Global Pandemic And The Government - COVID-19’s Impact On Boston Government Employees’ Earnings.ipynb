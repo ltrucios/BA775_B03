{
 "cells": [
  {
   "cell_type": "markdown",
   "metadata": {
    "id": "tiUGzd4Rb5h9"
   },
   "source": [
    "**B03 Team Members:**   Himani Tyagi,    Jaishankar Govindaraj,    Leonardo Trucios Cevasco,    Srithijaa Sankepally,    Yumeng (Emelyn) Tang"
   ]
  },
  {
   "cell_type": "markdown",
   "metadata": {
    "id": "Vjg0nxp_OTkk",
    "tags": []
   },
   "source": [
    "# **Summary of the Assignment**"
   ]
  },
  {
   "cell_type": "markdown",
   "metadata": {
    "id": "ahdS4LLZwYPd"
   },
   "source": [
    "**Project title :** Global Pandemic And The Government - COVID-19’s Impact On Boston Government Employees’ Earnings\n",
    "\n",
    "**Problem Definition:** Evaluate the Boston government sector to understand the impact of the global pandemic, COVID-19, on the employees’ earnings. \n",
    "The main topics that we will focus on covering are the followings: \n",
    "\n",
    "1. Examine the data across years preceding, during, and following the pandemic to assess whether there have been any effects on both earnings and the workforce.\n",
    "2. Explore which job levels/positions have recorded the highest earnings, and which department have recorded the highest number of employees\n",
    "3. Determine which income component has the most impact on an employee’s gross earnings.\n",
    "4. Construct patterns from data collected across various Boston areas/zip codes.\n",
    "\n",
    "**Data:** For the developement of this project we have used two datasets from two different sources.\n",
    "\n",
    "1. Boston Government - Office of Human Resources: https://data.boston.gov/dataset/employee-earnings-report\n",
    "  * The City of Boston releases an annual dataset containing payroll information for its employees, encompassing employee names, job details, and earnings breakdown, including base salary, overtime, and total compensation. To conduct a comprehensive analysis, we are using the dataset spanning the years 2018, 2019, 2020, 2021, and 2022. This resource, offers citizens valuable insights into the financial aspects of the City's workforce during these specific years.\n",
    "\n",
    "2. United States Zip Codes - Massachusetts: https://www.unitedstateszipcodes.org/ma/\n",
    "  * This dataset provides zip code information for Massachusetts, including key details such as zip code, type, primary city, state, county, timezone, latitude, longitude among others. It offers a concise and comprehensive snapshot of geographic and locational attributes associated with each zip code in the state of Massachusetts. By incorporating this dataset, the project can be analyzed in a location-wise level.\n",
    "\n",
    "\n",
    "**Motivation :** Government jobs tend to be secure because they are essential for the functioning of society and are less influenced by market fluctuations compared to private sector. We aim to provide insights into Boston’s government sector for our peers with potential interest.\n",
    "\n",
    "**Executive Summary:** This project assesses the effects of the COVID-19 pandemic on earnings in the Boston government sector. Utilizing datasets from 2018 to 2022, sourced from Boston Government's payroll records and Massachusetts zip code information, the study evaluates changes in workforce and earnings during the pre-pandemic, pandemic, and post-pandemic periods. Key objectives include identifying top-earning job levels, determining departments with the highest employee numbers, and analyzing income components impacting gross earnings. Emphasis is placed on constructing patterns across Boston areas and zip codes. Motivated by the stability of government jobs, our project aims to provide insights into Boston's government workforce over the last five years, which can be a source of interest for our peers."
   ]
  },
  {
   "cell_type": "markdown",
   "metadata": {
    "tags": []
   },
   "source": [
    "# **Description of the Datasets**"
   ]
  },
  {
   "cell_type": "markdown",
   "metadata": {
    "id": "heOaBriuFKpj"
   },
   "source": [
    "## Description for Boston Government - Office of Human Resources Dataset\n",
    "\n",
    "### Dictionary\n",
    "\n",
    "*   **Name:** Full name of each government employee\n",
    "\n",
    "*  **Department_Name:** The department in which the employee works\n",
    "\n",
    "*   **Title:** The job title or position held by the employee\n",
    "\n",
    "*   **Regular:** Regular earnings or base salary of the employee\n",
    "\n",
    "*   **Retro:** Retroactive pay, if any, received by the employee. This concept refers to compensation added to an employee's paycheck to make up for a compensation shortfall in a previous pay period\n",
    "\n",
    "*   **Other:** Additional earnings or extraordinary income for the employee. This type of compensation may consist of various supplementary forms of compensation, including bonuses, allowances, or reimbursement expenses\n",
    "\n",
    "*   **Overtime:** Overtime payments received by the employee\n",
    "\n",
    "*   **Injured:** Earnings related to injury, if applicable\n",
    "\n",
    "*   **Detail:** Additional details payments or special job-related earnings\n",
    "\n",
    "*   **Quinn Education:**  Earnings related to educational incentives or allowances\n",
    "\n",
    "*   **Total Gross:** The total earnings of the employee, including regular, retro, other, overtime, injured, detail, and education earnings.\n",
    "\n",
    "*   **Postal:** The zip code associated with the employee's location\n",
    "\n",
    "*   **Year:** The year for which the earnings data is reported\n",
    "\n",
    "\n",
    "### Basic Information for the concatenated dataset from 2018-2022 tables\n",
    "\n",
    "* There are a total of 114147 rows\n",
    "* There are a total of 12 columns\n",
    "* Null values: \n",
    "    * Zip_code column returned 93 null values\n",
    "    * Columns like regular, retro, other, overtime, injured, detail and education represent income components, hence, null values are taken as USD 0, which means that there has been no contribution towards that component"
   ]
  },
  {
   "cell_type": "markdown",
   "metadata": {},
   "source": [
    "## United States Zip Codes - Massachusetts\n",
    "\n",
    "### Dictionary\n",
    "\n",
    "*   **zip:** The ZIP code, a numerical code used in postal addresses to facilitate mail delivery\n",
    "\n",
    "*  **type:** The type of address associated with the ZIP code (e.g., STANDARD for standard delivery or PO BOX for a post office box address)\n",
    "\n",
    "*   **primary_city:** The primary city or locality associated with the ZIP code\n",
    "\n",
    "*   **state:**  The state in which the ZIP code is located (in this case, MA for Massachusetts)\n",
    "\n",
    "*   **county:** The county to which the ZIP code belongs (e.g., Plymouth County)\n",
    "\n",
    "*   **timezone:** The timezone of the area covered by the ZIP code (e.g., America/New_York)\n",
    "\n",
    "*   **world_region:** The world region or continent to which the ZIP code is geographically associated (in this case, NA for North America)\n",
    "\n",
    "*   **country:** The country to which the ZIP code belongs (in this case, US for the United States)\n",
    "\n",
    "*   **latitude:** The geographic latitude coordinates of the ZIP code location\n",
    "\n",
    "*   **longitude:** The geographic longitude coordinates of the ZIP code location"
   ]
  },
  {
   "cell_type": "markdown",
   "metadata": {},
   "source": [
    "# **Entity Relationship Diagram**"
   ]
  },
  {
   "attachments": {
    "7076b61a-a208-4590-842e-d872107678a9.jpg": {
     "image/jpeg": "[encoded data removed]"
    }
   },
   "cell_type": "markdown",
   "metadata": {},
   "source": [
    "![Entity Relationship Diagram-2.jpg](attachment:7076b61a-a208-4590-842e-d872107678a9.jpg)"
   ]
  },
  {
   "cell_type": "markdown",
   "metadata": {},
   "source": [
    "# **Exploratory Data Analysis**"
   ]
  },
  {
   "cell_type": "markdown",
   "metadata": {},
   "source": [
    "## Data Preparation"
   ]
  },
  {
   "cell_type": "markdown",
   "metadata": {
    "tags": []
   },
   "source": [
    "Before doing all the data cleaning, we checked the dataset for duplicate entries and dropped them, so we can have 1 unique entry for each of the 5 tables that represent the payrolls for 2018, 2019, 2020, 2021, and 2022. While doing this, we are saving the results as a new table for each of the years. "
   ]
  },
  {
   "cell_type": "code",
   "execution_count": 1,
   "metadata": {
    "tags": []
   },
   "outputs": [
    {
     "data": {
      "application/vnd.jupyter.widget-view+json": {
       "model_id": "51ff4359ff1042bf9c86bce2b73693c4",
       "version_major": 2,
       "version_minor": 0
      },
      "text/plain": [
       "Query is running:   0%|          |"
      ]
     },
     "metadata": {},
     "output_type": "display_data"
    },
    {
     "data": {
      "text/html": [
       "<div>\n",
       "<style scoped>\n",
       "    .dataframe tbody tr th:only-of-type {\n",
       "        vertical-align: middle;\n",
       "    }\n",
       "\n",
       "    .dataframe tbody tr th {\n",
       "        vertical-align: top;\n",
       "    }\n",
       "\n",
       "    .dataframe thead th {\n",
       "        text-align: right;\n",
       "    }\n",
       "</style>\n",
       "<table border=\"1\" class=\"dataframe\">\n",
       "  <thead>\n",
       "    <tr style=\"text-align: right;\">\n",
       "      <th></th>\n",
       "    </tr>\n",
       "  </thead>\n",
       "  <tbody>\n",
       "  </tbody>\n",
       "</table>\n",
       "</div>"
      ],
      "text/plain": [
       "Empty DataFrame\n",
       "Columns: []\n",
       "Index: []"
      ]
     },
     "execution_count": 1,
     "metadata": {},
     "output_type": "execute_result"
    }
   ],
   "source": [
    "%%bigquery\n",
    "CREATE OR REPLACE TABLE `ba-775-b03.BA_775_Dataset.2022_unique`AS\n",
    "SELECT *\n",
    "FROM (\n",
    "    SELECT *,\n",
    "           ROW_NUMBER() OVER (PARTITION BY NAME ORDER BY NAME) AS row_num\n",
    "    FROM `ba-775-b03.BA_775_Dataset.2022` \n",
    ") AS subquery\n",
    "WHERE row_num = 1;"
   ]
  },
  {
   "cell_type": "markdown",
   "metadata": {},
   "source": [
    "The table that has information of the payroll in 2022, has 23,204 observations, but only 23,133 are distinct, so we will drop 73 observations"
   ]
  },
  {
   "cell_type": "code",
   "execution_count": 2,
   "metadata": {
    "tags": []
   },
   "outputs": [
    {
     "data": {
      "application/vnd.jupyter.widget-view+json": {
       "model_id": "7e45cd35cea44725b2def6cd8ca2c1f7",
       "version_major": 2,
       "version_minor": 0
      },
      "text/plain": [
       "Query is running:   0%|          |"
      ]
     },
     "metadata": {},
     "output_type": "display_data"
    },
    {
     "data": {
      "text/html": [
       "<div>\n",
       "<style scoped>\n",
       "    .dataframe tbody tr th:only-of-type {\n",
       "        vertical-align: middle;\n",
       "    }\n",
       "\n",
       "    .dataframe tbody tr th {\n",
       "        vertical-align: top;\n",
       "    }\n",
       "\n",
       "    .dataframe thead th {\n",
       "        text-align: right;\n",
       "    }\n",
       "</style>\n",
       "<table border=\"1\" class=\"dataframe\">\n",
       "  <thead>\n",
       "    <tr style=\"text-align: right;\">\n",
       "      <th></th>\n",
       "    </tr>\n",
       "  </thead>\n",
       "  <tbody>\n",
       "  </tbody>\n",
       "</table>\n",
       "</div>"
      ],
      "text/plain": [
       "Empty DataFrame\n",
       "Columns: []\n",
       "Index: []"
      ]
     },
     "execution_count": 2,
     "metadata": {},
     "output_type": "execute_result"
    }
   ],
   "source": [
    "%%bigquery\n",
    "CREATE OR REPLACE TABLE `ba-775-b03.BA_775_Dataset.2021_unique`AS\n",
    "SELECT *\n",
    "FROM (\n",
    "    SELECT *,\n",
    "           ROW_NUMBER() OVER (PARTITION BY NAME ORDER BY NAME) AS row_num\n",
    "    FROM `ba-775-b03.BA_775_Dataset.2021` \n",
    ") AS subquery\n",
    "WHERE row_num = 1;"
   ]
  },
  {
   "cell_type": "markdown",
   "metadata": {
    "tags": []
   },
   "source": [
    "The table that has information of the payroll in 2021, has 22,546 observations, but only 22,472 are distinct, so we will drop 74 observations"
   ]
  },
  {
   "cell_type": "code",
   "execution_count": 3,
   "metadata": {
    "tags": []
   },
   "outputs": [
    {
     "data": {
      "application/vnd.jupyter.widget-view+json": {
       "model_id": "f1f43c3abe9a4e9c96f5a9e89a2ccfa6",
       "version_major": 2,
       "version_minor": 0
      },
      "text/plain": [
       "Query is running:   0%|          |"
      ]
     },
     "metadata": {},
     "output_type": "display_data"
    },
    {
     "data": {
      "text/html": [
       "<div>\n",
       "<style scoped>\n",
       "    .dataframe tbody tr th:only-of-type {\n",
       "        vertical-align: middle;\n",
       "    }\n",
       "\n",
       "    .dataframe tbody tr th {\n",
       "        vertical-align: top;\n",
       "    }\n",
       "\n",
       "    .dataframe thead th {\n",
       "        text-align: right;\n",
       "    }\n",
       "</style>\n",
       "<table border=\"1\" class=\"dataframe\">\n",
       "  <thead>\n",
       "    <tr style=\"text-align: right;\">\n",
       "      <th></th>\n",
       "    </tr>\n",
       "  </thead>\n",
       "  <tbody>\n",
       "  </tbody>\n",
       "</table>\n",
       "</div>"
      ],
      "text/plain": [
       "Empty DataFrame\n",
       "Columns: []\n",
       "Index: []"
      ]
     },
     "execution_count": 3,
     "metadata": {},
     "output_type": "execute_result"
    }
   ],
   "source": [
    "%%bigquery\n",
    "CREATE OR REPLACE TABLE `ba-775-b03.BA_775_Dataset.2020_unique`AS\n",
    "SELECT *\n",
    "FROM (\n",
    "    SELECT *,\n",
    "           ROW_NUMBER() OVER (PARTITION BY NAME ORDER BY NAME) AS row_num\n",
    "    FROM `ba-775-b03.BA_775_Dataset.2020` \n",
    ") AS subquery\n",
    "WHERE row_num = 1;"
   ]
  },
  {
   "cell_type": "markdown",
   "metadata": {},
   "source": [
    "The table that has information of the payroll in 2020, has 21,858 observations, but only 21,785 are distinct, so we will drop 73 observations"
   ]
  },
  {
   "cell_type": "code",
   "execution_count": 4,
   "metadata": {
    "tags": []
   },
   "outputs": [
    {
     "data": {
      "application/vnd.jupyter.widget-view+json": {
       "model_id": "8c5f16113cc04412a63bd7f3e0a376b9",
       "version_major": 2,
       "version_minor": 0
      },
      "text/plain": [
       "Query is running:   0%|          |"
      ]
     },
     "metadata": {},
     "output_type": "display_data"
    },
    {
     "data": {
      "text/html": [
       "<div>\n",
       "<style scoped>\n",
       "    .dataframe tbody tr th:only-of-type {\n",
       "        vertical-align: middle;\n",
       "    }\n",
       "\n",
       "    .dataframe tbody tr th {\n",
       "        vertical-align: top;\n",
       "    }\n",
       "\n",
       "    .dataframe thead th {\n",
       "        text-align: right;\n",
       "    }\n",
       "</style>\n",
       "<table border=\"1\" class=\"dataframe\">\n",
       "  <thead>\n",
       "    <tr style=\"text-align: right;\">\n",
       "      <th></th>\n",
       "    </tr>\n",
       "  </thead>\n",
       "  <tbody>\n",
       "  </tbody>\n",
       "</table>\n",
       "</div>"
      ],
      "text/plain": [
       "Empty DataFrame\n",
       "Columns: []\n",
       "Index: []"
      ]
     },
     "execution_count": 4,
     "metadata": {},
     "output_type": "execute_result"
    }
   ],
   "source": [
    "%%bigquery\n",
    "CREATE OR REPLACE TABLE `ba-775-b03.BA_775_Dataset.2019_unique`AS\n",
    "SELECT *\n",
    "FROM (\n",
    "    SELECT *,\n",
    "           ROW_NUMBER() OVER (PARTITION BY NAME ORDER BY NAME) AS row_num\n",
    "    FROM `ba-775-b03.BA_775_Dataset.2019` \n",
    ") AS subquery\n",
    "WHERE row_num = 1;"
   ]
  },
  {
   "cell_type": "markdown",
   "metadata": {
    "tags": []
   },
   "source": [
    "The table that has information of the payroll in 2019, has 23,312 observations, but only 23,232 are distinct, so we will drop 80 observations"
   ]
  },
  {
   "cell_type": "code",
   "execution_count": 5,
   "metadata": {
    "tags": []
   },
   "outputs": [
    {
     "data": {
      "application/vnd.jupyter.widget-view+json": {
       "model_id": "fcdc3d919747497290d8c9b8fd8d5d0d",
       "version_major": 2,
       "version_minor": 0
      },
      "text/plain": [
       "Query is running:   0%|          |"
      ]
     },
     "metadata": {},
     "output_type": "display_data"
    },
    {
     "data": {
      "text/html": [
       "<div>\n",
       "<style scoped>\n",
       "    .dataframe tbody tr th:only-of-type {\n",
       "        vertical-align: middle;\n",
       "    }\n",
       "\n",
       "    .dataframe tbody tr th {\n",
       "        vertical-align: top;\n",
       "    }\n",
       "\n",
       "    .dataframe thead th {\n",
       "        text-align: right;\n",
       "    }\n",
       "</style>\n",
       "<table border=\"1\" class=\"dataframe\">\n",
       "  <thead>\n",
       "    <tr style=\"text-align: right;\">\n",
       "      <th></th>\n",
       "    </tr>\n",
       "  </thead>\n",
       "  <tbody>\n",
       "  </tbody>\n",
       "</table>\n",
       "</div>"
      ],
      "text/plain": [
       "Empty DataFrame\n",
       "Columns: []\n",
       "Index: []"
      ]
     },
     "execution_count": 5,
     "metadata": {},
     "output_type": "execute_result"
    }
   ],
   "source": [
    "%%bigquery\n",
    "CREATE OR REPLACE TABLE `ba-775-b03.BA_775_Dataset.2018_unique`AS\n",
    "SELECT *\n",
    "FROM (\n",
    "    SELECT *,\n",
    "           ROW_NUMBER() OVER (PARTITION BY NAME ORDER BY NAME) AS row_num\n",
    "    FROM `ba-775-b03.BA_775_Dataset.2018` \n",
    ") AS subquery\n",
    "WHERE row_num = 1;"
   ]
  },
  {
   "cell_type": "markdown",
   "metadata": {},
   "source": [
    "The table that has information of the payroll in 2018, has 23,603 observations, but only 23,525 are distinct, so we will drop 78 observations"
   ]
  },
  {
   "cell_type": "markdown",
   "metadata": {},
   "source": [
    "## Merging the Datasets"
   ]
  },
  {
   "cell_type": "markdown",
   "metadata": {},
   "source": [
    "After cleaning the dataset for duplicates, we merged all the distinct data from years 2018 to 2022. We are saving the merged data under the table named \"data_merged_raw\". We created this new table for ease of working"
   ]
  },
  {
   "cell_type": "code",
   "execution_count": 6,
   "metadata": {
    "tags": []
   },
   "outputs": [
    {
     "data": {
      "application/vnd.jupyter.widget-view+json": {
       "model_id": "8a2672fd3c71413cbe16df1b8760d250",
       "version_major": 2,
       "version_minor": 0
      },
      "text/plain": [
       "Query is running:   0%|          |"
      ]
     },
     "metadata": {},
     "output_type": "display_data"
    },
    {
     "data": {
      "text/html": [
       "<div>\n",
       "<style scoped>\n",
       "    .dataframe tbody tr th:only-of-type {\n",
       "        vertical-align: middle;\n",
       "    }\n",
       "\n",
       "    .dataframe tbody tr th {\n",
       "        vertical-align: top;\n",
       "    }\n",
       "\n",
       "    .dataframe thead th {\n",
       "        text-align: right;\n",
       "    }\n",
       "</style>\n",
       "<table border=\"1\" class=\"dataframe\">\n",
       "  <thead>\n",
       "    <tr style=\"text-align: right;\">\n",
       "      <th></th>\n",
       "    </tr>\n",
       "  </thead>\n",
       "  <tbody>\n",
       "  </tbody>\n",
       "</table>\n",
       "</div>"
      ],
      "text/plain": [
       "Empty DataFrame\n",
       "Columns: []\n",
       "Index: []"
      ]
     },
     "execution_count": 6,
     "metadata": {},
     "output_type": "execute_result"
    }
   ],
   "source": [
    "%%bigquery \n",
    "\n",
    "CREATE OR REPLACE TABLE `ba-775-b03.BA_775_Dataset.data_merged_raw` AS\n",
    "\n",
    "(SELECT\n",
    "  REPLACE(CAST(NAME AS STRING), ',', ' ') AS name,\n",
    "  DEPARTMENT_NAME AS department_name,\n",
    "  TITLE AS job_title,\n",
    "  CAST(REGULAR AS FLOAT64) AS regular,\n",
    "  CAST(RETRO AS FLOAT64) AS retro,\n",
    "  CAST(OTHER AS FLOAT64) AS other,\n",
    "  CAST(OVERTIME AS FLOAT64) AS overtime,\n",
    "  CAST(INJURED AS FLOAT64) AS injured,\n",
    "  CAST(DETAIL AS FLOAT64) AS detail,\n",
    "  CAST(QUINN_EDUCATION AS FLOAT64) AS education,\n",
    "  CAST(TOTAL__GROSS AS FLOAT64) AS total_earnings,\n",
    "  CAST(POSTAL AS TINYINT) AS zip_code,\n",
    "  2022 AS year\n",
    "FROM\n",
    "  `ba-775-b03.BA_775_Dataset.2022_unique`\n",
    "\n",
    "\n",
    "UNION ALL\n",
    "\n",
    "\n",
    "SELECT\n",
    "  REPLACE(CAST(NAME AS STRING), ',', ' ') AS name,\n",
    "  DEPARTMENT_NAME AS department_name,\n",
    "  TITLE AS job_title,\n",
    "  CAST(REGULAR AS FLOAT64) AS regular,\n",
    "  CAST(RETRO AS FLOAT64) AS retro,\n",
    "  CAST(OTHER AS FLOAT64) AS other,\n",
    "  CAST(OVERTIME AS FLOAT64) AS overtime,\n",
    "  CAST(INJURED AS FLOAT64) AS injured,\n",
    "  CAST(DETAIL AS FLOAT64) AS detail,\n",
    "  CAST(QUINN_EDUCATION_INCENTIVE AS FLOAT64) AS education,\n",
    "  CAST(TOTAL_GROSS AS FLOAT64) AS total_earnings,\n",
    "  CAST(POSTAL AS TINYINT) AS zip_code,\n",
    "  2021 AS year\n",
    "FROM\n",
    "  `ba-775-b03.BA_775_Dataset.2021_unique`\n",
    "\n",
    "\n",
    "UNION ALL\n",
    "\n",
    "\n",
    "SELECT\n",
    "  REPLACE(CAST(NAME AS STRING), ',', ' ') AS name,\n",
    "  DEPARTMENT_NAME AS department_name,\n",
    "  TITLE AS job_title,\n",
    "  CAST(_REGULAR_ AS FLOAT64) AS regular,\n",
    "  CAST(_RETRO_ AS FLOAT64) AS retro,\n",
    "  CAST(_OTHER_ AS FLOAT64) AS other,\n",
    "  CAST(_OVERTIME_ AS FLOAT64) AS overtime,\n",
    "  CAST(_INJURED_ AS FLOAT64) AS injured,\n",
    "  CAST(_DETAIL_ AS FLOAT64) AS detail,\n",
    "  CAST(_QUINN___EDUCATION_INCENTIVE_ AS FLOAT64) AS education,\n",
    "  CAST(_TOTAL_EARNINGS_ AS FLOAT64) AS total_earnings,\n",
    "  CAST(POSTAL AS TINYINT) AS zip_code,\n",
    "  2020 AS year\n",
    "FROM\n",
    "  `ba-775-b03.BA_775_Dataset.2020_unique`\n",
    "\n",
    "\n",
    "UNION ALL\n",
    "\n",
    "\n",
    "SELECT\n",
    "  REPLACE(CAST(NAME AS STRING), ',', ' ') AS name,\n",
    "  DEPARTMENT_NAME AS department_name,\n",
    "  TITLE AS job_title,\n",
    "  CAST(_REGULAR_ AS FLOAT64) AS regular,\n",
    "  CAST(_RETRO_ AS FLOAT64) AS retro,\n",
    "  CAST(_OTHER_ AS FLOAT64) AS other,\n",
    "  CAST(_OVERTIME_ AS FLOAT64) AS overtime,\n",
    "  CAST(_INJURED_ AS FLOAT64) AS injured,\n",
    "  CAST(_DETAIL_ AS FLOAT64) AS detail,\n",
    "  CAST(_QUINN_EDUCATION_INCENTIVE_ AS FLOAT64) AS education,\n",
    "  CAST(TOTAL_EARNINGS AS FLOAT64) AS total_earnings,\n",
    "  CAST(POSTAL AS TINYINT) AS zip_code,\n",
    "  2019 AS year\n",
    "FROM\n",
    "  `ba-775-b03.BA_775_Dataset.2019_unique`\n",
    "\n",
    "\n",
    "UNION ALL\n",
    "\n",
    "\n",
    "SELECT\n",
    "  REPLACE(CAST(NAME AS STRING), ',', ' ') AS name,\n",
    "  DEPARTMENT_NAME AS department_name,\n",
    "  TITLE AS job_title,\n",
    "  CAST(REGULAR AS FLOAT64) AS regular,\n",
    "  CAST(RETRO AS FLOAT64) AS retro,\n",
    "  CAST(OTHER AS FLOAT64) AS other,\n",
    "  CAST(OVERTIME AS FLOAT64) AS overtime,\n",
    "  CAST(INJURED AS FLOAT64) AS injured,\n",
    "  CAST(DETAIL AS FLOAT64) AS detail,\n",
    "  CAST(QUINN_EDUCATION_INCENTIVE AS FLOAT64) AS education,\n",
    "  CAST(TOTAL_EARNINGS AS FLOAT64) AS total_earnings,\n",
    "  CAST(POSTAL AS TINYINT) AS zip_code,\n",
    "  2018 AS year\n",
    "FROM\n",
    "  `ba-775-b03.BA_775_Dataset.2018_unique`);"
   ]
  },
  {
   "cell_type": "markdown",
   "metadata": {},
   "source": [
    "Below is a snapshot of the new merged table with payroll data from 2018 to 2022"
   ]
  },
  {
   "cell_type": "code",
   "execution_count": 7,
   "metadata": {
    "tags": []
   },
   "outputs": [
    {
     "data": {
      "application/vnd.jupyter.widget-view+json": {
       "model_id": "3f3a7b21e5474064b50055ea0675c6e6",
       "version_major": 2,
       "version_minor": 0
      },
      "text/plain": [
       "Query is running:   0%|          |"
      ]
     },
     "metadata": {},
     "output_type": "display_data"
    },
    {
     "data": {
      "application/vnd.jupyter.widget-view+json": {
       "model_id": "c9b4834a4ef9446a983ac26e41dfaa65",
       "version_major": 2,
       "version_minor": 0
      },
      "text/plain": [
       "Downloading:   0%|          |"
      ]
     },
     "metadata": {},
     "output_type": "display_data"
    },
    {
     "data": {
      "text/html": [
       "<div>\n",
       "<style scoped>\n",
       "    .dataframe tbody tr th:only-of-type {\n",
       "        vertical-align: middle;\n",
       "    }\n",
       "\n",
       "    .dataframe tbody tr th {\n",
       "        vertical-align: top;\n",
       "    }\n",
       "\n",
       "    .dataframe thead th {\n",
       "        text-align: right;\n",
       "    }\n",
       "</style>\n",
       "<table border=\"1\" class=\"dataframe\">\n",
       "  <thead>\n",
       "    <tr style=\"text-align: right;\">\n",
       "      <th></th>\n",
       "      <th>name</th>\n",
       "      <th>department_name</th>\n",
       "      <th>job_title</th>\n",
       "      <th>regular</th>\n",
       "      <th>retro</th>\n",
       "      <th>other</th>\n",
       "      <th>overtime</th>\n",
       "      <th>injured</th>\n",
       "      <th>detail</th>\n",
       "      <th>education</th>\n",
       "      <th>total_earnings</th>\n",
       "      <th>zip_code</th>\n",
       "      <th>year</th>\n",
       "    </tr>\n",
       "  </thead>\n",
       "  <tbody>\n",
       "    <tr>\n",
       "      <th>0</th>\n",
       "      <td>Conlin Jane F</td>\n",
       "      <td>BPS Health Service</td>\n",
       "      <td>Nurse</td>\n",
       "      <td>115017.59</td>\n",
       "      <td>NaN</td>\n",
       "      <td>NaN</td>\n",
       "      <td>NaN</td>\n",
       "      <td>NaN</td>\n",
       "      <td>NaN</td>\n",
       "      <td>NaN</td>\n",
       "      <td>115017.59</td>\n",
       "      <td>&lt;NA&gt;</td>\n",
       "      <td>2020</td>\n",
       "    </tr>\n",
       "    <tr>\n",
       "      <th>1</th>\n",
       "      <td>Torres Lucy Levana</td>\n",
       "      <td>Lyon Pilot High 9-12</td>\n",
       "      <td>Teacher</td>\n",
       "      <td>92688.76</td>\n",
       "      <td>NaN</td>\n",
       "      <td>1934.29</td>\n",
       "      <td>NaN</td>\n",
       "      <td>NaN</td>\n",
       "      <td>NaN</td>\n",
       "      <td>NaN</td>\n",
       "      <td>94623.05</td>\n",
       "      <td>&lt;NA&gt;</td>\n",
       "      <td>2020</td>\n",
       "    </tr>\n",
       "    <tr>\n",
       "      <th>2</th>\n",
       "      <td>Seddon Barbara C.</td>\n",
       "      <td>BPS Latin Academy</td>\n",
       "      <td>Teacher</td>\n",
       "      <td>98809.68</td>\n",
       "      <td>NaN</td>\n",
       "      <td>NaN</td>\n",
       "      <td>NaN</td>\n",
       "      <td>NaN</td>\n",
       "      <td>NaN</td>\n",
       "      <td>NaN</td>\n",
       "      <td>98809.68</td>\n",
       "      <td>&lt;NA&gt;</td>\n",
       "      <td>2020</td>\n",
       "    </tr>\n",
       "    <tr>\n",
       "      <th>3</th>\n",
       "      <td>Wajd Basil</td>\n",
       "      <td>BPS McKinley Middle</td>\n",
       "      <td>Teacher</td>\n",
       "      <td>86675.98</td>\n",
       "      <td>NaN</td>\n",
       "      <td>500.00</td>\n",
       "      <td>NaN</td>\n",
       "      <td>NaN</td>\n",
       "      <td>NaN</td>\n",
       "      <td>NaN</td>\n",
       "      <td>87175.98</td>\n",
       "      <td>&lt;NA&gt;</td>\n",
       "      <td>2020</td>\n",
       "    </tr>\n",
       "    <tr>\n",
       "      <th>4</th>\n",
       "      <td>Gaudreau Jordan</td>\n",
       "      <td>BPS Dever Elementary</td>\n",
       "      <td>Teacher</td>\n",
       "      <td>64334.71</td>\n",
       "      <td>646.15</td>\n",
       "      <td>NaN</td>\n",
       "      <td>NaN</td>\n",
       "      <td>NaN</td>\n",
       "      <td>NaN</td>\n",
       "      <td>NaN</td>\n",
       "      <td>64980.86</td>\n",
       "      <td>&lt;NA&gt;</td>\n",
       "      <td>2020</td>\n",
       "    </tr>\n",
       "    <tr>\n",
       "      <th>...</th>\n",
       "      <td>...</td>\n",
       "      <td>...</td>\n",
       "      <td>...</td>\n",
       "      <td>...</td>\n",
       "      <td>...</td>\n",
       "      <td>...</td>\n",
       "      <td>...</td>\n",
       "      <td>...</td>\n",
       "      <td>...</td>\n",
       "      <td>...</td>\n",
       "      <td>...</td>\n",
       "      <td>...</td>\n",
       "      <td>...</td>\n",
       "    </tr>\n",
       "    <tr>\n",
       "      <th>114142</th>\n",
       "      <td>Danilecki John H</td>\n",
       "      <td>Boston Police Department</td>\n",
       "      <td>Police Captain</td>\n",
       "      <td>164100.70</td>\n",
       "      <td>NaN</td>\n",
       "      <td>24504.13</td>\n",
       "      <td>71315.48</td>\n",
       "      <td>NaN</td>\n",
       "      <td>61200.0</td>\n",
       "      <td>41025.08</td>\n",
       "      <td>362145.39</td>\n",
       "      <td>2559</td>\n",
       "      <td>2022</td>\n",
       "    </tr>\n",
       "    <tr>\n",
       "      <th>114143</th>\n",
       "      <td>Bannish Kaitlynn</td>\n",
       "      <td>BPS Special Education</td>\n",
       "      <td>ABA Specialist (BTU)</td>\n",
       "      <td>48156.31</td>\n",
       "      <td>1399.39</td>\n",
       "      <td>NaN</td>\n",
       "      <td>NaN</td>\n",
       "      <td>NaN</td>\n",
       "      <td>NaN</td>\n",
       "      <td>NaN</td>\n",
       "      <td>49555.70</td>\n",
       "      <td>2815</td>\n",
       "      <td>2018</td>\n",
       "    </tr>\n",
       "    <tr>\n",
       "      <th>114144</th>\n",
       "      <td>Bannish Kaitlynn</td>\n",
       "      <td>BPS Special Education</td>\n",
       "      <td>ABA Specialist (BTU)</td>\n",
       "      <td>49985.66</td>\n",
       "      <td>984.72</td>\n",
       "      <td>346.50</td>\n",
       "      <td>NaN</td>\n",
       "      <td>NaN</td>\n",
       "      <td>NaN</td>\n",
       "      <td>NaN</td>\n",
       "      <td>51316.88</td>\n",
       "      <td>2815</td>\n",
       "      <td>2019</td>\n",
       "    </tr>\n",
       "    <tr>\n",
       "      <th>114145</th>\n",
       "      <td>Bannish Kaitlynn</td>\n",
       "      <td>BPS Special Education</td>\n",
       "      <td>ABA Specialist (BTU)</td>\n",
       "      <td>55716.60</td>\n",
       "      <td>NaN</td>\n",
       "      <td>NaN</td>\n",
       "      <td>NaN</td>\n",
       "      <td>NaN</td>\n",
       "      <td>NaN</td>\n",
       "      <td>NaN</td>\n",
       "      <td>55716.60</td>\n",
       "      <td>2815</td>\n",
       "      <td>2020</td>\n",
       "    </tr>\n",
       "    <tr>\n",
       "      <th>114146</th>\n",
       "      <td>Santiago Natalia</td>\n",
       "      <td>BPS Adams Elementary</td>\n",
       "      <td>Teacher</td>\n",
       "      <td>55866.12</td>\n",
       "      <td>NaN</td>\n",
       "      <td>800.00</td>\n",
       "      <td>NaN</td>\n",
       "      <td>NaN</td>\n",
       "      <td>NaN</td>\n",
       "      <td>NaN</td>\n",
       "      <td>56666.12</td>\n",
       "      <td>33023</td>\n",
       "      <td>2020</td>\n",
       "    </tr>\n",
       "  </tbody>\n",
       "</table>\n",
       "<p>114147 rows × 13 columns</p>\n",
       "</div>"
      ],
      "text/plain": [
       "                      name           department_name             job_title  \\\n",
       "0            Conlin Jane F        BPS Health Service                 Nurse   \n",
       "1       Torres Lucy Levana      Lyon Pilot High 9-12               Teacher   \n",
       "2        Seddon Barbara C.         BPS Latin Academy               Teacher   \n",
       "3               Wajd Basil       BPS McKinley Middle               Teacher   \n",
       "4          Gaudreau Jordan      BPS Dever Elementary               Teacher   \n",
       "...                    ...                       ...                   ...   \n",
       "114142    Danilecki John H  Boston Police Department        Police Captain   \n",
       "114143    Bannish Kaitlynn     BPS Special Education  ABA Specialist (BTU)   \n",
       "114144    Bannish Kaitlynn     BPS Special Education  ABA Specialist (BTU)   \n",
       "114145    Bannish Kaitlynn     BPS Special Education  ABA Specialist (BTU)   \n",
       "114146    Santiago Natalia      BPS Adams Elementary               Teacher   \n",
       "\n",
       "          regular    retro     other  overtime  injured   detail  education  \\\n",
       "0       115017.59      NaN       NaN       NaN      NaN      NaN        NaN   \n",
       "1        92688.76      NaN   1934.29       NaN      NaN      NaN        NaN   \n",
       "2        98809.68      NaN       NaN       NaN      NaN      NaN        NaN   \n",
       "3        86675.98      NaN    500.00       NaN      NaN      NaN        NaN   \n",
       "4        64334.71   646.15       NaN       NaN      NaN      NaN        NaN   \n",
       "...           ...      ...       ...       ...      ...      ...        ...   \n",
       "114142  164100.70      NaN  24504.13  71315.48      NaN  61200.0   41025.08   \n",
       "114143   48156.31  1399.39       NaN       NaN      NaN      NaN        NaN   \n",
       "114144   49985.66   984.72    346.50       NaN      NaN      NaN        NaN   \n",
       "114145   55716.60      NaN       NaN       NaN      NaN      NaN        NaN   \n",
       "114146   55866.12      NaN    800.00       NaN      NaN      NaN        NaN   \n",
       "\n",
       "        total_earnings  zip_code  year  \n",
       "0            115017.59      <NA>  2020  \n",
       "1             94623.05      <NA>  2020  \n",
       "2             98809.68      <NA>  2020  \n",
       "3             87175.98      <NA>  2020  \n",
       "4             64980.86      <NA>  2020  \n",
       "...                ...       ...   ...  \n",
       "114142       362145.39      2559  2022  \n",
       "114143        49555.70      2815  2018  \n",
       "114144        51316.88      2815  2019  \n",
       "114145        55716.60      2815  2020  \n",
       "114146        56666.12     33023  2020  \n",
       "\n",
       "[114147 rows x 13 columns]"
      ]
     },
     "execution_count": 7,
     "metadata": {},
     "output_type": "execute_result"
    }
   ],
   "source": [
    "%%bigquery\n",
    "SELECT*\n",
    "FROM `ba-775-b03.BA_775_Dataset.data_merged_raw`"
   ]
  },
  {
   "cell_type": "markdown",
   "metadata": {},
   "source": [
    "Here we are checking for how many null values we have in each field"
   ]
  },
  {
   "cell_type": "code",
   "execution_count": 8,
   "metadata": {
    "tags": []
   },
   "outputs": [
    {
     "data": {
      "application/vnd.jupyter.widget-view+json": {
       "model_id": "97036cff053440bea85076ea56aa3102",
       "version_major": 2,
       "version_minor": 0
      },
      "text/plain": [
       "Query is running:   0%|          |"
      ]
     },
     "metadata": {},
     "output_type": "display_data"
    },
    {
     "data": {
      "application/vnd.jupyter.widget-view+json": {
       "model_id": "cb792aa7ed3a4dca8ce4cc94c51d3ffa",
       "version_major": 2,
       "version_minor": 0
      },
      "text/plain": [
       "Downloading:   0%|          |"
      ]
     },
     "metadata": {},
     "output_type": "display_data"
    },
    {
     "data": {
      "text/html": [
       "<div>\n",
       "<style scoped>\n",
       "    .dataframe tbody tr th:only-of-type {\n",
       "        vertical-align: middle;\n",
       "    }\n",
       "\n",
       "    .dataframe tbody tr th {\n",
       "        vertical-align: top;\n",
       "    }\n",
       "\n",
       "    .dataframe thead th {\n",
       "        text-align: right;\n",
       "    }\n",
       "</style>\n",
       "<table border=\"1\" class=\"dataframe\">\n",
       "  <thead>\n",
       "    <tr style=\"text-align: right;\">\n",
       "      <th></th>\n",
       "      <th>name</th>\n",
       "      <th>department_name</th>\n",
       "      <th>job_title</th>\n",
       "      <th>regular</th>\n",
       "      <th>retro</th>\n",
       "      <th>other</th>\n",
       "      <th>overtime</th>\n",
       "      <th>injured</th>\n",
       "      <th>detail</th>\n",
       "      <th>education</th>\n",
       "      <th>total_earnings</th>\n",
       "      <th>zip_code</th>\n",
       "      <th>year</th>\n",
       "    </tr>\n",
       "  </thead>\n",
       "  <tbody>\n",
       "    <tr>\n",
       "      <th>0</th>\n",
       "      <td>0</td>\n",
       "      <td>0</td>\n",
       "      <td>0</td>\n",
       "      <td>4751</td>\n",
       "      <td>84277</td>\n",
       "      <td>43754</td>\n",
       "      <td>79977</td>\n",
       "      <td>107213</td>\n",
       "      <td>103262</td>\n",
       "      <td>107329</td>\n",
       "      <td>0</td>\n",
       "      <td>93</td>\n",
       "      <td>0</td>\n",
       "    </tr>\n",
       "  </tbody>\n",
       "</table>\n",
       "</div>"
      ],
      "text/plain": [
       "   name  department_name  job_title  regular  retro  other  overtime  injured  \\\n",
       "0     0                0          0     4751  84277  43754     79977   107213   \n",
       "\n",
       "   detail  education  total_earnings  zip_code  year  \n",
       "0  103262     107329               0        93     0  "
      ]
     },
     "execution_count": 8,
     "metadata": {},
     "output_type": "execute_result"
    }
   ],
   "source": [
    "%%bigquery\n",
    "SELECT\n",
    "  COUNTIF(name IS NULL) AS name,\n",
    "  COUNTIF(department_name IS NULL) AS department_name,\n",
    "  COUNTIF(job_title IS NULL) AS job_title,\n",
    "  COUNTIF(regular IS NULL) AS regular,\n",
    "  COUNTIF(retro IS NULL) AS retro,\n",
    "  COUNTIF(other IS NULL) AS other,\n",
    "  COUNTIF(overtime IS NULL) AS overtime,\n",
    "  COUNTIF(injured IS NULL) AS injured,\n",
    "  COUNTIF(detail IS NULL) AS detail,\n",
    "  COUNTIF(education IS NULL) AS education,\n",
    "  COUNTIF(total_earnings IS NULL) AS total_earnings,\n",
    "  COUNTIF(zip_code IS NULL) AS zip_code,\n",
    "  COUNTIF(year IS NULL) AS year\n",
    "FROM `ba-775-b03.BA_775_Dataset.data_merged_raw`"
   ]
  },
  {
   "cell_type": "markdown",
   "metadata": {},
   "source": [
    "As we can see in the above output, we have null values in the fields related to income components and we also have some null values in the zipcode field. For null values in the income components, which are - \"regular\", \"retro\", \"other\", \"overtime\", \"injured\", \"detail\", \"education\", we will be replacing them with 0. The reason we are doing this is because, 0 in any of these fields mean that that part of income was not earned by the individual or there hasn't been any contribution made in that area."
   ]
  },
  {
   "cell_type": "code",
   "execution_count": 9,
   "metadata": {
    "tags": []
   },
   "outputs": [
    {
     "data": {
      "application/vnd.jupyter.widget-view+json": {
       "model_id": "ab13f09b7baa46eeb147358eb9bca254",
       "version_major": 2,
       "version_minor": 0
      },
      "text/plain": [
       "Query is running:   0%|          |"
      ]
     },
     "metadata": {},
     "output_type": "display_data"
    },
    {
     "data": {
      "text/html": [
       "<div>\n",
       "<style scoped>\n",
       "    .dataframe tbody tr th:only-of-type {\n",
       "        vertical-align: middle;\n",
       "    }\n",
       "\n",
       "    .dataframe tbody tr th {\n",
       "        vertical-align: top;\n",
       "    }\n",
       "\n",
       "    .dataframe thead th {\n",
       "        text-align: right;\n",
       "    }\n",
       "</style>\n",
       "<table border=\"1\" class=\"dataframe\">\n",
       "  <thead>\n",
       "    <tr style=\"text-align: right;\">\n",
       "      <th></th>\n",
       "    </tr>\n",
       "  </thead>\n",
       "  <tbody>\n",
       "  </tbody>\n",
       "</table>\n",
       "</div>"
      ],
      "text/plain": [
       "Empty DataFrame\n",
       "Columns: []\n",
       "Index: []"
      ]
     },
     "execution_count": 9,
     "metadata": {},
     "output_type": "execute_result"
    }
   ],
   "source": [
    "%%bigquery\n",
    "UPDATE `ba-775-b03.BA_775_Dataset.data_merged_raw`\n",
    "SET\n",
    "  regular = COALESCE(regular, 0),\n",
    "  retro = COALESCE(retro, 0),\n",
    "  other = COALESCE(other, 0),\n",
    "  overtime = COALESCE(overtime, 0),\n",
    "  injured = COALESCE(injured, 0),\n",
    "  detail = COALESCE(detail, 0),\n",
    "  education = COALESCE(education, 0),\n",
    "  total_earnings = COALESCE(total_earnings, 0)\n",
    "WHERE TRUE;"
   ]
  },
  {
   "cell_type": "markdown",
   "metadata": {},
   "source": [
    "We are running the check for null values again to make sure all of them have been replaced by 0, except from zip_code"
   ]
  },
  {
   "cell_type": "code",
   "execution_count": 10,
   "metadata": {
    "tags": []
   },
   "outputs": [
    {
     "data": {
      "application/vnd.jupyter.widget-view+json": {
       "model_id": "ad40a94003ea4583bb68613de38a2b4b",
       "version_major": 2,
       "version_minor": 0
      },
      "text/plain": [
       "Query is running:   0%|          |"
      ]
     },
     "metadata": {},
     "output_type": "display_data"
    },
    {
     "data": {
      "application/vnd.jupyter.widget-view+json": {
       "model_id": "6ff72c41e2a3476f9315034701155247",
       "version_major": 2,
       "version_minor": 0
      },
      "text/plain": [
       "Downloading:   0%|          |"
      ]
     },
     "metadata": {},
     "output_type": "display_data"
    },
    {
     "data": {
      "text/html": [
       "<div>\n",
       "<style scoped>\n",
       "    .dataframe tbody tr th:only-of-type {\n",
       "        vertical-align: middle;\n",
       "    }\n",
       "\n",
       "    .dataframe tbody tr th {\n",
       "        vertical-align: top;\n",
       "    }\n",
       "\n",
       "    .dataframe thead th {\n",
       "        text-align: right;\n",
       "    }\n",
       "</style>\n",
       "<table border=\"1\" class=\"dataframe\">\n",
       "  <thead>\n",
       "    <tr style=\"text-align: right;\">\n",
       "      <th></th>\n",
       "      <th>name</th>\n",
       "      <th>department_name</th>\n",
       "      <th>job_title</th>\n",
       "      <th>regular</th>\n",
       "      <th>retro</th>\n",
       "      <th>other</th>\n",
       "      <th>overtime</th>\n",
       "      <th>injured</th>\n",
       "      <th>detail</th>\n",
       "      <th>education</th>\n",
       "      <th>total_earnings</th>\n",
       "      <th>zip_code</th>\n",
       "      <th>year</th>\n",
       "    </tr>\n",
       "  </thead>\n",
       "  <tbody>\n",
       "    <tr>\n",
       "      <th>0</th>\n",
       "      <td>0</td>\n",
       "      <td>0</td>\n",
       "      <td>0</td>\n",
       "      <td>0</td>\n",
       "      <td>0</td>\n",
       "      <td>0</td>\n",
       "      <td>0</td>\n",
       "      <td>0</td>\n",
       "      <td>0</td>\n",
       "      <td>0</td>\n",
       "      <td>0</td>\n",
       "      <td>93</td>\n",
       "      <td>0</td>\n",
       "    </tr>\n",
       "  </tbody>\n",
       "</table>\n",
       "</div>"
      ],
      "text/plain": [
       "   name  department_name  job_title  regular  retro  other  overtime  injured  \\\n",
       "0     0                0          0        0      0      0         0        0   \n",
       "\n",
       "   detail  education  total_earnings  zip_code  year  \n",
       "0       0          0               0        93     0  "
      ]
     },
     "execution_count": 10,
     "metadata": {},
     "output_type": "execute_result"
    }
   ],
   "source": [
    "%%bigquery\n",
    "SELECT\n",
    "  COUNTIF(name IS NULL) AS name,\n",
    "  COUNTIF(department_name IS NULL) AS department_name,\n",
    "  COUNTIF(job_title IS NULL) AS job_title,\n",
    "  COUNTIF(regular IS NULL) AS regular,\n",
    "  COUNTIF(retro IS NULL) AS retro,\n",
    "  COUNTIF(other IS NULL) AS other,\n",
    "  COUNTIF(overtime IS NULL) AS overtime,\n",
    "  COUNTIF(injured IS NULL) AS injured,\n",
    "  COUNTIF(detail IS NULL) AS detail,\n",
    "  COUNTIF(education IS NULL) AS education,\n",
    "  COUNTIF(total_earnings IS NULL) AS total_earnings,\n",
    "  COUNTIF(zip_code IS NULL) AS zip_code,\n",
    "  COUNTIF(year IS NULL) AS year\n",
    "FROM `ba-775-b03.BA_775_Dataset.data_merged_raw`"
   ]
  },
  {
   "cell_type": "markdown",
   "metadata": {},
   "source": [
    "In this step, we are joining the merged payroll table with the Massachusetts(MA) zip code table to find out if the employee is situated in MA or outside of MA. "
   ]
  },
  {
   "cell_type": "code",
   "execution_count": 11,
   "metadata": {
    "tags": []
   },
   "outputs": [
    {
     "data": {
      "application/vnd.jupyter.widget-view+json": {
       "model_id": "63edd649682a45738e277bf3d1e0418d",
       "version_major": 2,
       "version_minor": 0
      },
      "text/plain": [
       "Query is running:   0%|          |"
      ]
     },
     "metadata": {},
     "output_type": "display_data"
    },
    {
     "data": {
      "text/html": [
       "<div>\n",
       "<style scoped>\n",
       "    .dataframe tbody tr th:only-of-type {\n",
       "        vertical-align: middle;\n",
       "    }\n",
       "\n",
       "    .dataframe tbody tr th {\n",
       "        vertical-align: top;\n",
       "    }\n",
       "\n",
       "    .dataframe thead th {\n",
       "        text-align: right;\n",
       "    }\n",
       "</style>\n",
       "<table border=\"1\" class=\"dataframe\">\n",
       "  <thead>\n",
       "    <tr style=\"text-align: right;\">\n",
       "      <th></th>\n",
       "    </tr>\n",
       "  </thead>\n",
       "  <tbody>\n",
       "  </tbody>\n",
       "</table>\n",
       "</div>"
      ],
      "text/plain": [
       "Empty DataFrame\n",
       "Columns: []\n",
       "Index: []"
      ]
     },
     "execution_count": 11,
     "metadata": {},
     "output_type": "execute_result"
    }
   ],
   "source": [
    "%%bigquery\n",
    "\n",
    "CREATE OR REPLACE TABLE `ba-775-b03.BA_775_Dataset.data_merged_cleaned_joined_zip` AS\n",
    "(\n",
    "SELECT *\n",
    "FROM `ba-775-b03.BA_775_Dataset.data_merged_raw` AS earnings\n",
    "LEFT JOIN `ba-775-b03.BA_775_Dataset.MA_zipcodeda` as zip_code\n",
    "ON earnings.zip_code = zip_code.zip);"
   ]
  },
  {
   "cell_type": "markdown",
   "metadata": {},
   "source": [
    "Below is a snapshot of the new merged table"
   ]
  },
  {
   "cell_type": "code",
   "execution_count": 12,
   "metadata": {
    "tags": []
   },
   "outputs": [
    {
     "data": {
      "application/vnd.jupyter.widget-view+json": {
       "model_id": "aa0f0b01840449e2a7d3f9ad00338a0e",
       "version_major": 2,
       "version_minor": 0
      },
      "text/plain": [
       "Query is running:   0%|          |"
      ]
     },
     "metadata": {},
     "output_type": "display_data"
    },
    {
     "data": {
      "application/vnd.jupyter.widget-view+json": {
       "model_id": "e0a40c308d064303a48385ae7f386ff6",
       "version_major": 2,
       "version_minor": 0
      },
      "text/plain": [
       "Downloading:   0%|          |"
      ]
     },
     "metadata": {},
     "output_type": "display_data"
    },
    {
     "data": {
      "text/html": [
       "<div>\n",
       "<style scoped>\n",
       "    .dataframe tbody tr th:only-of-type {\n",
       "        vertical-align: middle;\n",
       "    }\n",
       "\n",
       "    .dataframe tbody tr th {\n",
       "        vertical-align: top;\n",
       "    }\n",
       "\n",
       "    .dataframe thead th {\n",
       "        text-align: right;\n",
       "    }\n",
       "</style>\n",
       "<table border=\"1\" class=\"dataframe\">\n",
       "  <thead>\n",
       "    <tr style=\"text-align: right;\">\n",
       "      <th></th>\n",
       "      <th>name</th>\n",
       "      <th>department_name</th>\n",
       "      <th>job_title</th>\n",
       "      <th>regular</th>\n",
       "      <th>retro</th>\n",
       "      <th>other</th>\n",
       "      <th>overtime</th>\n",
       "      <th>injured</th>\n",
       "      <th>detail</th>\n",
       "      <th>education</th>\n",
       "      <th>...</th>\n",
       "      <th>zip</th>\n",
       "      <th>type</th>\n",
       "      <th>primary_city</th>\n",
       "      <th>state</th>\n",
       "      <th>county</th>\n",
       "      <th>timezone</th>\n",
       "      <th>world_region</th>\n",
       "      <th>country</th>\n",
       "      <th>latitude</th>\n",
       "      <th>longitude</th>\n",
       "    </tr>\n",
       "  </thead>\n",
       "  <tbody>\n",
       "    <tr>\n",
       "      <th>0</th>\n",
       "      <td>Papazian Christi</td>\n",
       "      <td>BPS Special Education</td>\n",
       "      <td>Teacher</td>\n",
       "      <td>73243.08</td>\n",
       "      <td>2897.28</td>\n",
       "      <td>0.00</td>\n",
       "      <td>0.00</td>\n",
       "      <td>0.00</td>\n",
       "      <td>0.0</td>\n",
       "      <td>0.00</td>\n",
       "      <td>...</td>\n",
       "      <td>&lt;NA&gt;</td>\n",
       "      <td>None</td>\n",
       "      <td>None</td>\n",
       "      <td>None</td>\n",
       "      <td>None</td>\n",
       "      <td>None</td>\n",
       "      <td>None</td>\n",
       "      <td>None</td>\n",
       "      <td>NaN</td>\n",
       "      <td>NaN</td>\n",
       "    </tr>\n",
       "    <tr>\n",
       "      <th>1</th>\n",
       "      <td>Soloff Meira Aviva</td>\n",
       "      <td>Young Achievers K-8</td>\n",
       "      <td>Teacher</td>\n",
       "      <td>51411.52</td>\n",
       "      <td>1575.32</td>\n",
       "      <td>0.00</td>\n",
       "      <td>0.00</td>\n",
       "      <td>0.00</td>\n",
       "      <td>0.0</td>\n",
       "      <td>0.00</td>\n",
       "      <td>...</td>\n",
       "      <td>&lt;NA&gt;</td>\n",
       "      <td>None</td>\n",
       "      <td>None</td>\n",
       "      <td>None</td>\n",
       "      <td>None</td>\n",
       "      <td>None</td>\n",
       "      <td>None</td>\n",
       "      <td>None</td>\n",
       "      <td>NaN</td>\n",
       "      <td>NaN</td>\n",
       "    </tr>\n",
       "    <tr>\n",
       "      <th>2</th>\n",
       "      <td>Moore Summer</td>\n",
       "      <td>Henderson Elementary</td>\n",
       "      <td>Paraprofessional</td>\n",
       "      <td>27286.14</td>\n",
       "      <td>371.59</td>\n",
       "      <td>4300.00</td>\n",
       "      <td>0.00</td>\n",
       "      <td>0.00</td>\n",
       "      <td>0.0</td>\n",
       "      <td>0.00</td>\n",
       "      <td>...</td>\n",
       "      <td>&lt;NA&gt;</td>\n",
       "      <td>None</td>\n",
       "      <td>None</td>\n",
       "      <td>None</td>\n",
       "      <td>None</td>\n",
       "      <td>None</td>\n",
       "      <td>None</td>\n",
       "      <td>None</td>\n",
       "      <td>NaN</td>\n",
       "      <td>NaN</td>\n",
       "    </tr>\n",
       "    <tr>\n",
       "      <th>3</th>\n",
       "      <td>Bird Nicole T.</td>\n",
       "      <td>BPS Charlestown High</td>\n",
       "      <td>Paraprofessional</td>\n",
       "      <td>0.00</td>\n",
       "      <td>623.23</td>\n",
       "      <td>6150.27</td>\n",
       "      <td>0.00</td>\n",
       "      <td>0.00</td>\n",
       "      <td>0.0</td>\n",
       "      <td>0.00</td>\n",
       "      <td>...</td>\n",
       "      <td>&lt;NA&gt;</td>\n",
       "      <td>None</td>\n",
       "      <td>None</td>\n",
       "      <td>None</td>\n",
       "      <td>None</td>\n",
       "      <td>None</td>\n",
       "      <td>None</td>\n",
       "      <td>None</td>\n",
       "      <td>NaN</td>\n",
       "      <td>NaN</td>\n",
       "    </tr>\n",
       "    <tr>\n",
       "      <th>4</th>\n",
       "      <td>Pearson Gregory T.</td>\n",
       "      <td>Boston Police Department</td>\n",
       "      <td>Prin Storekeeper</td>\n",
       "      <td>0.00</td>\n",
       "      <td>868.82</td>\n",
       "      <td>0.00</td>\n",
       "      <td>0.00</td>\n",
       "      <td>0.00</td>\n",
       "      <td>0.0</td>\n",
       "      <td>0.00</td>\n",
       "      <td>...</td>\n",
       "      <td>&lt;NA&gt;</td>\n",
       "      <td>None</td>\n",
       "      <td>None</td>\n",
       "      <td>None</td>\n",
       "      <td>None</td>\n",
       "      <td>None</td>\n",
       "      <td>None</td>\n",
       "      <td>None</td>\n",
       "      <td>NaN</td>\n",
       "      <td>NaN</td>\n",
       "    </tr>\n",
       "    <tr>\n",
       "      <th>...</th>\n",
       "      <td>...</td>\n",
       "      <td>...</td>\n",
       "      <td>...</td>\n",
       "      <td>...</td>\n",
       "      <td>...</td>\n",
       "      <td>...</td>\n",
       "      <td>...</td>\n",
       "      <td>...</td>\n",
       "      <td>...</td>\n",
       "      <td>...</td>\n",
       "      <td>...</td>\n",
       "      <td>...</td>\n",
       "      <td>...</td>\n",
       "      <td>...</td>\n",
       "      <td>...</td>\n",
       "      <td>...</td>\n",
       "      <td>...</td>\n",
       "      <td>...</td>\n",
       "      <td>...</td>\n",
       "      <td>...</td>\n",
       "      <td>...</td>\n",
       "    </tr>\n",
       "    <tr>\n",
       "      <th>114142</th>\n",
       "      <td>Adams Kwame</td>\n",
       "      <td>Turnaround and Transformation</td>\n",
       "      <td>Manager NonAcad C</td>\n",
       "      <td>104969.85</td>\n",
       "      <td>3352.76</td>\n",
       "      <td>0.00</td>\n",
       "      <td>0.00</td>\n",
       "      <td>0.00</td>\n",
       "      <td>0.0</td>\n",
       "      <td>0.00</td>\n",
       "      <td>...</td>\n",
       "      <td>2302</td>\n",
       "      <td>STANDARD</td>\n",
       "      <td>Brockton</td>\n",
       "      <td>MA</td>\n",
       "      <td>Plymouth County</td>\n",
       "      <td>America/New_York</td>\n",
       "      <td>NA</td>\n",
       "      <td>US</td>\n",
       "      <td>42.09</td>\n",
       "      <td>-71.00</td>\n",
       "    </tr>\n",
       "    <tr>\n",
       "      <th>114143</th>\n",
       "      <td>Serra Christopher A</td>\n",
       "      <td>Boston Fire Department</td>\n",
       "      <td>Fire Fighter</td>\n",
       "      <td>22775.47</td>\n",
       "      <td>0.00</td>\n",
       "      <td>65516.36</td>\n",
       "      <td>2095.21</td>\n",
       "      <td>0.00</td>\n",
       "      <td>0.0</td>\n",
       "      <td>0.00</td>\n",
       "      <td>...</td>\n",
       "      <td>2047</td>\n",
       "      <td>PO BOX</td>\n",
       "      <td>Humarock</td>\n",
       "      <td>MA</td>\n",
       "      <td>Plymouth County</td>\n",
       "      <td>America/New_York</td>\n",
       "      <td>NA</td>\n",
       "      <td>US</td>\n",
       "      <td>42.15</td>\n",
       "      <td>-70.70</td>\n",
       "    </tr>\n",
       "    <tr>\n",
       "      <th>114144</th>\n",
       "      <td>Sullivan Carla</td>\n",
       "      <td>Boston Police Department</td>\n",
       "      <td>Police Detective</td>\n",
       "      <td>106191.97</td>\n",
       "      <td>0.00</td>\n",
       "      <td>12405.70</td>\n",
       "      <td>15372.25</td>\n",
       "      <td>1160.57</td>\n",
       "      <td>55200.0</td>\n",
       "      <td>26838.10</td>\n",
       "      <td>...</td>\n",
       "      <td>2047</td>\n",
       "      <td>PO BOX</td>\n",
       "      <td>Humarock</td>\n",
       "      <td>MA</td>\n",
       "      <td>Plymouth County</td>\n",
       "      <td>America/New_York</td>\n",
       "      <td>NA</td>\n",
       "      <td>US</td>\n",
       "      <td>42.15</td>\n",
       "      <td>-70.70</td>\n",
       "    </tr>\n",
       "    <tr>\n",
       "      <th>114145</th>\n",
       "      <td>Tavares Kim</td>\n",
       "      <td>Boston Police Department</td>\n",
       "      <td>Police Officer</td>\n",
       "      <td>105343.12</td>\n",
       "      <td>0.00</td>\n",
       "      <td>3450.85</td>\n",
       "      <td>58362.74</td>\n",
       "      <td>0.00</td>\n",
       "      <td>0.0</td>\n",
       "      <td>0.00</td>\n",
       "      <td>...</td>\n",
       "      <td>2303</td>\n",
       "      <td>PO BOX</td>\n",
       "      <td>Brockton</td>\n",
       "      <td>MA</td>\n",
       "      <td>Plymouth County</td>\n",
       "      <td>America/New_York</td>\n",
       "      <td>NA</td>\n",
       "      <td>US</td>\n",
       "      <td>42.08</td>\n",
       "      <td>-71.02</td>\n",
       "    </tr>\n",
       "    <tr>\n",
       "      <th>114146</th>\n",
       "      <td>Danilecki John H</td>\n",
       "      <td>Boston Police Department</td>\n",
       "      <td>Police Captain</td>\n",
       "      <td>164100.70</td>\n",
       "      <td>0.00</td>\n",
       "      <td>24504.13</td>\n",
       "      <td>71315.48</td>\n",
       "      <td>0.00</td>\n",
       "      <td>61200.0</td>\n",
       "      <td>41025.08</td>\n",
       "      <td>...</td>\n",
       "      <td>2559</td>\n",
       "      <td>STANDARD</td>\n",
       "      <td>Pocasset</td>\n",
       "      <td>MA</td>\n",
       "      <td>Barnstable County</td>\n",
       "      <td>America/New_York</td>\n",
       "      <td>NA</td>\n",
       "      <td>US</td>\n",
       "      <td>41.69</td>\n",
       "      <td>-70.63</td>\n",
       "    </tr>\n",
       "  </tbody>\n",
       "</table>\n",
       "<p>114147 rows × 23 columns</p>\n",
       "</div>"
      ],
      "text/plain": [
       "                       name                department_name          job_title  \\\n",
       "0          Papazian Christi          BPS Special Education            Teacher   \n",
       "1        Soloff Meira Aviva            Young Achievers K-8            Teacher   \n",
       "2              Moore Summer           Henderson Elementary   Paraprofessional   \n",
       "3            Bird Nicole T.           BPS Charlestown High   Paraprofessional   \n",
       "4        Pearson Gregory T.       Boston Police Department   Prin Storekeeper   \n",
       "...                     ...                            ...                ...   \n",
       "114142          Adams Kwame  Turnaround and Transformation  Manager NonAcad C   \n",
       "114143  Serra Christopher A         Boston Fire Department       Fire Fighter   \n",
       "114144       Sullivan Carla       Boston Police Department   Police Detective   \n",
       "114145          Tavares Kim       Boston Police Department     Police Officer   \n",
       "114146     Danilecki John H       Boston Police Department     Police Captain   \n",
       "\n",
       "          regular    retro     other  overtime  injured   detail  education  \\\n",
       "0        73243.08  2897.28      0.00      0.00     0.00      0.0       0.00   \n",
       "1        51411.52  1575.32      0.00      0.00     0.00      0.0       0.00   \n",
       "2        27286.14   371.59   4300.00      0.00     0.00      0.0       0.00   \n",
       "3            0.00   623.23   6150.27      0.00     0.00      0.0       0.00   \n",
       "4            0.00   868.82      0.00      0.00     0.00      0.0       0.00   \n",
       "...           ...      ...       ...       ...      ...      ...        ...   \n",
       "114142  104969.85  3352.76      0.00      0.00     0.00      0.0       0.00   \n",
       "114143   22775.47     0.00  65516.36   2095.21     0.00      0.0       0.00   \n",
       "114144  106191.97     0.00  12405.70  15372.25  1160.57  55200.0   26838.10   \n",
       "114145  105343.12     0.00   3450.85  58362.74     0.00      0.0       0.00   \n",
       "114146  164100.70     0.00  24504.13  71315.48     0.00  61200.0   41025.08   \n",
       "\n",
       "        ...   zip      type  primary_city  state             county  \\\n",
       "0       ...  <NA>      None          None   None               None   \n",
       "1       ...  <NA>      None          None   None               None   \n",
       "2       ...  <NA>      None          None   None               None   \n",
       "3       ...  <NA>      None          None   None               None   \n",
       "4       ...  <NA>      None          None   None               None   \n",
       "...     ...   ...       ...           ...    ...                ...   \n",
       "114142  ...  2302  STANDARD      Brockton     MA    Plymouth County   \n",
       "114143  ...  2047    PO BOX      Humarock     MA    Plymouth County   \n",
       "114144  ...  2047    PO BOX      Humarock     MA    Plymouth County   \n",
       "114145  ...  2303    PO BOX      Brockton     MA    Plymouth County   \n",
       "114146  ...  2559  STANDARD      Pocasset     MA  Barnstable County   \n",
       "\n",
       "                timezone world_region country latitude longitude  \n",
       "0                   None         None    None      NaN       NaN  \n",
       "1                   None         None    None      NaN       NaN  \n",
       "2                   None         None    None      NaN       NaN  \n",
       "3                   None         None    None      NaN       NaN  \n",
       "4                   None         None    None      NaN       NaN  \n",
       "...                  ...          ...     ...      ...       ...  \n",
       "114142  America/New_York           NA      US    42.09    -71.00  \n",
       "114143  America/New_York           NA      US    42.15    -70.70  \n",
       "114144  America/New_York           NA      US    42.15    -70.70  \n",
       "114145  America/New_York           NA      US    42.08    -71.02  \n",
       "114146  America/New_York           NA      US    41.69    -70.63  \n",
       "\n",
       "[114147 rows x 23 columns]"
      ]
     },
     "execution_count": 12,
     "metadata": {},
     "output_type": "execute_result"
    }
   ],
   "source": [
    "%%bigquery\n",
    "SELECT *\n",
    "FROM `ba-775-b03.BA_775_Dataset.data_merged_cleaned_joined_zip`"
   ]
  },
  {
   "cell_type": "markdown",
   "metadata": {},
   "source": [
    "We are checking for null values again. Null values here represent that employees situated outside of MA state. "
   ]
  },
  {
   "cell_type": "code",
   "execution_count": 13,
   "metadata": {
    "tags": []
   },
   "outputs": [
    {
     "data": {
      "application/vnd.jupyter.widget-view+json": {
       "model_id": "f5bbf53279be46ca8557311303b3b4e7",
       "version_major": 2,
       "version_minor": 0
      },
      "text/plain": [
       "Query is running:   0%|          |"
      ]
     },
     "metadata": {},
     "output_type": "display_data"
    },
    {
     "data": {
      "application/vnd.jupyter.widget-view+json": {
       "model_id": "73f127a4d3b848159fa9918d090c896f",
       "version_major": 2,
       "version_minor": 0
      },
      "text/plain": [
       "Downloading:   0%|          |"
      ]
     },
     "metadata": {},
     "output_type": "display_data"
    },
    {
     "data": {
      "text/html": [
       "<div>\n",
       "<style scoped>\n",
       "    .dataframe tbody tr th:only-of-type {\n",
       "        vertical-align: middle;\n",
       "    }\n",
       "\n",
       "    .dataframe tbody tr th {\n",
       "        vertical-align: top;\n",
       "    }\n",
       "\n",
       "    .dataframe thead th {\n",
       "        text-align: right;\n",
       "    }\n",
       "</style>\n",
       "<table border=\"1\" class=\"dataframe\">\n",
       "  <thead>\n",
       "    <tr style=\"text-align: right;\">\n",
       "      <th></th>\n",
       "      <th>name</th>\n",
       "      <th>department_name</th>\n",
       "      <th>job_title</th>\n",
       "      <th>regular</th>\n",
       "      <th>retro</th>\n",
       "      <th>other</th>\n",
       "      <th>overtime</th>\n",
       "      <th>injured</th>\n",
       "      <th>detail</th>\n",
       "      <th>education</th>\n",
       "      <th>total_earnings</th>\n",
       "      <th>zip_code</th>\n",
       "      <th>year</th>\n",
       "      <th>zip</th>\n",
       "    </tr>\n",
       "  </thead>\n",
       "  <tbody>\n",
       "    <tr>\n",
       "      <th>0</th>\n",
       "      <td>0</td>\n",
       "      <td>0</td>\n",
       "      <td>0</td>\n",
       "      <td>0</td>\n",
       "      <td>0</td>\n",
       "      <td>0</td>\n",
       "      <td>0</td>\n",
       "      <td>0</td>\n",
       "      <td>0</td>\n",
       "      <td>0</td>\n",
       "      <td>0</td>\n",
       "      <td>93</td>\n",
       "      <td>0</td>\n",
       "      <td>1730</td>\n",
       "    </tr>\n",
       "  </tbody>\n",
       "</table>\n",
       "</div>"
      ],
      "text/plain": [
       "   name  department_name  job_title  regular  retro  other  overtime  injured  \\\n",
       "0     0                0          0        0      0      0         0        0   \n",
       "\n",
       "   detail  education  total_earnings  zip_code  year   zip  \n",
       "0       0          0               0        93     0  1730  "
      ]
     },
     "execution_count": 13,
     "metadata": {},
     "output_type": "execute_result"
    }
   ],
   "source": [
    "%%bigquery\n",
    "\n",
    "SELECT\n",
    "  COUNTIF(name IS NULL) AS name,\n",
    "  COUNTIF(department_name IS NULL) AS department_name,\n",
    "  COUNTIF(job_title IS NULL) AS job_title,\n",
    "  COUNTIF(regular IS NULL) AS regular,\n",
    "  COUNTIF(retro IS NULL) AS retro,\n",
    "  COUNTIF(other IS NULL) AS other,\n",
    "  COUNTIF(overtime IS NULL) AS overtime,\n",
    "  COUNTIF(injured IS NULL) AS injured,\n",
    "  COUNTIF(detail IS NULL) AS detail,\n",
    "  COUNTIF(education IS NULL) AS education,\n",
    "  COUNTIF(total_earnings IS NULL) AS total_earnings,\n",
    "  COUNTIF(zip_code IS NULL) AS zip_code,\n",
    "  COUNTIF(year IS NULL) AS year,\n",
    "  COUNTIF(zip IS NULL) AS zip\n",
    "FROM `ba-775-b03.BA_775_Dataset.data_merged_cleaned_joined_zip`;"
   ]
  },
  {
   "cell_type": "markdown",
   "metadata": {},
   "source": [
    "As seen above, there are 1730 employees who are situated outside of MA and 93 employees who do not have a zip_code value. From our research, these are the former employees that have moved to a different state after their time at their respective positions and hence, the new address is reflected in the year-end payroll report. "
   ]
  },
  {
   "cell_type": "markdown",
   "metadata": {},
   "source": [
    "Below query will drop the entries with employees situated outside of MA state. We are doing this since our project scope is solely focused on regions in MA. "
   ]
  },
  {
   "cell_type": "code",
   "execution_count": 14,
   "metadata": {
    "tags": []
   },
   "outputs": [
    {
     "data": {
      "application/vnd.jupyter.widget-view+json": {
       "model_id": "130a0bb3e1b74bef81fe6512759a82eb",
       "version_major": 2,
       "version_minor": 0
      },
      "text/plain": [
       "Query is running:   0%|          |"
      ]
     },
     "metadata": {},
     "output_type": "display_data"
    },
    {
     "data": {
      "text/html": [
       "<div>\n",
       "<style scoped>\n",
       "    .dataframe tbody tr th:only-of-type {\n",
       "        vertical-align: middle;\n",
       "    }\n",
       "\n",
       "    .dataframe tbody tr th {\n",
       "        vertical-align: top;\n",
       "    }\n",
       "\n",
       "    .dataframe thead th {\n",
       "        text-align: right;\n",
       "    }\n",
       "</style>\n",
       "<table border=\"1\" class=\"dataframe\">\n",
       "  <thead>\n",
       "    <tr style=\"text-align: right;\">\n",
       "      <th></th>\n",
       "    </tr>\n",
       "  </thead>\n",
       "  <tbody>\n",
       "  </tbody>\n",
       "</table>\n",
       "</div>"
      ],
      "text/plain": [
       "Empty DataFrame\n",
       "Columns: []\n",
       "Index: []"
      ]
     },
     "execution_count": 14,
     "metadata": {},
     "output_type": "execute_result"
    }
   ],
   "source": [
    "%%bigquery\n",
    "\n",
    "DELETE FROM `ba-775-b03.BA_775_Dataset.data_merged_cleaned_joined_zip`\n",
    "WHERE ZIP IS NULL OR zip_code IS NULL;\n",
    "\n",
    "CREATE OR REPLACE TABLE `ba-775-b03.BA_775_Dataset.data_final` AS\n",
    "(SELECT *\n",
    "FROM `ba-775-b03.BA_775_Dataset.data_merged_cleaned_joined_zip`);"
   ]
  },
  {
   "cell_type": "markdown",
   "metadata": {},
   "source": [
    "The changes are saved to the new table \"data_final\", which will be our final dataset that we will use for our further analysis. Below is the snapshot of the final table."
   ]
  },
  {
   "cell_type": "code",
   "execution_count": 15,
   "metadata": {
    "tags": []
   },
   "outputs": [
    {
     "data": {
      "application/vnd.jupyter.widget-view+json": {
       "model_id": "5eceeadcde9f4cc583a64325dd1b42fa",
       "version_major": 2,
       "version_minor": 0
      },
      "text/plain": [
       "Query is running:   0%|          |"
      ]
     },
     "metadata": {},
     "output_type": "display_data"
    },
    {
     "data": {
      "application/vnd.jupyter.widget-view+json": {
       "model_id": "d5c8265423614ba4b18412637170f4c0",
       "version_major": 2,
       "version_minor": 0
      },
      "text/plain": [
       "Downloading:   0%|          |"
      ]
     },
     "metadata": {},
     "output_type": "display_data"
    },
    {
     "data": {
      "text/html": [
       "<div>\n",
       "<style scoped>\n",
       "    .dataframe tbody tr th:only-of-type {\n",
       "        vertical-align: middle;\n",
       "    }\n",
       "\n",
       "    .dataframe tbody tr th {\n",
       "        vertical-align: top;\n",
       "    }\n",
       "\n",
       "    .dataframe thead th {\n",
       "        text-align: right;\n",
       "    }\n",
       "</style>\n",
       "<table border=\"1\" class=\"dataframe\">\n",
       "  <thead>\n",
       "    <tr style=\"text-align: right;\">\n",
       "      <th></th>\n",
       "      <th>name</th>\n",
       "      <th>department_name</th>\n",
       "      <th>job_title</th>\n",
       "      <th>regular</th>\n",
       "      <th>retro</th>\n",
       "      <th>other</th>\n",
       "      <th>overtime</th>\n",
       "      <th>injured</th>\n",
       "      <th>detail</th>\n",
       "      <th>education</th>\n",
       "      <th>...</th>\n",
       "      <th>zip</th>\n",
       "      <th>type</th>\n",
       "      <th>primary_city</th>\n",
       "      <th>state</th>\n",
       "      <th>county</th>\n",
       "      <th>timezone</th>\n",
       "      <th>world_region</th>\n",
       "      <th>country</th>\n",
       "      <th>latitude</th>\n",
       "      <th>longitude</th>\n",
       "    </tr>\n",
       "  </thead>\n",
       "  <tbody>\n",
       "    <tr>\n",
       "      <th>0</th>\n",
       "      <td>Flores Ty-Juana L</td>\n",
       "      <td>Office of Arts &amp; Culture</td>\n",
       "      <td>Dir</td>\n",
       "      <td>30040.96</td>\n",
       "      <td>0.00</td>\n",
       "      <td>0.00</td>\n",
       "      <td>0.00</td>\n",
       "      <td>0.0</td>\n",
       "      <td>0.0</td>\n",
       "      <td>0.0</td>\n",
       "      <td>...</td>\n",
       "      <td>2121</td>\n",
       "      <td>STANDARD</td>\n",
       "      <td>Dorchester</td>\n",
       "      <td>MA</td>\n",
       "      <td>Suffolk County</td>\n",
       "      <td>America/New_York</td>\n",
       "      <td>NA</td>\n",
       "      <td>US</td>\n",
       "      <td>42.31</td>\n",
       "      <td>-71.09</td>\n",
       "    </tr>\n",
       "    <tr>\n",
       "      <th>1</th>\n",
       "      <td>Flores Ty-Juana L</td>\n",
       "      <td>Office of Arts &amp; Culture</td>\n",
       "      <td>Dir</td>\n",
       "      <td>5006.83</td>\n",
       "      <td>0.00</td>\n",
       "      <td>0.00</td>\n",
       "      <td>0.00</td>\n",
       "      <td>0.0</td>\n",
       "      <td>0.0</td>\n",
       "      <td>0.0</td>\n",
       "      <td>...</td>\n",
       "      <td>2121</td>\n",
       "      <td>STANDARD</td>\n",
       "      <td>Dorchester</td>\n",
       "      <td>MA</td>\n",
       "      <td>Suffolk County</td>\n",
       "      <td>America/New_York</td>\n",
       "      <td>NA</td>\n",
       "      <td>US</td>\n",
       "      <td>42.31</td>\n",
       "      <td>-71.09</td>\n",
       "    </tr>\n",
       "    <tr>\n",
       "      <th>2</th>\n",
       "      <td>Smith Wesley Drew</td>\n",
       "      <td>Treasury-Treasury Division</td>\n",
       "      <td>Dir</td>\n",
       "      <td>130000.00</td>\n",
       "      <td>0.00</td>\n",
       "      <td>0.00</td>\n",
       "      <td>0.00</td>\n",
       "      <td>0.0</td>\n",
       "      <td>0.0</td>\n",
       "      <td>0.0</td>\n",
       "      <td>...</td>\n",
       "      <td>2122</td>\n",
       "      <td>STANDARD</td>\n",
       "      <td>Dorchester</td>\n",
       "      <td>MA</td>\n",
       "      <td>Suffolk County</td>\n",
       "      <td>America/New_York</td>\n",
       "      <td>NA</td>\n",
       "      <td>US</td>\n",
       "      <td>42.29</td>\n",
       "      <td>-71.04</td>\n",
       "    </tr>\n",
       "    <tr>\n",
       "      <th>3</th>\n",
       "      <td>Smith Wesley Drew</td>\n",
       "      <td>Treasury-Treasury Division</td>\n",
       "      <td>Dir</td>\n",
       "      <td>135000.06</td>\n",
       "      <td>0.00</td>\n",
       "      <td>2596.15</td>\n",
       "      <td>0.00</td>\n",
       "      <td>0.0</td>\n",
       "      <td>0.0</td>\n",
       "      <td>0.0</td>\n",
       "      <td>...</td>\n",
       "      <td>2122</td>\n",
       "      <td>STANDARD</td>\n",
       "      <td>Dorchester</td>\n",
       "      <td>MA</td>\n",
       "      <td>Suffolk County</td>\n",
       "      <td>America/New_York</td>\n",
       "      <td>NA</td>\n",
       "      <td>US</td>\n",
       "      <td>42.29</td>\n",
       "      <td>-71.04</td>\n",
       "    </tr>\n",
       "    <tr>\n",
       "      <th>4</th>\n",
       "      <td>Smith Wesley Drew</td>\n",
       "      <td>Treasury-Treasury Division</td>\n",
       "      <td>Dir</td>\n",
       "      <td>86307.70</td>\n",
       "      <td>0.00</td>\n",
       "      <td>19450.55</td>\n",
       "      <td>0.00</td>\n",
       "      <td>0.0</td>\n",
       "      <td>0.0</td>\n",
       "      <td>0.0</td>\n",
       "      <td>...</td>\n",
       "      <td>2122</td>\n",
       "      <td>STANDARD</td>\n",
       "      <td>Dorchester</td>\n",
       "      <td>MA</td>\n",
       "      <td>Suffolk County</td>\n",
       "      <td>America/New_York</td>\n",
       "      <td>NA</td>\n",
       "      <td>US</td>\n",
       "      <td>42.29</td>\n",
       "      <td>-71.04</td>\n",
       "    </tr>\n",
       "    <tr>\n",
       "      <th>...</th>\n",
       "      <td>...</td>\n",
       "      <td>...</td>\n",
       "      <td>...</td>\n",
       "      <td>...</td>\n",
       "      <td>...</td>\n",
       "      <td>...</td>\n",
       "      <td>...</td>\n",
       "      <td>...</td>\n",
       "      <td>...</td>\n",
       "      <td>...</td>\n",
       "      <td>...</td>\n",
       "      <td>...</td>\n",
       "      <td>...</td>\n",
       "      <td>...</td>\n",
       "      <td>...</td>\n",
       "      <td>...</td>\n",
       "      <td>...</td>\n",
       "      <td>...</td>\n",
       "      <td>...</td>\n",
       "      <td>...</td>\n",
       "      <td>...</td>\n",
       "    </tr>\n",
       "    <tr>\n",
       "      <th>112412</th>\n",
       "      <td>Conward-Lewis Breannah</td>\n",
       "      <td>Youth Engagement &amp; Employment</td>\n",
       "      <td>Yth &amp; Career Development Coord</td>\n",
       "      <td>2799.91</td>\n",
       "      <td>98.13</td>\n",
       "      <td>3919.89</td>\n",
       "      <td>53.33</td>\n",
       "      <td>0.0</td>\n",
       "      <td>0.0</td>\n",
       "      <td>0.0</td>\n",
       "      <td>...</td>\n",
       "      <td>2125</td>\n",
       "      <td>STANDARD</td>\n",
       "      <td>Dorchester</td>\n",
       "      <td>MA</td>\n",
       "      <td>Suffolk County</td>\n",
       "      <td>America/New_York</td>\n",
       "      <td>NA</td>\n",
       "      <td>US</td>\n",
       "      <td>42.32</td>\n",
       "      <td>-71.06</td>\n",
       "    </tr>\n",
       "    <tr>\n",
       "      <th>112413</th>\n",
       "      <td>Conward-Lewis Breannah</td>\n",
       "      <td>Youth Engagement &amp; Employment</td>\n",
       "      <td>Yth &amp; Career Development Coord</td>\n",
       "      <td>37292.24</td>\n",
       "      <td>0.00</td>\n",
       "      <td>0.00</td>\n",
       "      <td>1239.96</td>\n",
       "      <td>0.0</td>\n",
       "      <td>0.0</td>\n",
       "      <td>0.0</td>\n",
       "      <td>...</td>\n",
       "      <td>2125</td>\n",
       "      <td>STANDARD</td>\n",
       "      <td>Dorchester</td>\n",
       "      <td>MA</td>\n",
       "      <td>Suffolk County</td>\n",
       "      <td>America/New_York</td>\n",
       "      <td>NA</td>\n",
       "      <td>US</td>\n",
       "      <td>42.32</td>\n",
       "      <td>-71.06</td>\n",
       "    </tr>\n",
       "    <tr>\n",
       "      <th>112414</th>\n",
       "      <td>Raciukaitis Lina Ona</td>\n",
       "      <td>Boston Public Library</td>\n",
       "      <td>Yth Educational Outreach Coord</td>\n",
       "      <td>35734.54</td>\n",
       "      <td>0.00</td>\n",
       "      <td>0.00</td>\n",
       "      <td>0.00</td>\n",
       "      <td>0.0</td>\n",
       "      <td>0.0</td>\n",
       "      <td>0.0</td>\n",
       "      <td>...</td>\n",
       "      <td>2134</td>\n",
       "      <td>STANDARD</td>\n",
       "      <td>Allston</td>\n",
       "      <td>MA</td>\n",
       "      <td>Suffolk County</td>\n",
       "      <td>America/New_York</td>\n",
       "      <td>NA</td>\n",
       "      <td>US</td>\n",
       "      <td>42.35</td>\n",
       "      <td>-71.13</td>\n",
       "    </tr>\n",
       "    <tr>\n",
       "      <th>112415</th>\n",
       "      <td>Raciukaitis Lina Ona</td>\n",
       "      <td>Boston Public Library</td>\n",
       "      <td>Yth Educational Outreach Coord</td>\n",
       "      <td>18726.98</td>\n",
       "      <td>0.00</td>\n",
       "      <td>5268.71</td>\n",
       "      <td>0.00</td>\n",
       "      <td>0.0</td>\n",
       "      <td>0.0</td>\n",
       "      <td>0.0</td>\n",
       "      <td>...</td>\n",
       "      <td>2134</td>\n",
       "      <td>STANDARD</td>\n",
       "      <td>Allston</td>\n",
       "      <td>MA</td>\n",
       "      <td>Suffolk County</td>\n",
       "      <td>America/New_York</td>\n",
       "      <td>NA</td>\n",
       "      <td>US</td>\n",
       "      <td>42.35</td>\n",
       "      <td>-71.13</td>\n",
       "    </tr>\n",
       "    <tr>\n",
       "      <th>112416</th>\n",
       "      <td>Raciukaitis Lina Ona</td>\n",
       "      <td>Boston Public Library</td>\n",
       "      <td>Yth Educational Outreach Coord</td>\n",
       "      <td>30715.80</td>\n",
       "      <td>0.00</td>\n",
       "      <td>0.00</td>\n",
       "      <td>0.00</td>\n",
       "      <td>0.0</td>\n",
       "      <td>0.0</td>\n",
       "      <td>0.0</td>\n",
       "      <td>...</td>\n",
       "      <td>2134</td>\n",
       "      <td>STANDARD</td>\n",
       "      <td>Allston</td>\n",
       "      <td>MA</td>\n",
       "      <td>Suffolk County</td>\n",
       "      <td>America/New_York</td>\n",
       "      <td>NA</td>\n",
       "      <td>US</td>\n",
       "      <td>42.35</td>\n",
       "      <td>-71.13</td>\n",
       "    </tr>\n",
       "  </tbody>\n",
       "</table>\n",
       "<p>112417 rows × 23 columns</p>\n",
       "</div>"
      ],
      "text/plain": [
       "                          name                department_name  \\\n",
       "0            Flores Ty-Juana L       Office of Arts & Culture   \n",
       "1            Flores Ty-Juana L       Office of Arts & Culture   \n",
       "2            Smith Wesley Drew     Treasury-Treasury Division   \n",
       "3            Smith Wesley Drew     Treasury-Treasury Division   \n",
       "4            Smith Wesley Drew     Treasury-Treasury Division   \n",
       "...                        ...                            ...   \n",
       "112412  Conward-Lewis Breannah  Youth Engagement & Employment   \n",
       "112413  Conward-Lewis Breannah  Youth Engagement & Employment   \n",
       "112414    Raciukaitis Lina Ona          Boston Public Library   \n",
       "112415    Raciukaitis Lina Ona          Boston Public Library   \n",
       "112416    Raciukaitis Lina Ona          Boston Public Library   \n",
       "\n",
       "                             job_title    regular  retro     other  overtime  \\\n",
       "0                                  Dir   30040.96   0.00      0.00      0.00   \n",
       "1                                  Dir    5006.83   0.00      0.00      0.00   \n",
       "2                                  Dir  130000.00   0.00      0.00      0.00   \n",
       "3                                  Dir  135000.06   0.00   2596.15      0.00   \n",
       "4                                  Dir   86307.70   0.00  19450.55      0.00   \n",
       "...                                ...        ...    ...       ...       ...   \n",
       "112412  Yth & Career Development Coord    2799.91  98.13   3919.89     53.33   \n",
       "112413  Yth & Career Development Coord   37292.24   0.00      0.00   1239.96   \n",
       "112414  Yth Educational Outreach Coord   35734.54   0.00      0.00      0.00   \n",
       "112415  Yth Educational Outreach Coord   18726.98   0.00   5268.71      0.00   \n",
       "112416  Yth Educational Outreach Coord   30715.80   0.00      0.00      0.00   \n",
       "\n",
       "        injured  detail  education  ...   zip      type  primary_city  state  \\\n",
       "0           0.0     0.0        0.0  ...  2121  STANDARD    Dorchester     MA   \n",
       "1           0.0     0.0        0.0  ...  2121  STANDARD    Dorchester     MA   \n",
       "2           0.0     0.0        0.0  ...  2122  STANDARD    Dorchester     MA   \n",
       "3           0.0     0.0        0.0  ...  2122  STANDARD    Dorchester     MA   \n",
       "4           0.0     0.0        0.0  ...  2122  STANDARD    Dorchester     MA   \n",
       "...         ...     ...        ...  ...   ...       ...           ...    ...   \n",
       "112412      0.0     0.0        0.0  ...  2125  STANDARD    Dorchester     MA   \n",
       "112413      0.0     0.0        0.0  ...  2125  STANDARD    Dorchester     MA   \n",
       "112414      0.0     0.0        0.0  ...  2134  STANDARD       Allston     MA   \n",
       "112415      0.0     0.0        0.0  ...  2134  STANDARD       Allston     MA   \n",
       "112416      0.0     0.0        0.0  ...  2134  STANDARD       Allston     MA   \n",
       "\n",
       "                county          timezone world_region country latitude  \\\n",
       "0       Suffolk County  America/New_York           NA      US    42.31   \n",
       "1       Suffolk County  America/New_York           NA      US    42.31   \n",
       "2       Suffolk County  America/New_York           NA      US    42.29   \n",
       "3       Suffolk County  America/New_York           NA      US    42.29   \n",
       "4       Suffolk County  America/New_York           NA      US    42.29   \n",
       "...                ...               ...          ...     ...      ...   \n",
       "112412  Suffolk County  America/New_York           NA      US    42.32   \n",
       "112413  Suffolk County  America/New_York           NA      US    42.32   \n",
       "112414  Suffolk County  America/New_York           NA      US    42.35   \n",
       "112415  Suffolk County  America/New_York           NA      US    42.35   \n",
       "112416  Suffolk County  America/New_York           NA      US    42.35   \n",
       "\n",
       "       longitude  \n",
       "0         -71.09  \n",
       "1         -71.09  \n",
       "2         -71.04  \n",
       "3         -71.04  \n",
       "4         -71.04  \n",
       "...          ...  \n",
       "112412    -71.06  \n",
       "112413    -71.06  \n",
       "112414    -71.13  \n",
       "112415    -71.13  \n",
       "112416    -71.13  \n",
       "\n",
       "[112417 rows x 23 columns]"
      ]
     },
     "execution_count": 15,
     "metadata": {},
     "output_type": "execute_result"
    }
   ],
   "source": [
    "%%bigquery\n",
    "\n",
    "SELECT *\n",
    "FROM `ba-775-b03.BA_775_Dataset.data_final`"
   ]
  },
  {
   "cell_type": "markdown",
   "metadata": {
    "tags": []
   },
   "source": [
    "# **Questions and Analysis**"
   ]
  },
  {
   "cell_type": "markdown",
   "metadata": {},
   "source": [
    "In this section, we will analyze the cleaned dataset to gain insights."
   ]
  },
  {
   "cell_type": "markdown",
   "metadata": {
    "tags": []
   },
   "source": [
    "## **Section 1: Year-wise breakdown**"
   ]
  },
  {
   "cell_type": "markdown",
   "metadata": {},
   "source": [
    "### **Question 1-1.** How have job trends and employment opportunities changed over the last five years within the Boston Government sector?"
   ]
  },
  {
   "cell_type": "code",
   "execution_count": 16,
   "metadata": {},
   "outputs": [
    {
     "data": {
      "application/vnd.jupyter.widget-view+json": {
       "model_id": "2258f4e30ccc42d5aabadcf245a5b8d5",
       "version_major": 2,
       "version_minor": 0
      },
      "text/plain": [
       "Query is running:   0%|          |"
      ]
     },
     "metadata": {},
     "output_type": "display_data"
    },
    {
     "data": {
      "application/vnd.jupyter.widget-view+json": {
       "model_id": "a2a8365b23a94eb0ab74286d967cc4fb",
       "version_major": 2,
       "version_minor": 0
      },
      "text/plain": [
       "Downloading:   0%|          |"
      ]
     },
     "metadata": {},
     "output_type": "display_data"
    },
    {
     "data": {
      "text/html": [
       "<div>\n",
       "<style scoped>\n",
       "    .dataframe tbody tr th:only-of-type {\n",
       "        vertical-align: middle;\n",
       "    }\n",
       "\n",
       "    .dataframe tbody tr th {\n",
       "        vertical-align: top;\n",
       "    }\n",
       "\n",
       "    .dataframe thead th {\n",
       "        text-align: right;\n",
       "    }\n",
       "</style>\n",
       "<table border=\"1\" class=\"dataframe\">\n",
       "  <thead>\n",
       "    <tr style=\"text-align: right;\">\n",
       "      <th></th>\n",
       "      <th>year</th>\n",
       "      <th>num_jobs</th>\n",
       "      <th>percentage_difference</th>\n",
       "    </tr>\n",
       "  </thead>\n",
       "  <tbody>\n",
       "    <tr>\n",
       "      <th>0</th>\n",
       "      <td>2018</td>\n",
       "      <td>23142</td>\n",
       "      <td>0.00</td>\n",
       "    </tr>\n",
       "    <tr>\n",
       "      <th>1</th>\n",
       "      <td>2019</td>\n",
       "      <td>22901</td>\n",
       "      <td>-1.04</td>\n",
       "    </tr>\n",
       "    <tr>\n",
       "      <th>2</th>\n",
       "      <td>2020</td>\n",
       "      <td>21406</td>\n",
       "      <td>-6.53</td>\n",
       "    </tr>\n",
       "    <tr>\n",
       "      <th>3</th>\n",
       "      <td>2021</td>\n",
       "      <td>22153</td>\n",
       "      <td>3.49</td>\n",
       "    </tr>\n",
       "    <tr>\n",
       "      <th>4</th>\n",
       "      <td>2022</td>\n",
       "      <td>22815</td>\n",
       "      <td>2.99</td>\n",
       "    </tr>\n",
       "  </tbody>\n",
       "</table>\n",
       "</div>"
      ],
      "text/plain": [
       "   year  num_jobs  percentage_difference\n",
       "0  2018     23142                   0.00\n",
       "1  2019     22901                  -1.04\n",
       "2  2020     21406                  -6.53\n",
       "3  2021     22153                   3.49\n",
       "4  2022     22815                   2.99"
      ]
     },
     "execution_count": 16,
     "metadata": {},
     "output_type": "execute_result"
    }
   ],
   "source": [
    "%%bigquery\n",
    "WITH\n",
    " YearlyJobCounts AS (\n",
    " SELECT\n",
    "   year,\n",
    "   COUNT(*) AS num_jobs,\n",
    "   LAG(COUNT(*)) OVER (ORDER BY year) AS prev_num_jobs\n",
    " FROM\n",
    "  `ba-775-b03.BA_775_Dataset.data_final`\n",
    " GROUP BY\n",
    "   year )\n",
    "SELECT\n",
    " year,\n",
    " num_jobs,\n",
    " ROUND(COALESCE(((num_jobs - prev_num_jobs) * 100.0 / prev_num_jobs), 0), 2) AS percentage_difference\n",
    "FROM\n",
    " YearlyJobCounts\n",
    "ORDER BY\n",
    " year;"
   ]
  },
  {
   "cell_type": "markdown",
   "metadata": {},
   "source": [
    "**Answer:** The government sector's job market exhibited relatively stable trends across three distinct phases: pre-COVID (2018-2019), pandemic (2020), and post-COVID (2021-2022). In the pre-COVID period, there was a modest decline in job numbers from 23,142 to 22,901. The pandemic, however, wielded a notable impact as job figures dropped to 21,406 in 2020 from the pre-pandemic level of 23,142. The post-COVID era witnessed a gradual recovery, with job numbers rising from 22,153 in 2021 to 22,815 in 2022. This positive trajectory in the post-COVID period suggests a rebound in the government job market after the initial downturn caused by the pandemic, illustrating a resilience and adaptability in the face of external challenges."
   ]
  },
  {
   "cell_type": "markdown",
   "metadata": {},
   "source": [
    "### **Question 1-2.** How has the median salary distribution evolved over the last five years within the Boston Government sector?"
   ]
  },
  {
   "cell_type": "code",
   "execution_count": 17,
   "metadata": {},
   "outputs": [
    {
     "data": {
      "application/vnd.jupyter.widget-view+json": {
       "model_id": "5517556b0c9d4a0495401b20d809297f",
       "version_major": 2,
       "version_minor": 0
      },
      "text/plain": [
       "Query is running:   0%|          |"
      ]
     },
     "metadata": {},
     "output_type": "display_data"
    },
    {
     "data": {
      "application/vnd.jupyter.widget-view+json": {
       "model_id": "331f60c732ed4b1888b876c55d343c30",
       "version_major": 2,
       "version_minor": 0
      },
      "text/plain": [
       "Downloading:   0%|          |"
      ]
     },
     "metadata": {},
     "output_type": "display_data"
    },
    {
     "data": {
      "text/html": [
       "<div>\n",
       "<style scoped>\n",
       "    .dataframe tbody tr th:only-of-type {\n",
       "        vertical-align: middle;\n",
       "    }\n",
       "\n",
       "    .dataframe tbody tr th {\n",
       "        vertical-align: top;\n",
       "    }\n",
       "\n",
       "    .dataframe thead th {\n",
       "        text-align: right;\n",
       "    }\n",
       "</style>\n",
       "<table border=\"1\" class=\"dataframe\">\n",
       "  <thead>\n",
       "    <tr style=\"text-align: right;\">\n",
       "      <th></th>\n",
       "      <th>year</th>\n",
       "      <th>median_salary</th>\n",
       "      <th>percentage_difference</th>\n",
       "    </tr>\n",
       "  </thead>\n",
       "  <tbody>\n",
       "    <tr>\n",
       "      <th>0</th>\n",
       "      <td>2018</td>\n",
       "      <td>66884.79</td>\n",
       "      <td>0.00</td>\n",
       "    </tr>\n",
       "    <tr>\n",
       "      <th>1</th>\n",
       "      <td>2019</td>\n",
       "      <td>70897.17</td>\n",
       "      <td>6.00</td>\n",
       "    </tr>\n",
       "    <tr>\n",
       "      <th>2</th>\n",
       "      <td>2020</td>\n",
       "      <td>79179.08</td>\n",
       "      <td>11.68</td>\n",
       "    </tr>\n",
       "    <tr>\n",
       "      <th>3</th>\n",
       "      <td>2021</td>\n",
       "      <td>78558.36</td>\n",
       "      <td>-0.78</td>\n",
       "    </tr>\n",
       "    <tr>\n",
       "      <th>4</th>\n",
       "      <td>2022</td>\n",
       "      <td>79421.12</td>\n",
       "      <td>1.10</td>\n",
       "    </tr>\n",
       "  </tbody>\n",
       "</table>\n",
       "</div>"
      ],
      "text/plain": [
       "   year  median_salary  percentage_difference\n",
       "0  2018       66884.79                   0.00\n",
       "1  2019       70897.17                   6.00\n",
       "2  2020       79179.08                  11.68\n",
       "3  2021       78558.36                  -0.78\n",
       "4  2022       79421.12                   1.10"
      ]
     },
     "execution_count": 17,
     "metadata": {},
     "output_type": "execute_result"
    }
   ],
   "source": [
    "%%bigquery\n",
    "WITH MedianSalaries AS (\n",
    "  SELECT\n",
    "      year,\n",
    "      APPROX_QUANTILES(total_earnings, 1001)[OFFSET(500)] AS median_salary,\n",
    "      LAG(APPROX_QUANTILES(total_earnings, 1001)[OFFSET(500)]) OVER (ORDER BY year) AS prev_median_salary\n",
    "  FROM\n",
    "      `ba-775-b03.BA_775_Dataset.data_final`\n",
    "  GROUP BY\n",
    "      year\n",
    ")\n",
    "SELECT\n",
    "  year,\n",
    "  median_salary,\n",
    "  ROUND(COALESCE(((median_salary - prev_median_salary) * 100.0 / prev_median_salary), 0), 2) AS percentage_difference\n",
    "FROM\n",
    "  MedianSalaries\n",
    "ORDER BY\n",
    "  year;"
   ]
  },
  {
   "cell_type": "markdown",
   "metadata": {},
   "source": [
    "**Answer:** In the pre-COVID period (2018-2019), there was positive growth in the value, indicating an upward trajectory from 2018 to 2019. Amid the pandemic in 2020, the trend of growth persisted, reflecting resilience in this specific metric despite the challenges posed by the global health crisis. Moving into the post-COVID period (2021-2022), there was observed stability or a slight increase in the value, suggesting a continued positive trend from 2021 to 2022. "
   ]
  },
  {
   "cell_type": "markdown",
   "metadata": {},
   "source": [
    "### **Question 1-3.** Which county had the highest number of jobs over the five years, and what is the ratio in terms of the number of jobs?"
   ]
  },
  {
   "cell_type": "code",
   "execution_count": 18,
   "metadata": {},
   "outputs": [
    {
     "data": {
      "application/vnd.jupyter.widget-view+json": {
       "model_id": "0dcd3222a751490eb1421c46a843cd72",
       "version_major": 2,
       "version_minor": 0
      },
      "text/plain": [
       "Query is running:   0%|          |"
      ]
     },
     "metadata": {},
     "output_type": "display_data"
    },
    {
     "data": {
      "application/vnd.jupyter.widget-view+json": {
       "model_id": "01fbfde0180a46d8a1ce0254da485546",
       "version_major": 2,
       "version_minor": 0
      },
      "text/plain": [
       "Downloading:   0%|          |"
      ]
     },
     "metadata": {},
     "output_type": "display_data"
    },
    {
     "data": {
      "text/html": [
       "<div>\n",
       "<style scoped>\n",
       "    .dataframe tbody tr th:only-of-type {\n",
       "        vertical-align: middle;\n",
       "    }\n",
       "\n",
       "    .dataframe tbody tr th {\n",
       "        vertical-align: top;\n",
       "    }\n",
       "\n",
       "    .dataframe thead th {\n",
       "        text-align: right;\n",
       "    }\n",
       "</style>\n",
       "<table border=\"1\" class=\"dataframe\">\n",
       "  <thead>\n",
       "    <tr style=\"text-align: right;\">\n",
       "      <th></th>\n",
       "      <th>year</th>\n",
       "      <th>num_jobs</th>\n",
       "      <th>county_with_highest_jobs</th>\n",
       "      <th>highest_num_jobs</th>\n",
       "      <th>ratio</th>\n",
       "    </tr>\n",
       "  </thead>\n",
       "  <tbody>\n",
       "    <tr>\n",
       "      <th>0</th>\n",
       "      <td>2018</td>\n",
       "      <td>23142</td>\n",
       "      <td>Suffolk County</td>\n",
       "      <td>15773</td>\n",
       "      <td>0.68</td>\n",
       "    </tr>\n",
       "    <tr>\n",
       "      <th>1</th>\n",
       "      <td>2019</td>\n",
       "      <td>22901</td>\n",
       "      <td>Suffolk County</td>\n",
       "      <td>15598</td>\n",
       "      <td>0.68</td>\n",
       "    </tr>\n",
       "    <tr>\n",
       "      <th>2</th>\n",
       "      <td>2020</td>\n",
       "      <td>21406</td>\n",
       "      <td>Suffolk County</td>\n",
       "      <td>14461</td>\n",
       "      <td>0.68</td>\n",
       "    </tr>\n",
       "    <tr>\n",
       "      <th>3</th>\n",
       "      <td>2021</td>\n",
       "      <td>22153</td>\n",
       "      <td>Suffolk County</td>\n",
       "      <td>14807</td>\n",
       "      <td>0.67</td>\n",
       "    </tr>\n",
       "    <tr>\n",
       "      <th>4</th>\n",
       "      <td>2022</td>\n",
       "      <td>22815</td>\n",
       "      <td>Suffolk County</td>\n",
       "      <td>15369</td>\n",
       "      <td>0.67</td>\n",
       "    </tr>\n",
       "  </tbody>\n",
       "</table>\n",
       "</div>"
      ],
      "text/plain": [
       "   year  num_jobs county_with_highest_jobs  highest_num_jobs  ratio\n",
       "0  2018     23142           Suffolk County             15773   0.68\n",
       "1  2019     22901           Suffolk County             15598   0.68\n",
       "2  2020     21406           Suffolk County             14461   0.68\n",
       "3  2021     22153           Suffolk County             14807   0.67\n",
       "4  2022     22815           Suffolk County             15369   0.67"
      ]
     },
     "execution_count": 18,
     "metadata": {},
     "output_type": "execute_result"
    }
   ],
   "source": [
    "%%bigquery\n",
    "WITH YearlyJobCounts AS (\n",
    "   SELECT\n",
    "       year,\n",
    "       COUNT(*) AS num_jobs,\n",
    "       LAG(COUNT(*)) OVER (ORDER BY year) AS prev_num_jobs\n",
    "   FROM\n",
    "   `ba-775-b03.BA_775_Dataset.data_final`\n",
    "   GROUP BY\n",
    "       year\n",
    "),\n",
    "YearlyCounts AS (\n",
    "   SELECT\n",
    "       year,\n",
    "       county,\n",
    "       COUNT(*) AS num_jobs,\n",
    "       RANK() OVER (PARTITION BY year ORDER BY COUNT(*) DESC) AS job_rank\n",
    "   FROM\n",
    "   `ba-775-b03.BA_775_Dataset.data_final`\n",
    "   WHERE\n",
    "       year IN (2018, 2019, 2020, 2021, 2022)\n",
    "   GROUP BY\n",
    "       year,\n",
    "       county\n",
    ")\n",
    ", Code1Results AS (\n",
    "   SELECT\n",
    "       year,\n",
    "       num_jobs,\n",
    "       ROUND(COALESCE(((num_jobs - prev_num_jobs) * 100.0 / prev_num_jobs), 0), 2) AS percentage_difference\n",
    "   FROM\n",
    "       YearlyJobCounts\n",
    ")\n",
    ", Code2Results AS (\n",
    "   SELECT\n",
    "       year,\n",
    "       county AS county_with_highest_jobs,\n",
    "       MAX(num_jobs) AS highest_num_jobs\n",
    "   FROM\n",
    "       YearlyCounts\n",
    "   WHERE\n",
    "       job_rank = 1\n",
    "   GROUP BY\n",
    "       year, county\n",
    ")\n",
    "-- ratio\n",
    "SELECT\n",
    "   c1.year,\n",
    "   c1.num_jobs,\n",
    "   c2.county_with_highest_jobs,\n",
    "   c2.highest_num_jobs,\n",
    "   ROUND( c2.highest_num_jobs / c1.num_jobs, 2) AS ratio\n",
    "FROM\n",
    "   Code1Results c1\n",
    "JOIN\n",
    "   Code2Results c2 ON c1.year = c2.year\n",
    "ORDER BY\n",
    "   C1.year;"
   ]
  },
  {
   "cell_type": "markdown",
   "metadata": {},
   "source": [
    "**Answer:** The Boston Government sector experienced a gradual reduction in job numbers between 2018 and 2022, consistently showing Suffolk County as the primary hub for employment. The peak in job count was observed in 2018, followed by a decline in the succeeding years. The COVID-19 pandemic in 2020 resulted in a decrease in employment, followed by a partial recovery in 2021 and 2022, although job levels did not reach their pre-pandemic peak. Despite these variations, Suffolk County sustained its position. The ratio of the highest to total jobs remained relatively steady, signifying consistent proportions throughout the years, although with a slight decrease in the post-COVID period."
   ]
  },
  {
   "cell_type": "markdown",
   "metadata": {},
   "source": [
    "### **Question 1-4.** Which department  had the highest number of jobs over the five years, and what is the ratio in terms of the number of jobs?"
   ]
  },
  {
   "cell_type": "code",
   "execution_count": 19,
   "metadata": {},
   "outputs": [
    {
     "data": {
      "application/vnd.jupyter.widget-view+json": {
       "model_id": "2b2f38bb2b8e480f98e671a0603c0d30",
       "version_major": 2,
       "version_minor": 0
      },
      "text/plain": [
       "Query is running:   0%|          |"
      ]
     },
     "metadata": {},
     "output_type": "display_data"
    },
    {
     "data": {
      "application/vnd.jupyter.widget-view+json": {
       "model_id": "640f1257a73142d7b2a281dff168934e",
       "version_major": 2,
       "version_minor": 0
      },
      "text/plain": [
       "Downloading:   0%|          |"
      ]
     },
     "metadata": {},
     "output_type": "display_data"
    },
    {
     "data": {
      "text/html": [
       "<div>\n",
       "<style scoped>\n",
       "    .dataframe tbody tr th:only-of-type {\n",
       "        vertical-align: middle;\n",
       "    }\n",
       "\n",
       "    .dataframe tbody tr th {\n",
       "        vertical-align: top;\n",
       "    }\n",
       "\n",
       "    .dataframe thead th {\n",
       "        text-align: right;\n",
       "    }\n",
       "</style>\n",
       "<table border=\"1\" class=\"dataframe\">\n",
       "  <thead>\n",
       "    <tr style=\"text-align: right;\">\n",
       "      <th></th>\n",
       "      <th>year</th>\n",
       "      <th>num_jobs</th>\n",
       "      <th>department_with_highest_jobs</th>\n",
       "      <th>highest_num_jobs</th>\n",
       "      <th>ratio</th>\n",
       "    </tr>\n",
       "  </thead>\n",
       "  <tbody>\n",
       "    <tr>\n",
       "      <th>0</th>\n",
       "      <td>2018</td>\n",
       "      <td>23142</td>\n",
       "      <td>Boston Police Department</td>\n",
       "      <td>3139</td>\n",
       "      <td>0.14</td>\n",
       "    </tr>\n",
       "    <tr>\n",
       "      <th>1</th>\n",
       "      <td>2019</td>\n",
       "      <td>22901</td>\n",
       "      <td>Boston Police Department</td>\n",
       "      <td>3220</td>\n",
       "      <td>0.14</td>\n",
       "    </tr>\n",
       "    <tr>\n",
       "      <th>2</th>\n",
       "      <td>2020</td>\n",
       "      <td>21406</td>\n",
       "      <td>Boston Police Department</td>\n",
       "      <td>3100</td>\n",
       "      <td>0.14</td>\n",
       "    </tr>\n",
       "    <tr>\n",
       "      <th>3</th>\n",
       "      <td>2021</td>\n",
       "      <td>22153</td>\n",
       "      <td>Boston Police Department</td>\n",
       "      <td>3057</td>\n",
       "      <td>0.14</td>\n",
       "    </tr>\n",
       "    <tr>\n",
       "      <th>4</th>\n",
       "      <td>2022</td>\n",
       "      <td>22815</td>\n",
       "      <td>Boston Police Department</td>\n",
       "      <td>2998</td>\n",
       "      <td>0.13</td>\n",
       "    </tr>\n",
       "  </tbody>\n",
       "</table>\n",
       "</div>"
      ],
      "text/plain": [
       "   year  num_jobs department_with_highest_jobs  highest_num_jobs  ratio\n",
       "0  2018     23142     Boston Police Department              3139   0.14\n",
       "1  2019     22901     Boston Police Department              3220   0.14\n",
       "2  2020     21406     Boston Police Department              3100   0.14\n",
       "3  2021     22153     Boston Police Department              3057   0.14\n",
       "4  2022     22815     Boston Police Department              2998   0.13"
      ]
     },
     "execution_count": 19,
     "metadata": {},
     "output_type": "execute_result"
    }
   ],
   "source": [
    "%%bigquery\n",
    "WITH YearlyJobCounts AS (\n",
    "   SELECT\n",
    "       year,\n",
    "       COUNT(*) AS num_jobs,\n",
    "       LAG(COUNT(*)) OVER (ORDER BY year) AS prev_num_jobs\n",
    "   FROM\n",
    "       `ba-775-b03.BA_775_Dataset.data_final`\n",
    "   GROUP BY\n",
    "       year\n",
    "),\n",
    "YearlyCounts AS (\n",
    "   SELECT\n",
    "       year,\n",
    "       department_name,\n",
    "       COUNT(*) AS num_jobs,\n",
    "       RANK() OVER (PARTITION BY year ORDER BY COUNT(*) DESC) AS job_rank\n",
    "   FROM\n",
    "      `ba-775-b03.BA_775_Dataset.data_final`\n",
    "   WHERE\n",
    "       year IN (2018, 2019, 2020, 2021, 2022)\n",
    "   GROUP BY\n",
    "       year,\n",
    "       department_name\n",
    "),\n",
    "Code1Results AS (\n",
    "   SELECT\n",
    "       year,\n",
    "       num_jobs,\n",
    "       ROUND(COALESCE(((num_jobs - prev_num_jobs) * 100.0 / prev_num_jobs), 0), 2) AS percentage_difference\n",
    "   FROM\n",
    "       YearlyJobCounts\n",
    "),\n",
    "Code2Results AS (\n",
    "   SELECT\n",
    "       year,\n",
    "       department_name AS department_with_highest_jobs,\n",
    "       MAX(num_jobs) AS highest_num_jobs\n",
    "   FROM\n",
    "       YearlyCounts\n",
    "   WHERE\n",
    "       job_rank = 1\n",
    "   GROUP BY\n",
    "       year, department_name\n",
    ")\n",
    "-- ratio\n",
    "SELECT\n",
    "   c1.year,\n",
    "   c1.num_jobs,\n",
    "   c2.department_with_highest_jobs,\n",
    "   c2.highest_num_jobs,\n",
    "   ROUND(c2.highest_num_jobs / c1.num_jobs, 2) AS ratio\n",
    "FROM\n",
    "   Code1Results c1\n",
    "JOIN\n",
    "   Code2Results c2 ON c1.year = c2.year\n",
    "ORDER BY\n",
    "   C1.year;"
   ]
  },
  {
   "cell_type": "markdown",
   "metadata": {},
   "source": [
    "**Answer:** Over the five-year period 2018 to 2022, the employment within the Boston Police Department underwent extremely minute shifts. The pre-COVID years of 2018 and 2019 exhibited relative stability, with job numbers around 22,901, peaking in 2019. During the pandemic in 2020, there was a noticeable contraction in the workforce, reflected in a reduced total job count of 21,406. The subsequent post-COVID years, 2021 and 2022, witnessed a modest recovery in job numbers, reaching 22,153 and 22,815, respectively. Notably, however, the department experienced a consistent decline in the highest number of jobs, dropping from 3,220 in 2019 to 2,998 in 2022. This decline was reflected in a diminishing job ratio, reaching 0.13 in 2022, indicative of a smaller proportion of the highest jobs relative to the total. The dataset thus reveals stability and peak before COVID, a downturn during the pandemic, and a subsequent recovery tempered by a persistent decrease in the highest job numbers."
   ]
  },
  {
   "cell_type": "markdown",
   "metadata": {
    "tags": []
   },
   "source": [
    "## **Section 2: Department-wise breakdown**"
   ]
  },
  {
   "cell_type": "markdown",
   "metadata": {
    "tags": []
   },
   "source": [
    "### **Question 2-1.** How do median salaries and employee numbers relate to pay structures across departments, and which one shows the highest earnings per employee, suggesting budget efficiency?"
   ]
  },
  {
   "cell_type": "code",
   "execution_count": 20,
   "metadata": {
    "tags": []
   },
   "outputs": [
    {
     "data": {
      "application/vnd.jupyter.widget-view+json": {
       "model_id": "e1cffeea61b2465dbe8ce656464c0ea4",
       "version_major": 2,
       "version_minor": 0
      },
      "text/plain": [
       "Query is running:   0%|          |"
      ]
     },
     "metadata": {},
     "output_type": "display_data"
    },
    {
     "data": {
      "application/vnd.jupyter.widget-view+json": {
       "model_id": "b039b725a1604bdbb1cdf54f98f276c9",
       "version_major": 2,
       "version_minor": 0
      },
      "text/plain": [
       "Downloading:   0%|          |"
      ]
     },
     "metadata": {},
     "output_type": "display_data"
    },
    {
     "data": {
      "text/html": [
       "<div>\n",
       "<style scoped>\n",
       "    .dataframe tbody tr th:only-of-type {\n",
       "        vertical-align: middle;\n",
       "    }\n",
       "\n",
       "    .dataframe tbody tr th {\n",
       "        vertical-align: top;\n",
       "    }\n",
       "\n",
       "    .dataframe thead th {\n",
       "        text-align: right;\n",
       "    }\n",
       "</style>\n",
       "<table border=\"1\" class=\"dataframe\">\n",
       "  <thead>\n",
       "    <tr style=\"text-align: right;\">\n",
       "      <th></th>\n",
       "      <th>department_name</th>\n",
       "      <th>number_of_employees</th>\n",
       "      <th>total_regular_pay_in_millions</th>\n",
       "      <th>total_retro_pay_in_millions</th>\n",
       "      <th>total_other_pay_in_millions</th>\n",
       "      <th>total_overtime_pay_in_millions</th>\n",
       "      <th>total_earnings_in_millions</th>\n",
       "      <th>median_salary_in_millions</th>\n",
       "    </tr>\n",
       "  </thead>\n",
       "  <tbody>\n",
       "    <tr>\n",
       "      <th>0</th>\n",
       "      <td>Boston Police Department</td>\n",
       "      <td>15514</td>\n",
       "      <td>1184.136641</td>\n",
       "      <td>9.113784</td>\n",
       "      <td>85.359261</td>\n",
       "      <td>380.489221</td>\n",
       "      <td>1659.10</td>\n",
       "      <td>0.11</td>\n",
       "    </tr>\n",
       "    <tr>\n",
       "      <th>1</th>\n",
       "      <td>Boston Fire Department</td>\n",
       "      <td>8540</td>\n",
       "      <td>946.028466</td>\n",
       "      <td>17.779547</td>\n",
       "      <td>41.359242</td>\n",
       "      <td>169.558076</td>\n",
       "      <td>1174.73</td>\n",
       "      <td>0.14</td>\n",
       "    </tr>\n",
       "    <tr>\n",
       "      <th>2</th>\n",
       "      <td>BPS Special Education</td>\n",
       "      <td>4097</td>\n",
       "      <td>256.370650</td>\n",
       "      <td>2.716519</td>\n",
       "      <td>5.654851</td>\n",
       "      <td>0.104827</td>\n",
       "      <td>264.85</td>\n",
       "      <td>0.05</td>\n",
       "    </tr>\n",
       "    <tr>\n",
       "      <th>3</th>\n",
       "      <td>BPS Facility Management</td>\n",
       "      <td>2948</td>\n",
       "      <td>132.395731</td>\n",
       "      <td>1.255610</td>\n",
       "      <td>5.361500</td>\n",
       "      <td>10.443515</td>\n",
       "      <td>149.46</td>\n",
       "      <td>0.06</td>\n",
       "    </tr>\n",
       "    <tr>\n",
       "      <th>4</th>\n",
       "      <td>Boston Public Library</td>\n",
       "      <td>2496</td>\n",
       "      <td>137.077742</td>\n",
       "      <td>1.834487</td>\n",
       "      <td>3.032512</td>\n",
       "      <td>2.641883</td>\n",
       "      <td>144.59</td>\n",
       "      <td>0.06</td>\n",
       "    </tr>\n",
       "    <tr>\n",
       "      <th>5</th>\n",
       "      <td>Public Works Department</td>\n",
       "      <td>2057</td>\n",
       "      <td>105.470333</td>\n",
       "      <td>1.102356</td>\n",
       "      <td>2.369946</td>\n",
       "      <td>21.982451</td>\n",
       "      <td>130.93</td>\n",
       "      <td>0.06</td>\n",
       "    </tr>\n",
       "    <tr>\n",
       "      <th>6</th>\n",
       "      <td>Boston Cntr - Youth &amp; Families</td>\n",
       "      <td>2265</td>\n",
       "      <td>105.058821</td>\n",
       "      <td>0.817317</td>\n",
       "      <td>2.320374</td>\n",
       "      <td>1.516634</td>\n",
       "      <td>109.71</td>\n",
       "      <td>0.05</td>\n",
       "    </tr>\n",
       "    <tr>\n",
       "      <th>7</th>\n",
       "      <td>Traffic Division</td>\n",
       "      <td>1761</td>\n",
       "      <td>95.965151</td>\n",
       "      <td>0.895647</td>\n",
       "      <td>2.047477</td>\n",
       "      <td>8.156571</td>\n",
       "      <td>107.06</td>\n",
       "      <td>0.06</td>\n",
       "    </tr>\n",
       "    <tr>\n",
       "      <th>8</th>\n",
       "      <td>BPS Madison Park High</td>\n",
       "      <td>1143</td>\n",
       "      <td>86.637333</td>\n",
       "      <td>0.768595</td>\n",
       "      <td>3.074336</td>\n",
       "      <td>0.056003</td>\n",
       "      <td>90.54</td>\n",
       "      <td>0.09</td>\n",
       "    </tr>\n",
       "    <tr>\n",
       "      <th>9</th>\n",
       "      <td>Inspectional Services Dept</td>\n",
       "      <td>1113</td>\n",
       "      <td>76.165305</td>\n",
       "      <td>0.788774</td>\n",
       "      <td>2.788521</td>\n",
       "      <td>8.716531</td>\n",
       "      <td>88.46</td>\n",
       "      <td>0.08</td>\n",
       "    </tr>\n",
       "  </tbody>\n",
       "</table>\n",
       "</div>"
      ],
      "text/plain": [
       "                  department_name  number_of_employees  \\\n",
       "0        Boston Police Department                15514   \n",
       "1          Boston Fire Department                 8540   \n",
       "2           BPS Special Education                 4097   \n",
       "3         BPS Facility Management                 2948   \n",
       "4           Boston Public Library                 2496   \n",
       "5         Public Works Department                 2057   \n",
       "6  Boston Cntr - Youth & Families                 2265   \n",
       "7                Traffic Division                 1761   \n",
       "8           BPS Madison Park High                 1143   \n",
       "9      Inspectional Services Dept                 1113   \n",
       "\n",
       "   total_regular_pay_in_millions  total_retro_pay_in_millions  \\\n",
       "0                    1184.136641                     9.113784   \n",
       "1                     946.028466                    17.779547   \n",
       "2                     256.370650                     2.716519   \n",
       "3                     132.395731                     1.255610   \n",
       "4                     137.077742                     1.834487   \n",
       "5                     105.470333                     1.102356   \n",
       "6                     105.058821                     0.817317   \n",
       "7                      95.965151                     0.895647   \n",
       "8                      86.637333                     0.768595   \n",
       "9                      76.165305                     0.788774   \n",
       "\n",
       "   total_other_pay_in_millions  total_overtime_pay_in_millions  \\\n",
       "0                    85.359261                      380.489221   \n",
       "1                    41.359242                      169.558076   \n",
       "2                     5.654851                        0.104827   \n",
       "3                     5.361500                       10.443515   \n",
       "4                     3.032512                        2.641883   \n",
       "5                     2.369946                       21.982451   \n",
       "6                     2.320374                        1.516634   \n",
       "7                     2.047477                        8.156571   \n",
       "8                     3.074336                        0.056003   \n",
       "9                     2.788521                        8.716531   \n",
       "\n",
       "   total_earnings_in_millions  median_salary_in_millions  \n",
       "0                     1659.10                       0.11  \n",
       "1                     1174.73                       0.14  \n",
       "2                      264.85                       0.05  \n",
       "3                      149.46                       0.06  \n",
       "4                      144.59                       0.06  \n",
       "5                      130.93                       0.06  \n",
       "6                      109.71                       0.05  \n",
       "7                      107.06                       0.06  \n",
       "8                       90.54                       0.09  \n",
       "9                       88.46                       0.08  "
      ]
     },
     "execution_count": 20,
     "metadata": {},
     "output_type": "execute_result"
    }
   ],
   "source": [
    "%%bigquery\n",
    "WITH MedianSalaries AS (\n",
    "SELECT\n",
    "  department_name,\n",
    "  APPROX_QUANTILES((regular + IFNULL(retro, 0) + IFNULL(other, 0) + IFNULL(overtime, 0)), 2)[OFFSET(1)] AS median_salary\n",
    "FROM `ba-775-b03.BA_775_Dataset.data_final`\n",
    "GROUP BY\n",
    "  department_name\n",
    ")\n",
    "SELECT\n",
    "ms.department_name,\n",
    "COUNT(e.name) AS number_of_employees,\n",
    "SUM(e.regular) / 1000000 AS total_regular_pay_in_millions,\n",
    "SUM(e.retro) / 1000000 AS total_retro_pay_in_millions,\n",
    "SUM(e.other) / 1000000 AS total_other_pay_in_millions,\n",
    "SUM(e.overtime) / 1000000 AS total_overtime_pay_in_millions,\n",
    "ROUND(SUM(e.regular + IFNULL(e.retro, 0) + IFNULL(e.other, 0) + IFNULL(e.overtime, 0)) / 1000000, 2) AS total_earnings_in_millions,\n",
    "ROUND(ms.median_salary / 1000000, 2) AS median_salary_in_millions\n",
    "FROM `ba-775-b03.BA_775_Dataset.data_final` e\n",
    "JOIN\n",
    "MedianSalaries ms ON e.department_name = ms.department_name\n",
    "GROUP BY\n",
    "ms.department_name, ms.median_salary\n",
    "ORDER BY\n",
    "total_earnings_in_millions DESC\n",
    "LIMIT 10;"
   ]
  },
  {
   "cell_type": "markdown",
   "metadata": {},
   "source": [
    "**Answer**: \n",
    "The Boston Police Department, with 15,514 employees, has the highest payouts at USD 1,659.1 million, yet a moderate median salary of USD 0.11 million, suggesting a vast workforce with a wide range in individual compensation. Contrastingly, the Boston Fire Department, with fewer employees, 8,540, has a higher median salary of USD 0.14 million and total earnings of USD 1,174.73 million, indicating a higher average compensation possibly due to specialized skills or increased risk factors associated with the job.\n",
    "\n",
    "Departments like BPS Special Education and Public Works demonstrate lower median salaries, around USD 0.05 million, reflecting the variability in pay scales across different educational and infrastructural roles. The total earnings also correspond to the number of employees, with smaller departments typically having lower overall compensation budgets."
   ]
  },
  {
   "cell_type": "markdown",
   "metadata": {},
   "source": [
    "### **Question 2-2.** In the analysis of public sector salaries within the Boston area, what patterns emerge from the top earnings across different departments, and how do regular, retroactive, other compensations, and overtime contribute to the total earnings of the highest-paid employees?"
   ]
  },
  {
   "cell_type": "code",
   "execution_count": 21,
   "metadata": {
    "tags": []
   },
   "outputs": [
    {
     "data": {
      "application/vnd.jupyter.widget-view+json": {
       "model_id": "cd49ff58599f448fb6fc7d6f32dfbada",
       "version_major": 2,
       "version_minor": 0
      },
      "text/plain": [
       "Query is running:   0%|          |"
      ]
     },
     "metadata": {},
     "output_type": "display_data"
    },
    {
     "data": {
      "application/vnd.jupyter.widget-view+json": {
       "model_id": "456910a27cb149328e22eb628c2df52a",
       "version_major": 2,
       "version_minor": 0
      },
      "text/plain": [
       "Downloading:   0%|          |"
      ]
     },
     "metadata": {},
     "output_type": "display_data"
    },
    {
     "data": {
      "text/html": [
       "<div>\n",
       "<style scoped>\n",
       "    .dataframe tbody tr th:only-of-type {\n",
       "        vertical-align: middle;\n",
       "    }\n",
       "\n",
       "    .dataframe tbody tr th {\n",
       "        vertical-align: top;\n",
       "    }\n",
       "\n",
       "    .dataframe thead th {\n",
       "        text-align: right;\n",
       "    }\n",
       "</style>\n",
       "<table border=\"1\" class=\"dataframe\">\n",
       "  <thead>\n",
       "    <tr style=\"text-align: right;\">\n",
       "      <th></th>\n",
       "      <th>name</th>\n",
       "      <th>department_name</th>\n",
       "      <th>job_title</th>\n",
       "      <th>regular</th>\n",
       "      <th>retro</th>\n",
       "      <th>other</th>\n",
       "      <th>overtime</th>\n",
       "      <th>total_earnings</th>\n",
       "    </tr>\n",
       "  </thead>\n",
       "  <tbody>\n",
       "    <tr>\n",
       "      <th>0</th>\n",
       "      <td>Beckers Richard</td>\n",
       "      <td>Boston Police Department</td>\n",
       "      <td>Police Officer</td>\n",
       "      <td>0.00</td>\n",
       "      <td>0.0</td>\n",
       "      <td>1264843.63</td>\n",
       "      <td>0.00</td>\n",
       "      <td>1264843.63</td>\n",
       "    </tr>\n",
       "    <tr>\n",
       "      <th>1</th>\n",
       "      <td>McGowan Jacqueline M.</td>\n",
       "      <td>Boston Police Department</td>\n",
       "      <td>Police Officer</td>\n",
       "      <td>0.00</td>\n",
       "      <td>0.0</td>\n",
       "      <td>1252990.81</td>\n",
       "      <td>0.00</td>\n",
       "      <td>1252990.81</td>\n",
       "    </tr>\n",
       "    <tr>\n",
       "      <th>2</th>\n",
       "      <td>Gavin Donna M.</td>\n",
       "      <td>Boston Police Department</td>\n",
       "      <td>Police Lieutenant (Det)</td>\n",
       "      <td>53226.90</td>\n",
       "      <td>0.0</td>\n",
       "      <td>1045845.44</td>\n",
       "      <td>463.52</td>\n",
       "      <td>1099535.86</td>\n",
       "    </tr>\n",
       "    <tr>\n",
       "      <th>3</th>\n",
       "      <td>Harris Shawn N</td>\n",
       "      <td>Boston Police Department</td>\n",
       "      <td>Police Officer</td>\n",
       "      <td>517789.82</td>\n",
       "      <td>0.0</td>\n",
       "      <td>83369.34</td>\n",
       "      <td>48199.74</td>\n",
       "      <td>649358.90</td>\n",
       "    </tr>\n",
       "    <tr>\n",
       "      <th>4</th>\n",
       "      <td>Williams David C.</td>\n",
       "      <td>Boston Police Department</td>\n",
       "      <td>Police Officer</td>\n",
       "      <td>95184.68</td>\n",
       "      <td>0.0</td>\n",
       "      <td>503025.78</td>\n",
       "      <td>45176.88</td>\n",
       "      <td>643387.34</td>\n",
       "    </tr>\n",
       "    <tr>\n",
       "      <th>5</th>\n",
       "      <td>Jones Ronnie C</td>\n",
       "      <td>Boston Police Department</td>\n",
       "      <td>Police Officer</td>\n",
       "      <td>462149.98</td>\n",
       "      <td>0.0</td>\n",
       "      <td>114973.46</td>\n",
       "      <td>0.00</td>\n",
       "      <td>577123.44</td>\n",
       "    </tr>\n",
       "    <tr>\n",
       "      <th>6</th>\n",
       "      <td>Downing George C</td>\n",
       "      <td>Boston Police Department</td>\n",
       "      <td>Police Officer</td>\n",
       "      <td>417664.03</td>\n",
       "      <td>0.0</td>\n",
       "      <td>78599.22</td>\n",
       "      <td>29567.40</td>\n",
       "      <td>525830.65</td>\n",
       "    </tr>\n",
       "    <tr>\n",
       "      <th>7</th>\n",
       "      <td>Washington Walter</td>\n",
       "      <td>Boston Police Department</td>\n",
       "      <td>Police Officer</td>\n",
       "      <td>313154.27</td>\n",
       "      <td>0.0</td>\n",
       "      <td>99893.17</td>\n",
       "      <td>45337.30</td>\n",
       "      <td>458384.74</td>\n",
       "    </tr>\n",
       "    <tr>\n",
       "      <th>8</th>\n",
       "      <td>Dempsey John</td>\n",
       "      <td>Boston Fire Department</td>\n",
       "      <td>Commissioner (BFD)</td>\n",
       "      <td>133653.78</td>\n",
       "      <td>0.0</td>\n",
       "      <td>312752.53</td>\n",
       "      <td>0.00</td>\n",
       "      <td>446406.31</td>\n",
       "    </tr>\n",
       "    <tr>\n",
       "      <th>9</th>\n",
       "      <td>Washington Walter</td>\n",
       "      <td>Boston Police Department</td>\n",
       "      <td>Police Officer</td>\n",
       "      <td>100963.38</td>\n",
       "      <td>0.0</td>\n",
       "      <td>211900.28</td>\n",
       "      <td>67849.66</td>\n",
       "      <td>380713.32</td>\n",
       "    </tr>\n",
       "  </tbody>\n",
       "</table>\n",
       "</div>"
      ],
      "text/plain": [
       "                    name           department_name                job_title  \\\n",
       "0        Beckers Richard  Boston Police Department           Police Officer   \n",
       "1  McGowan Jacqueline M.  Boston Police Department           Police Officer   \n",
       "2         Gavin Donna M.  Boston Police Department  Police Lieutenant (Det)   \n",
       "3         Harris Shawn N  Boston Police Department           Police Officer   \n",
       "4      Williams David C.  Boston Police Department           Police Officer   \n",
       "5         Jones Ronnie C  Boston Police Department           Police Officer   \n",
       "6       Downing George C  Boston Police Department           Police Officer   \n",
       "7      Washington Walter  Boston Police Department           Police Officer   \n",
       "8           Dempsey John    Boston Fire Department       Commissioner (BFD)   \n",
       "9      Washington Walter  Boston Police Department           Police Officer   \n",
       "\n",
       "     regular  retro       other  overtime  total_earnings  \n",
       "0       0.00    0.0  1264843.63      0.00      1264843.63  \n",
       "1       0.00    0.0  1252990.81      0.00      1252990.81  \n",
       "2   53226.90    0.0  1045845.44    463.52      1099535.86  \n",
       "3  517789.82    0.0    83369.34  48199.74       649358.90  \n",
       "4   95184.68    0.0   503025.78  45176.88       643387.34  \n",
       "5  462149.98    0.0   114973.46      0.00       577123.44  \n",
       "6  417664.03    0.0    78599.22  29567.40       525830.65  \n",
       "7  313154.27    0.0    99893.17  45337.30       458384.74  \n",
       "8  133653.78    0.0   312752.53      0.00       446406.31  \n",
       "9  100963.38    0.0   211900.28  67849.66       380713.32  "
      ]
     },
     "execution_count": 21,
     "metadata": {},
     "output_type": "execute_result"
    }
   ],
   "source": [
    "%%bigquery\n",
    "SELECT\n",
    "name,\n",
    "department_name,\n",
    "job_title,\n",
    "regular,\n",
    "retro,\n",
    "other,\n",
    "overtime,\n",
    "ROUND((regular + IFNULL(retro, 0) + IFNULL(other, 0) + IFNULL(overtime, 0)), 2) AS total_earnings\n",
    "FROM `ba-775-b03.BA_775_Dataset.data_final`\n",
    "ORDER BY\n",
    "total_earnings DESC\n",
    "LIMIT 10;"
   ]
  },
  {
   "cell_type": "markdown",
   "metadata": {},
   "source": [
    "**Answer**:\n",
    "It is clear that within the Boston Police Department, there's a significant disparity in total earnings among the top earners, unrelated to standard salary components like regular or overtime pay. For instance, Richard Beckers and Jacqueline M. McGowan, both Police Officers, top the earnings list without any regular pay, solely through other types of compensation, amounting to over USD 1.25 million each. This suggests that non-standard earnings can significantly impact total compensation.\n",
    "\n",
    "The result point to a complex pay structure within Boston's public sector, where certain roles, especially within the police department, can accrue significant earnings beyond the base salary, possibly due to unique departmental needs or special compensatory mechanisms."
   ]
  },
  {
   "cell_type": "markdown",
   "metadata": {},
   "source": [
    "### **Question 2-3.** What are the salary scales for positions ranging from interns to executives in Boston's public sector?"
   ]
  },
  {
   "cell_type": "code",
   "execution_count": 22,
   "metadata": {
    "tags": []
   },
   "outputs": [
    {
     "data": {
      "application/vnd.jupyter.widget-view+json": {
       "model_id": "2de5d81603164bf0954cdb151fcbf61d",
       "version_major": 2,
       "version_minor": 0
      },
      "text/plain": [
       "Query is running:   0%|          |"
      ]
     },
     "metadata": {},
     "output_type": "display_data"
    },
    {
     "data": {
      "application/vnd.jupyter.widget-view+json": {
       "model_id": "fefa6ac2319845abb18bafc67a2651c4",
       "version_major": 2,
       "version_minor": 0
      },
      "text/plain": [
       "Downloading:   0%|          |"
      ]
     },
     "metadata": {},
     "output_type": "display_data"
    },
    {
     "data": {
      "text/html": [
       "<div>\n",
       "<style scoped>\n",
       "    .dataframe tbody tr th:only-of-type {\n",
       "        vertical-align: middle;\n",
       "    }\n",
       "\n",
       "    .dataframe tbody tr th {\n",
       "        vertical-align: top;\n",
       "    }\n",
       "\n",
       "    .dataframe thead th {\n",
       "        text-align: right;\n",
       "    }\n",
       "</style>\n",
       "<table border=\"1\" class=\"dataframe\">\n",
       "  <thead>\n",
       "    <tr style=\"text-align: right;\">\n",
       "      <th></th>\n",
       "      <th>name</th>\n",
       "      <th>year</th>\n",
       "      <th>department_name</th>\n",
       "      <th>job_title</th>\n",
       "      <th>total_earnings</th>\n",
       "    </tr>\n",
       "  </thead>\n",
       "  <tbody>\n",
       "    <tr>\n",
       "      <th>0</th>\n",
       "      <td>Beckers Richard</td>\n",
       "      <td>2021</td>\n",
       "      <td>Boston Police Department</td>\n",
       "      <td>Police Officer</td>\n",
       "      <td>1264843.63</td>\n",
       "    </tr>\n",
       "    <tr>\n",
       "      <th>1</th>\n",
       "      <td>Dempsey John</td>\n",
       "      <td>2022</td>\n",
       "      <td>Boston Fire Department</td>\n",
       "      <td>Commissioner (BFD)</td>\n",
       "      <td>446406.31</td>\n",
       "    </tr>\n",
       "    <tr>\n",
       "      <th>2</th>\n",
       "      <td>Cassellius Brenda</td>\n",
       "      <td>2020</td>\n",
       "      <td>Superintendent</td>\n",
       "      <td>Superintendent</td>\n",
       "      <td>311711.88</td>\n",
       "    </tr>\n",
       "    <tr>\n",
       "      <th>3</th>\n",
       "      <td>Barry Keith</td>\n",
       "      <td>2022</td>\n",
       "      <td>Inspectional Services Dept</td>\n",
       "      <td>Wire Inspector</td>\n",
       "      <td>310687.83</td>\n",
       "    </tr>\n",
       "    <tr>\n",
       "      <th>4</th>\n",
       "      <td>Taylor Albert L</td>\n",
       "      <td>2022</td>\n",
       "      <td>BPS Human Resource Team</td>\n",
       "      <td>Chief Human Capital Officer(F)</td>\n",
       "      <td>295130.48</td>\n",
       "    </tr>\n",
       "    <tr>\n",
       "      <th>...</th>\n",
       "      <td>...</td>\n",
       "      <td>...</td>\n",
       "      <td>...</td>\n",
       "      <td>...</td>\n",
       "      <td>...</td>\n",
       "    </tr>\n",
       "    <tr>\n",
       "      <th>254</th>\n",
       "      <td>Connolly Patrick J</td>\n",
       "      <td>2018</td>\n",
       "      <td>BPS MPH\\Commerce Academy</td>\n",
       "      <td>Teacher</td>\n",
       "      <td>9457.56</td>\n",
       "    </tr>\n",
       "    <tr>\n",
       "      <th>255</th>\n",
       "      <td>Penn Imani Monet</td>\n",
       "      <td>2021</td>\n",
       "      <td>BPS Development</td>\n",
       "      <td>Intern 3</td>\n",
       "      <td>4640.00</td>\n",
       "    </tr>\n",
       "    <tr>\n",
       "      <th>256</th>\n",
       "      <td>Brewington Glenn L</td>\n",
       "      <td>2018</td>\n",
       "      <td>HBI Retirees,et al</td>\n",
       "      <td>Retirees</td>\n",
       "      <td>3020.72</td>\n",
       "    </tr>\n",
       "    <tr>\n",
       "      <th>257</th>\n",
       "      <td>Hoskins Anthony</td>\n",
       "      <td>2019</td>\n",
       "      <td>BPS Facilitites Management</td>\n",
       "      <td>Jr. Custodian/Nights</td>\n",
       "      <td>1082.65</td>\n",
       "    </tr>\n",
       "    <tr>\n",
       "      <th>258</th>\n",
       "      <td>Devaney James J.</td>\n",
       "      <td>2019</td>\n",
       "      <td>Workers Compensation Service</td>\n",
       "      <td>Workers Comp Job Classificatn</td>\n",
       "      <td>665.18</td>\n",
       "    </tr>\n",
       "  </tbody>\n",
       "</table>\n",
       "<p>259 rows × 5 columns</p>\n",
       "</div>"
      ],
      "text/plain": [
       "                   name  year               department_name  \\\n",
       "0       Beckers Richard  2021      Boston Police Department   \n",
       "1          Dempsey John  2022        Boston Fire Department   \n",
       "2     Cassellius Brenda  2020                Superintendent   \n",
       "3           Barry Keith  2022    Inspectional Services Dept   \n",
       "4       Taylor Albert L  2022       BPS Human Resource Team   \n",
       "..                  ...   ...                           ...   \n",
       "254  Connolly Patrick J  2018      BPS MPH\\Commerce Academy   \n",
       "255    Penn Imani Monet  2021               BPS Development   \n",
       "256  Brewington Glenn L  2018            HBI Retirees,et al   \n",
       "257     Hoskins Anthony  2019    BPS Facilitites Management   \n",
       "258    Devaney James J.  2019  Workers Compensation Service   \n",
       "\n",
       "                          job_title  total_earnings  \n",
       "0                    Police Officer      1264843.63  \n",
       "1                Commissioner (BFD)       446406.31  \n",
       "2                    Superintendent       311711.88  \n",
       "3                    Wire Inspector       310687.83  \n",
       "4    Chief Human Capital Officer(F)       295130.48  \n",
       "..                              ...             ...  \n",
       "254                         Teacher         9457.56  \n",
       "255                        Intern 3         4640.00  \n",
       "256                        Retirees         3020.72  \n",
       "257            Jr. Custodian/Nights         1082.65  \n",
       "258   Workers Comp Job Classificatn          665.18  \n",
       "\n",
       "[259 rows x 5 columns]"
      ]
     },
     "execution_count": 22,
     "metadata": {},
     "output_type": "execute_result"
    }
   ],
   "source": [
    "%%bigquery\n",
    "WITH RankedEarnings AS (\n",
    "  SELECT\n",
    "    name,\n",
    "    year,\n",
    "    department_name,\n",
    "    job_title,\n",
    "    ROUND(regular + IFNULL(retro, 0) + IFNULL(other, 0) + IFNULL(overtime, 0), 2) AS total_earnings,\n",
    "    DENSE_RANK() OVER (\n",
    "      PARTITION BY department_name \n",
    "      ORDER BY ROUND(regular + IFNULL(retro, 0) + IFNULL(other, 0) + IFNULL(overtime, 0), 2) DESC\n",
    "    ) AS rank\n",
    "  FROM\n",
    "    `ba-775-b03.BA_775_Dataset.data_final`\n",
    ")\n",
    "SELECT\n",
    "  name,\n",
    "  year,\n",
    "  department_name,\n",
    "  job_title,\n",
    "  total_earnings\n",
    "FROM\n",
    "  RankedEarnings\n",
    "WHERE\n",
    "  rank = 1\n",
    "ORDER BY\n",
    "  total_earnings DESC,\n",
    "  department_name,\n",
    "  name,\n",
    "  year;"
   ]
  },
  {
   "cell_type": "markdown",
   "metadata": {},
   "source": [
    "**Answer**: \n",
    "The data from Boston's public sectors display substantial variation in compensation. Boston’s public departments reveal significant differences in pay. A police officer notably earns an USD 1.26 million, while the Fire Department’s commissioner earns USD 446,406, indicating varied compensation structures. High salaries for education leaders reflect the city's emphasis on educational roles. The diversity in pay across roles suggests that salary decisions are influenced by the unique demands of each position and may prompt a reevaluation of salary standards in relation to job responsibilities and sector benchmarks."
   ]
  },
  {
   "cell_type": "markdown",
   "metadata": {
    "tags": []
   },
   "source": [
    "## **Section 3: Budgeting Analysis**"
   ]
  },
  {
   "cell_type": "markdown",
   "metadata": {},
   "source": [
    "### **Question 3-1.** What is the average total spending for each department on their employees over the years 2018 to 2022, and how does this average vary among different departments? Additionally, which departments, on average, have the highest total spending, and what insights can this information provide with respect to resource allocation?"
   ]
  },
  {
   "cell_type": "code",
   "execution_count": 23,
   "metadata": {
    "tags": []
   },
   "outputs": [
    {
     "data": {
      "application/vnd.jupyter.widget-view+json": {
       "model_id": "329d4b4192f54f0bafc530dc8acbbf47",
       "version_major": 2,
       "version_minor": 0
      },
      "text/plain": [
       "Query is running:   0%|          |"
      ]
     },
     "metadata": {},
     "output_type": "display_data"
    },
    {
     "data": {
      "application/vnd.jupyter.widget-view+json": {
       "model_id": "ae2fedc8bc644595958492dcd22174fa",
       "version_major": 2,
       "version_minor": 0
      },
      "text/plain": [
       "Downloading:   0%|          |"
      ]
     },
     "metadata": {},
     "output_type": "display_data"
    },
    {
     "data": {
      "text/html": [
       "<div>\n",
       "<style scoped>\n",
       "    .dataframe tbody tr th:only-of-type {\n",
       "        vertical-align: middle;\n",
       "    }\n",
       "\n",
       "    .dataframe tbody tr th {\n",
       "        vertical-align: top;\n",
       "    }\n",
       "\n",
       "    .dataframe thead th {\n",
       "        text-align: right;\n",
       "    }\n",
       "</style>\n",
       "<table border=\"1\" class=\"dataframe\">\n",
       "  <thead>\n",
       "    <tr style=\"text-align: right;\">\n",
       "      <th></th>\n",
       "      <th>department_name</th>\n",
       "      <th>avg_earnings_2018</th>\n",
       "      <th>avg_earnings_2019</th>\n",
       "      <th>avg_earnings_2020</th>\n",
       "      <th>avg_earnings_2021</th>\n",
       "      <th>avg_earnings_2022</th>\n",
       "      <th>avg_earnings_all_years</th>\n",
       "    </tr>\n",
       "  </thead>\n",
       "  <tbody>\n",
       "    <tr>\n",
       "      <th>0</th>\n",
       "      <td>Boston Fire Department</td>\n",
       "      <td>130347.577443</td>\n",
       "      <td>150734.728545</td>\n",
       "      <td>156401.301770</td>\n",
       "      <td>159603.691628</td>\n",
       "      <td>157138.421556</td>\n",
       "      <td>150899.904499</td>\n",
       "    </tr>\n",
       "    <tr>\n",
       "      <th>1</th>\n",
       "      <td>Fenway High School</td>\n",
       "      <td>NaN</td>\n",
       "      <td>139982.850000</td>\n",
       "      <td>NaN</td>\n",
       "      <td>NaN</td>\n",
       "      <td>NaN</td>\n",
       "      <td>139982.850000</td>\n",
       "    </tr>\n",
       "    <tr>\n",
       "      <th>2</th>\n",
       "      <td>Boston Police Department</td>\n",
       "      <td>131415.778595</td>\n",
       "      <td>127514.214158</td>\n",
       "      <td>132674.478503</td>\n",
       "      <td>132172.875149</td>\n",
       "      <td>133709.851087</td>\n",
       "      <td>131450.006114</td>\n",
       "    </tr>\n",
       "    <tr>\n",
       "      <th>3</th>\n",
       "      <td>School Support &amp; Tranformation</td>\n",
       "      <td>113345.901333</td>\n",
       "      <td>121749.805000</td>\n",
       "      <td>129880.208636</td>\n",
       "      <td>138924.520345</td>\n",
       "      <td>138156.887241</td>\n",
       "      <td>131344.968131</td>\n",
       "    </tr>\n",
       "    <tr>\n",
       "      <th>4</th>\n",
       "      <td>Office of People Operations</td>\n",
       "      <td>NaN</td>\n",
       "      <td>NaN</td>\n",
       "      <td>NaN</td>\n",
       "      <td>NaN</td>\n",
       "      <td>130983.397500</td>\n",
       "      <td>130983.397500</td>\n",
       "    </tr>\n",
       "    <tr>\n",
       "      <th>...</th>\n",
       "      <td>...</td>\n",
       "      <td>...</td>\n",
       "      <td>...</td>\n",
       "      <td>...</td>\n",
       "      <td>...</td>\n",
       "      <td>...</td>\n",
       "      <td>...</td>\n",
       "    </tr>\n",
       "    <tr>\n",
       "      <th>252</th>\n",
       "      <td>BPS Mattahunt Elementary</td>\n",
       "      <td>4930.105714</td>\n",
       "      <td>9831.450000</td>\n",
       "      <td>15327.115000</td>\n",
       "      <td>NaN</td>\n",
       "      <td>NaN</td>\n",
       "      <td>7499.642000</td>\n",
       "    </tr>\n",
       "    <tr>\n",
       "      <th>253</th>\n",
       "      <td>BPS MPH\\Commerce Academy</td>\n",
       "      <td>9457.560000</td>\n",
       "      <td>278.160000</td>\n",
       "      <td>NaN</td>\n",
       "      <td>NaN</td>\n",
       "      <td>NaN</td>\n",
       "      <td>4867.860000</td>\n",
       "    </tr>\n",
       "    <tr>\n",
       "      <th>254</th>\n",
       "      <td>BPS Development</td>\n",
       "      <td>NaN</td>\n",
       "      <td>NaN</td>\n",
       "      <td>NaN</td>\n",
       "      <td>4640.000000</td>\n",
       "      <td>NaN</td>\n",
       "      <td>4640.000000</td>\n",
       "    </tr>\n",
       "    <tr>\n",
       "      <th>255</th>\n",
       "      <td>HBI Retirees,et al</td>\n",
       "      <td>3020.720000</td>\n",
       "      <td>NaN</td>\n",
       "      <td>NaN</td>\n",
       "      <td>NaN</td>\n",
       "      <td>2114.010000</td>\n",
       "      <td>2567.365000</td>\n",
       "    </tr>\n",
       "    <tr>\n",
       "      <th>256</th>\n",
       "      <td>BPS Facilitites Management</td>\n",
       "      <td>NaN</td>\n",
       "      <td>1082.650000</td>\n",
       "      <td>NaN</td>\n",
       "      <td>NaN</td>\n",
       "      <td>NaN</td>\n",
       "      <td>1082.650000</td>\n",
       "    </tr>\n",
       "  </tbody>\n",
       "</table>\n",
       "<p>257 rows × 7 columns</p>\n",
       "</div>"
      ],
      "text/plain": [
       "                    department_name  avg_earnings_2018  avg_earnings_2019  \\\n",
       "0            Boston Fire Department      130347.577443      150734.728545   \n",
       "1                Fenway High School                NaN      139982.850000   \n",
       "2          Boston Police Department      131415.778595      127514.214158   \n",
       "3    School Support & Tranformation      113345.901333      121749.805000   \n",
       "4       Office of People Operations                NaN                NaN   \n",
       "..                              ...                ...                ...   \n",
       "252        BPS Mattahunt Elementary        4930.105714        9831.450000   \n",
       "253        BPS MPH\\Commerce Academy        9457.560000         278.160000   \n",
       "254                 BPS Development                NaN                NaN   \n",
       "255              HBI Retirees,et al        3020.720000                NaN   \n",
       "256      BPS Facilitites Management                NaN        1082.650000   \n",
       "\n",
       "     avg_earnings_2020  avg_earnings_2021  avg_earnings_2022  \\\n",
       "0        156401.301770      159603.691628      157138.421556   \n",
       "1                  NaN                NaN                NaN   \n",
       "2        132674.478503      132172.875149      133709.851087   \n",
       "3        129880.208636      138924.520345      138156.887241   \n",
       "4                  NaN                NaN      130983.397500   \n",
       "..                 ...                ...                ...   \n",
       "252       15327.115000                NaN                NaN   \n",
       "253                NaN                NaN                NaN   \n",
       "254                NaN        4640.000000                NaN   \n",
       "255                NaN                NaN        2114.010000   \n",
       "256                NaN                NaN                NaN   \n",
       "\n",
       "     avg_earnings_all_years  \n",
       "0             150899.904499  \n",
       "1             139982.850000  \n",
       "2             131450.006114  \n",
       "3             131344.968131  \n",
       "4             130983.397500  \n",
       "..                      ...  \n",
       "252             7499.642000  \n",
       "253             4867.860000  \n",
       "254             4640.000000  \n",
       "255             2567.365000  \n",
       "256             1082.650000  \n",
       "\n",
       "[257 rows x 7 columns]"
      ]
     },
     "execution_count": 23,
     "metadata": {},
     "output_type": "execute_result"
    }
   ],
   "source": [
    "%%bigquery\n",
    "SELECT\n",
    " department_name,\n",
    " AVG(CASE WHEN year = 2018 THEN total_earnings END) AS avg_earnings_2018,\n",
    " AVG(CASE WHEN year = 2019 THEN total_earnings END) AS avg_earnings_2019,\n",
    " AVG(CASE WHEN year = 2020 THEN total_earnings END) AS avg_earnings_2020,\n",
    " AVG(CASE WHEN year = 2021 THEN total_earnings END) AS avg_earnings_2021,\n",
    " AVG(CASE WHEN year = 2022 THEN total_earnings END) AS avg_earnings_2022,\n",
    " AVG(total_earnings) AS avg_earnings_all_years\n",
    "FROM\n",
    " ba-775-b03.BA_775_Dataset.data_final\n",
    "WHERE\n",
    " year BETWEEN 2018 AND 2022\n",
    "GROUP BY\n",
    " department_name\n",
    "ORDER BY\n",
    " avg_earnings_all_years DESC;"
   ]
  },
  {
   "cell_type": "markdown",
   "metadata": {},
   "source": [
    "**Answer:**\n",
    "The analysis of average total spending on employees from 2018 to 2022 reveals significant insights into the financial landscape of various departments within the Boston area. Notably, the Boston Fire Department emerges as the top spender, they focus on strategic allocation of resources to maintain operational excellence. Fenway High School and the Boston Police Department also stand out, which shows the importance of robust financial support for educational and law enforcement initiatives.\n",
    "\n",
    "The insights derived from this analysis provide valuable guidance for future budgeting exercises. Departments consistently exhibiting higher average spending may warrant ongoing financial support, while those with lower spending could be assessed for optimization or potential investment opportunities. Moreover, identifying departments with similar spending patterns opens up opportunities for collaboration and knowledge sharing. This collaborative approach can lead to increased efficiencies, improved resource utilization, and a more cohesive budgeting strategy. Overall, the analysis offers a holistic understanding of departmental spending, empowering the the different public departments of Boston to make informed decisions to enhance overall efficiency and success.\n"
   ]
  },
  {
   "cell_type": "markdown",
   "metadata": {
    "tags": []
   },
   "source": [
    "### **Question 3-2.** Which department in Boston consistently allocates the highest amount of financial resources towards compensating its employees in terms of annual earnings over the course of each specific year? Is there any relation between the compensation provided to the employees and the budget allocation to the department?\n"
   ]
  },
  {
   "cell_type": "code",
   "execution_count": 24,
   "metadata": {
    "tags": []
   },
   "outputs": [
    {
     "data": {
      "application/vnd.jupyter.widget-view+json": {
       "model_id": "57f71e7b6bc84f53af1de6f6b401570a",
       "version_major": 2,
       "version_minor": 0
      },
      "text/plain": [
       "Query is running:   0%|          |"
      ]
     },
     "metadata": {},
     "output_type": "display_data"
    },
    {
     "data": {
      "application/vnd.jupyter.widget-view+json": {
       "model_id": "3db3b3ff111b47ecaedc5113c8535d73",
       "version_major": 2,
       "version_minor": 0
      },
      "text/plain": [
       "Downloading:   0%|          |"
      ]
     },
     "metadata": {},
     "output_type": "display_data"
    },
    {
     "data": {
      "text/html": [
       "<div>\n",
       "<style scoped>\n",
       "    .dataframe tbody tr th:only-of-type {\n",
       "        vertical-align: middle;\n",
       "    }\n",
       "\n",
       "    .dataframe tbody tr th {\n",
       "        vertical-align: top;\n",
       "    }\n",
       "\n",
       "    .dataframe thead th {\n",
       "        text-align: right;\n",
       "    }\n",
       "</style>\n",
       "<table border=\"1\" class=\"dataframe\">\n",
       "  <thead>\n",
       "    <tr style=\"text-align: right;\">\n",
       "      <th></th>\n",
       "      <th>department_name</th>\n",
       "      <th>year</th>\n",
       "      <th>total_earnings_sum_MM</th>\n",
       "    </tr>\n",
       "  </thead>\n",
       "  <tbody>\n",
       "    <tr>\n",
       "      <th>0</th>\n",
       "      <td>Boston Police Department</td>\n",
       "      <td>2020</td>\n",
       "      <td>41.129088</td>\n",
       "    </tr>\n",
       "    <tr>\n",
       "      <th>1</th>\n",
       "      <td>Boston Police Department</td>\n",
       "      <td>2022</td>\n",
       "      <td>40.086213</td>\n",
       "    </tr>\n",
       "    <tr>\n",
       "      <th>2</th>\n",
       "      <td>Boston Police Department</td>\n",
       "      <td>2021</td>\n",
       "      <td>40.405248</td>\n",
       "    </tr>\n",
       "    <tr>\n",
       "      <th>3</th>\n",
       "      <td>Boston Police Department</td>\n",
       "      <td>2018</td>\n",
       "      <td>41.251413</td>\n",
       "    </tr>\n",
       "    <tr>\n",
       "      <th>4</th>\n",
       "      <td>Boston Police Department</td>\n",
       "      <td>2019</td>\n",
       "      <td>41.059577</td>\n",
       "    </tr>\n",
       "  </tbody>\n",
       "</table>\n",
       "</div>"
      ],
      "text/plain": [
       "            department_name  year  total_earnings_sum_MM\n",
       "0  Boston Police Department  2020              41.129088\n",
       "1  Boston Police Department  2022              40.086213\n",
       "2  Boston Police Department  2021              40.405248\n",
       "3  Boston Police Department  2018              41.251413\n",
       "4  Boston Police Department  2019              41.059577"
      ]
     },
     "execution_count": 24,
     "metadata": {},
     "output_type": "execute_result"
    }
   ],
   "source": [
    "%%bigquery\n",
    "WITH DepartmentTotalEarnings AS (\n",
    " SELECT\n",
    "   department_name,\n",
    "   year,\n",
    "   SUM(total_earnings)/10000000 AS total_earnings_sum_MM\n",
    "FROM \n",
    "    `ba-775-b03.BA_775_Dataset.data_final`\n",
    " WHERE\n",
    "   year IN (2018, 2019, 2020, 2021,2022)\n",
    "GROUP BY\n",
    "   department_name,\n",
    "year\n",
    ")\n",
    "SELECT\n",
    " d.department_name,\n",
    " d.year,\n",
    " d.total_earnings_sum_MM\n",
    "FROM\n",
    " DepartmentTotalEarnings d\n",
    "JOIN ( SELECT\n",
    "year,\n",
    "   MAX(total_earnings_sum_MM) AS max_earnings\n",
    " FROM\n",
    "   DepartmentTotalEarnings\n",
    "GROUP BY\n",
    "   year\n",
    ") max_earnings_per_year\n",
    "ON d.year = max_earnings_per_year.year\n",
    "AND d.total_earnings_sum_MM = max_earnings_per_year.max_earnings;"
   ]
  },
  {
   "cell_type": "markdown",
   "metadata": {},
   "source": [
    "**Answer**: \n",
    "Over the past five years, from 2018 to 2022, the Boston Police Department has consistently paid its employees the most. This makes sense because police officers have big responsibilities like keeping people safe, responding to emergencies, and making sure laws are followed. Their job can be tough, risky, and needs special skills. The fact that this department consistently gives high salaries also shows that Boston cares a lot about public safety and puts more money into the police department's budget to make sure it can afford to pay its employees well.\n",
    "\n",
    "This idea is backed up in an article by ACLU Massachusetts that says the Boston Police Department's $395 million makes up almost 10% of the entire budget for the City and the Boston Police Department's budget is the second-largest expense in the city's budget, right after the money allocated for Boston Public Schools. The city actually spends even more on policing than what you see in the budget. Other things like benefits for city employees, overtime pay, and money from outside sources all add up to make the police department's resources even bigger. One interesting detail is that younger police officers are taking the place of older ones. This might be why we see less spending from 2020 to 2022. Understanding these changes in the people working for the department helps explain why the budget is changing over time."
   ]
  },
  {
   "cell_type": "markdown",
   "metadata": {},
   "source": [
    "### **Question 3-3.** As we saw that the Police department has consistently been the only department with the highest spend on earnings, let’s take a closer look at the top 3  job titles that earned the highest total earnings in the past 5 years.\n"
   ]
  },
  {
   "cell_type": "code",
   "execution_count": 25,
   "metadata": {
    "tags": []
   },
   "outputs": [
    {
     "data": {
      "application/vnd.jupyter.widget-view+json": {
       "model_id": "5a6b992e463f4d1db0d1c0668a16f075",
       "version_major": 2,
       "version_minor": 0
      },
      "text/plain": [
       "Query is running:   0%|          |"
      ]
     },
     "metadata": {},
     "output_type": "display_data"
    },
    {
     "data": {
      "application/vnd.jupyter.widget-view+json": {
       "model_id": "212edde9e08e4c5c8690e49283cf4eed",
       "version_major": 2,
       "version_minor": 0
      },
      "text/plain": [
       "Downloading:   0%|          |"
      ]
     },
     "metadata": {},
     "output_type": "display_data"
    },
    {
     "data": {
      "text/html": [
       "<div>\n",
       "<style scoped>\n",
       "    .dataframe tbody tr th:only-of-type {\n",
       "        vertical-align: middle;\n",
       "    }\n",
       "\n",
       "    .dataframe tbody tr th {\n",
       "        vertical-align: top;\n",
       "    }\n",
       "\n",
       "    .dataframe thead th {\n",
       "        text-align: right;\n",
       "    }\n",
       "</style>\n",
       "<table border=\"1\" class=\"dataframe\">\n",
       "  <thead>\n",
       "    <tr style=\"text-align: right;\">\n",
       "      <th></th>\n",
       "      <th>job_title</th>\n",
       "      <th>department_name</th>\n",
       "      <th>total_earnings_in_millions</th>\n",
       "    </tr>\n",
       "  </thead>\n",
       "  <tbody>\n",
       "    <tr>\n",
       "      <th>0</th>\n",
       "      <td>Police Officer</td>\n",
       "      <td>Boston Police Department</td>\n",
       "      <td>696.67158547000008</td>\n",
       "    </tr>\n",
       "    <tr>\n",
       "      <th>1</th>\n",
       "      <td>Fire Fighter</td>\n",
       "      <td>Boston Fire Department</td>\n",
       "      <td>464.88350213999996</td>\n",
       "    </tr>\n",
       "    <tr>\n",
       "      <th>2</th>\n",
       "      <td>Police Detective</td>\n",
       "      <td>Boston Police Department</td>\n",
       "      <td>202.94132968</td>\n",
       "    </tr>\n",
       "  </tbody>\n",
       "</table>\n",
       "</div>"
      ],
      "text/plain": [
       "          job_title           department_name total_earnings_in_millions\n",
       "0    Police Officer  Boston Police Department         696.67158547000008\n",
       "1      Fire Fighter    Boston Fire Department         464.88350213999996\n",
       "2  Police Detective  Boston Police Department               202.94132968"
      ]
     },
     "execution_count": 25,
     "metadata": {},
     "output_type": "execute_result"
    }
   ],
   "source": [
    "%%bigquery\n",
    "WITH JobTitleTotalEarnings AS (\n",
    " SELECT\n",
    "   job_title,\n",
    "   department_name,\n",
    "   ROUND(SUM(total_earnings),2) AS total_earnings_sum\n",
    "FROM \n",
    "    `ba-775-b03.BA_775_Dataset.data_final`\n",
    " WHERE\n",
    "   year BETWEEN EXTRACT(YEAR FROM CURRENT_DATE()) - 4 AND EXTRACT(YEAR FROM\n",
    "CURRENT_DATE())\n",
    " GROUP BY\n",
    "   job_title, department_name\n",
    ")\n",
    "SELECT\n",
    " job_title,\n",
    " department_name,\n",
    " FORMAT('%t', total_earnings_sum / 1000000) AS total_earnings_in_millions\n",
    "FROM\n",
    " JobTitleTotalEarnings\n",
    "ORDER BY\n",
    " total_earnings_sum DESC\n",
    "LIMIT 3;"
   ]
  },
  {
   "cell_type": "markdown",
   "metadata": {},
   "source": [
    "**Answer**: \n",
    "In Boston, the people who earn the most money in their jobs are Police Officers and Police Detectives from the Boston Police Department, and Firefighters from the Boston Fire Department. These jobs, like being a police officer, detective, or firefighter, often require working long hours in tough and sometimes dangerous situations. Also, these workers might face difficult and upsetting events regularly.To do these jobs well, people need special skills and training, like knowing how to use guns, operate firefighting equipment, and do investigations. The fact that these jobs pay the most money shows that the city recognizes how important and challenging these roles are, especially when it comes to keeping the public safe.\n",
    "\n",
    "What's interesting is that these higher salaries are in line with Boston's focus on public safety. Even though these jobs can be tough, Boston has a lower crime rate than the rest of the country. This connection suggests that Boston is careful about how it spends its money, choosing to invest more in the people who play a crucial role in keeping the community safe. The city seems to be smart and effective in how it uses its resources to make sure everyone stays secure and well.\n"
   ]
  },
  {
   "cell_type": "markdown",
   "metadata": {},
   "source": [
    "### **Question 3-4.** Which Non-Regular Income Components significantly impact the gross earnings of the top 3 highest-paying departments in Boston, and more specifically what does the highest “Non-Regular Income Component” mean for these departments and the employees?"
   ]
  },
  {
   "cell_type": "code",
   "execution_count": 26,
   "metadata": {
    "tags": []
   },
   "outputs": [
    {
     "data": {
      "application/vnd.jupyter.widget-view+json": {
       "model_id": "afa4a571498f4eb2afadffc83d3b5912",
       "version_major": 2,
       "version_minor": 0
      },
      "text/plain": [
       "Query is running:   0%|          |"
      ]
     },
     "metadata": {},
     "output_type": "display_data"
    },
    {
     "data": {
      "application/vnd.jupyter.widget-view+json": {
       "model_id": "bde66a5f49434a899b19b39e93047a2a",
       "version_major": 2,
       "version_minor": 0
      },
      "text/plain": [
       "Downloading:   0%|          |"
      ]
     },
     "metadata": {},
     "output_type": "display_data"
    },
    {
     "data": {
      "text/html": [
       "<div>\n",
       "<style scoped>\n",
       "    .dataframe tbody tr th:only-of-type {\n",
       "        vertical-align: middle;\n",
       "    }\n",
       "\n",
       "    .dataframe tbody tr th {\n",
       "        vertical-align: top;\n",
       "    }\n",
       "\n",
       "    .dataframe thead th {\n",
       "        text-align: right;\n",
       "    }\n",
       "</style>\n",
       "<table border=\"1\" class=\"dataframe\">\n",
       "  <thead>\n",
       "    <tr style=\"text-align: right;\">\n",
       "      <th></th>\n",
       "      <th>department_name</th>\n",
       "      <th>regular_percentage</th>\n",
       "      <th>retro_percentage</th>\n",
       "      <th>other_percentage</th>\n",
       "      <th>overtime_percentage</th>\n",
       "      <th>injured_percentage</th>\n",
       "      <th>detail_percentage</th>\n",
       "      <th>education_percentage</th>\n",
       "    </tr>\n",
       "  </thead>\n",
       "  <tbody>\n",
       "    <tr>\n",
       "      <th>0</th>\n",
       "      <td>Boston Police Department</td>\n",
       "      <td>58.065400</td>\n",
       "      <td>0.446904</td>\n",
       "      <td>4.185682</td>\n",
       "      <td>18.657694</td>\n",
       "      <td>5.227077</td>\n",
       "      <td>6.636647</td>\n",
       "      <td>6.781138</td>\n",
       "    </tr>\n",
       "    <tr>\n",
       "      <th>1</th>\n",
       "      <td>Boston Fire Department</td>\n",
       "      <td>73.410363</td>\n",
       "      <td>1.379666</td>\n",
       "      <td>3.209414</td>\n",
       "      <td>13.157447</td>\n",
       "      <td>5.603053</td>\n",
       "      <td>3.238120</td>\n",
       "      <td>0.002564</td>\n",
       "    </tr>\n",
       "    <tr>\n",
       "      <th>2</th>\n",
       "      <td>BPS Special Education</td>\n",
       "      <td>96.748382</td>\n",
       "      <td>1.025152</td>\n",
       "      <td>2.134010</td>\n",
       "      <td>0.039559</td>\n",
       "      <td>0.052897</td>\n",
       "      <td>0.000000</td>\n",
       "      <td>0.000000</td>\n",
       "    </tr>\n",
       "  </tbody>\n",
       "</table>\n",
       "</div>"
      ],
      "text/plain": [
       "            department_name  regular_percentage  retro_percentage  \\\n",
       "0  Boston Police Department           58.065400          0.446904   \n",
       "1    Boston Fire Department           73.410363          1.379666   \n",
       "2     BPS Special Education           96.748382          1.025152   \n",
       "\n",
       "   other_percentage  overtime_percentage  injured_percentage  \\\n",
       "0          4.185682            18.657694            5.227077   \n",
       "1          3.209414            13.157447            5.603053   \n",
       "2          2.134010             0.039559            0.052897   \n",
       "\n",
       "   detail_percentage  education_percentage  \n",
       "0           6.636647              6.781138  \n",
       "1           3.238120              0.002564  \n",
       "2           0.000000              0.000000  "
      ]
     },
     "execution_count": 26,
     "metadata": {},
     "output_type": "execute_result"
    }
   ],
   "source": [
    "%%bigquery\n",
    "SELECT\n",
    " department_name,\n",
    " SUM(regular) / SUM(total_earnings) * 100 AS regular_percentage,\n",
    " SUM(retro) / SUM(total_earnings) * 100 AS retro_percentage,\n",
    " SUM(other) / SUM(total_earnings) * 100 AS other_percentage,\n",
    " SUM(overtime) / SUM(total_earnings) * 100 AS overtime_percentage,\n",
    " SUM(injured) / SUM(total_earnings) * 100 AS injured_percentage,\n",
    " SUM(detail) / SUM(total_earnings) * 100 AS detail_percentage,\n",
    " SUM(education) / SUM(total_earnings) * 100 AS education_percentage,\n",
    "FROM \n",
    "    `ba-775-b03.BA_775_Dataset.data_final`\n",
    "GROUP BY\n",
    " department_name\n",
    "ORDER BY\n",
    " SUM(total_earnings) DESC\n",
    "LIMIT 3;"
   ]
  },
  {
   "cell_type": "markdown",
   "metadata": {},
   "source": [
    "**Answer**: \n",
    "In Boston, the top three job titles earning the highest total earnings in millions are Police Officer and Police Detective from the Boston Police Department, as well as Fire Fighter from the Boston Fire Department. These roles, including police officers, detectives, and firefighters, often find themselves working extended hours in challenging and potentially hazardous situations. Moreover, their responsibilities may expose them to traumatic events regularly.The nature of these positions demands specialized skills and training, encompassing abilities such as handling firearms, operating fire fighting equipment, and conducting investigations. The fact that these roles command the highest earnings underscores the recognition of the unique expertise and demands associated with public safety duties.\n",
    "\n",
    "A notable observation is that these elevated salaries align with the prioritization of public safety in Boston. Despite the demanding nature of these roles, Boston boasts a crime rate lower than the national average. This correlation supports the notion that the city allocates its resources judiciously, investing in the compensation of those in key positions responsible for maintaining public safety. The emphasis on specialized skills and training, coupled with the lower crime rate, suggests that these departments are strategic and effective in their resource allocation to ensure the safety and well-being of the community.\n"
   ]
  },
  {
   "cell_type": "markdown",
   "metadata": {
    "tags": []
   },
   "source": [
    "## **Section 4: COVID-19’s Impact analysis**"
   ]
  },
  {
   "cell_type": "markdown",
   "metadata": {
    "tags": []
   },
   "source": [
    "In accordance with what is indicated in section 1 (Year-wise breakdown), it has been validated that in 2020 the lowest levels of hired workers were recorded. In this section we will analyze the previous (2018) and subsequent (2022) impact of COVID19 on workers in the government sector of Boston, for this, we will do an analysis at the Departmental and County level."
   ]
  },
  {
   "cell_type": "markdown",
   "metadata": {
    "tags": []
   },
   "source": [
    "### **Question 4-1.** Which department experienced the most significant workforce reductions between 2018 and 2020, before the emergence of the COVID-19 pandemic?"
   ]
  },
  {
   "cell_type": "code",
   "execution_count": 27,
   "metadata": {
    "tags": []
   },
   "outputs": [
    {
     "data": {
      "application/vnd.jupyter.widget-view+json": {
       "model_id": "f7f05f40e7d8423fba580ac32ba7dfe5",
       "version_major": 2,
       "version_minor": 0
      },
      "text/plain": [
       "Query is running:   0%|          |"
      ]
     },
     "metadata": {},
     "output_type": "display_data"
    },
    {
     "data": {
      "application/vnd.jupyter.widget-view+json": {
       "model_id": "f1bccf67b32c434abb7afcc281518823",
       "version_major": 2,
       "version_minor": 0
      },
      "text/plain": [
       "Downloading:   0%|          |"
      ]
     },
     "metadata": {},
     "output_type": "display_data"
    },
    {
     "data": {
      "text/html": [
       "<div>\n",
       "<style scoped>\n",
       "    .dataframe tbody tr th:only-of-type {\n",
       "        vertical-align: middle;\n",
       "    }\n",
       "\n",
       "    .dataframe tbody tr th {\n",
       "        vertical-align: top;\n",
       "    }\n",
       "\n",
       "    .dataframe thead th {\n",
       "        text-align: right;\n",
       "    }\n",
       "</style>\n",
       "<table border=\"1\" class=\"dataframe\">\n",
       "  <thead>\n",
       "    <tr style=\"text-align: right;\">\n",
       "      <th></th>\n",
       "      <th>rank_var_2020_2018</th>\n",
       "      <th>department_name</th>\n",
       "      <th>w_var_2020_2018</th>\n",
       "    </tr>\n",
       "  </thead>\n",
       "  <tbody>\n",
       "    <tr>\n",
       "      <th>0</th>\n",
       "      <td>1</td>\n",
       "      <td>BPS Substitute Teachers/Nurs</td>\n",
       "      <td>-273</td>\n",
       "    </tr>\n",
       "    <tr>\n",
       "      <th>1</th>\n",
       "      <td>2</td>\n",
       "      <td>Boston Cntr - Youth &amp; Families</td>\n",
       "      <td>-178</td>\n",
       "    </tr>\n",
       "    <tr>\n",
       "      <th>2</th>\n",
       "      <td>3</td>\n",
       "      <td>BPS Facility Management</td>\n",
       "      <td>-102</td>\n",
       "    </tr>\n",
       "    <tr>\n",
       "      <th>3</th>\n",
       "      <td>4</td>\n",
       "      <td>Parks Department</td>\n",
       "      <td>-55</td>\n",
       "    </tr>\n",
       "    <tr>\n",
       "      <th>4</th>\n",
       "      <td>5</td>\n",
       "      <td>Workers Compensation Service</td>\n",
       "      <td>-43</td>\n",
       "    </tr>\n",
       "    <tr>\n",
       "      <th>...</th>\n",
       "      <td>...</td>\n",
       "      <td>...</td>\n",
       "      <td>...</td>\n",
       "    </tr>\n",
       "    <tr>\n",
       "      <th>213</th>\n",
       "      <td>214</td>\n",
       "      <td>Neighborhood Services</td>\n",
       "      <td>10</td>\n",
       "    </tr>\n",
       "    <tr>\n",
       "      <th>214</th>\n",
       "      <td>214</td>\n",
       "      <td>BPS Lee Elementary</td>\n",
       "      <td>10</td>\n",
       "    </tr>\n",
       "    <tr>\n",
       "      <th>215</th>\n",
       "      <td>216</td>\n",
       "      <td>Perry K-8</td>\n",
       "      <td>11</td>\n",
       "    </tr>\n",
       "    <tr>\n",
       "      <th>216</th>\n",
       "      <td>217</td>\n",
       "      <td>Teaching &amp; Learning</td>\n",
       "      <td>17</td>\n",
       "    </tr>\n",
       "    <tr>\n",
       "      <th>217</th>\n",
       "      <td>218</td>\n",
       "      <td>Boston Police Department</td>\n",
       "      <td>27</td>\n",
       "    </tr>\n",
       "  </tbody>\n",
       "</table>\n",
       "<p>218 rows × 3 columns</p>\n",
       "</div>"
      ],
      "text/plain": [
       "     rank_var_2020_2018                 department_name  w_var_2020_2018\n",
       "0                     1    BPS Substitute Teachers/Nurs             -273\n",
       "1                     2  Boston Cntr - Youth & Families             -178\n",
       "2                     3         BPS Facility Management             -102\n",
       "3                     4                Parks Department              -55\n",
       "4                     5    Workers Compensation Service              -43\n",
       "..                  ...                             ...              ...\n",
       "213                 214           Neighborhood Services               10\n",
       "214                 214              BPS Lee Elementary               10\n",
       "215                 216                       Perry K-8               11\n",
       "216                 217             Teaching & Learning               17\n",
       "217                 218        Boston Police Department               27\n",
       "\n",
       "[218 rows x 3 columns]"
      ]
     },
     "execution_count": 27,
     "metadata": {},
     "output_type": "execute_result"
    }
   ],
   "source": [
    "%%bigquery\n",
    "WITH sq1 AS (\n",
    "    SELECT *\n",
    "    FROM `ba-775-b03.BA_775_Dataset.data_final`\n",
    "    WHERE year IN (2018, 2020)\n",
    ")\n",
    "\n",
    ", sq2 AS (\n",
    "    SELECT year, department_name, county, COUNT(*) AS total_workers\n",
    "    FROM sq1\n",
    "    GROUP BY year, department_name, county\n",
    ")\n",
    "\n",
    ", sq3 AS (\n",
    "    SELECT\n",
    "        department_name,\n",
    "        MAX(CASE WHEN year = 2018 THEN total_workers END) AS total_workers_2018,\n",
    "        MAX(CASE WHEN year = 2020 THEN total_workers END) AS total_workers_2020\n",
    "    FROM sq2\n",
    "    GROUP BY department_name\n",
    ")\n",
    "SELECT\n",
    "    RANK() OVER (ORDER BY total_workers_2020 - total_workers_2018) AS rank_var_2020_2018,\n",
    "    department_name,\n",
    "    total_workers_2020 - total_workers_2018 AS w_var_2020_2018\n",
    "FROM sq3\n",
    "WHERE total_workers_2020 IS NOT NULL AND total_workers_2018 IS NOT NULL\n",
    "ORDER BY rank_var_2020_2018;"
   ]
  },
  {
   "cell_type": "markdown",
   "metadata": {
    "tags": []
   },
   "source": [
    "**Answer**: The analysis of workforce changes between 2018 and 2020 reveals that the department most profoundly affected by reductions was BPS Substitute Teachers/Nursing, witnessing a substantial decline of 273 workers. Following closely behind are Boston Center for Youth & Families (-178), BPS Facility Management (-102), Parks Department (-55), and Workers Compensation Service (-43). Notably, regarding the findings in the second section, it is intriguing to observe that BPS Substitute Teachers/Nursing did not rank among the top ten departments with the highest workforce numbers."
   ]
  },
  {
   "cell_type": "markdown",
   "metadata": {},
   "source": [
    "### **Question 4-2.** Which department witnessed the most substantial increase in workforce hiring between 2020 and 2022, following the onset of the COVID-19 pandemic?"
   ]
  },
  {
   "cell_type": "code",
   "execution_count": 28,
   "metadata": {
    "tags": []
   },
   "outputs": [
    {
     "data": {
      "application/vnd.jupyter.widget-view+json": {
       "model_id": "7ecebcb201ea4ec3bf85970ed198a7fa",
       "version_major": 2,
       "version_minor": 0
      },
      "text/plain": [
       "Query is running:   0%|          |"
      ]
     },
     "metadata": {},
     "output_type": "display_data"
    },
    {
     "data": {
      "application/vnd.jupyter.widget-view+json": {
       "model_id": "b5751aa975994c5ea00720249b3dfa27",
       "version_major": 2,
       "version_minor": 0
      },
      "text/plain": [
       "Downloading:   0%|          |"
      ]
     },
     "metadata": {},
     "output_type": "display_data"
    },
    {
     "data": {
      "text/html": [
       "<div>\n",
       "<style scoped>\n",
       "    .dataframe tbody tr th:only-of-type {\n",
       "        vertical-align: middle;\n",
       "    }\n",
       "\n",
       "    .dataframe tbody tr th {\n",
       "        vertical-align: top;\n",
       "    }\n",
       "\n",
       "    .dataframe thead th {\n",
       "        text-align: right;\n",
       "    }\n",
       "</style>\n",
       "<table border=\"1\" class=\"dataframe\">\n",
       "  <thead>\n",
       "    <tr style=\"text-align: right;\">\n",
       "      <th></th>\n",
       "      <th>rank_var_2022_2020</th>\n",
       "      <th>department_name</th>\n",
       "      <th>w_var_2022_2020</th>\n",
       "    </tr>\n",
       "  </thead>\n",
       "  <tbody>\n",
       "    <tr>\n",
       "      <th>0</th>\n",
       "      <td>1</td>\n",
       "      <td>Food &amp; Nutrition Svc</td>\n",
       "      <td>428</td>\n",
       "    </tr>\n",
       "    <tr>\n",
       "      <th>1</th>\n",
       "      <td>2</td>\n",
       "      <td>Boston Fire Department</td>\n",
       "      <td>87</td>\n",
       "    </tr>\n",
       "    <tr>\n",
       "      <th>2</th>\n",
       "      <td>3</td>\n",
       "      <td>BPS Special Education</td>\n",
       "      <td>42</td>\n",
       "    </tr>\n",
       "    <tr>\n",
       "      <th>3</th>\n",
       "      <td>4</td>\n",
       "      <td>BPS Athletics</td>\n",
       "      <td>34</td>\n",
       "    </tr>\n",
       "    <tr>\n",
       "      <th>4</th>\n",
       "      <td>5</td>\n",
       "      <td>Health &amp; Human Servs</td>\n",
       "      <td>25</td>\n",
       "    </tr>\n",
       "    <tr>\n",
       "      <th>...</th>\n",
       "      <td>...</td>\n",
       "      <td>...</td>\n",
       "      <td>...</td>\n",
       "    </tr>\n",
       "    <tr>\n",
       "      <th>210</th>\n",
       "      <td>211</td>\n",
       "      <td>BPS Human Resource Team</td>\n",
       "      <td>-29</td>\n",
       "    </tr>\n",
       "    <tr>\n",
       "      <th>211</th>\n",
       "      <td>212</td>\n",
       "      <td>Mission Hill K-8</td>\n",
       "      <td>-33</td>\n",
       "    </tr>\n",
       "    <tr>\n",
       "      <th>212</th>\n",
       "      <td>213</td>\n",
       "      <td>Jackson/Mann K-8</td>\n",
       "      <td>-38</td>\n",
       "    </tr>\n",
       "    <tr>\n",
       "      <th>213</th>\n",
       "      <td>214</td>\n",
       "      <td>Boston Police Department</td>\n",
       "      <td>-39</td>\n",
       "    </tr>\n",
       "    <tr>\n",
       "      <th>214</th>\n",
       "      <td>215</td>\n",
       "      <td>Traffic Division</td>\n",
       "      <td>-41</td>\n",
       "    </tr>\n",
       "  </tbody>\n",
       "</table>\n",
       "<p>215 rows × 3 columns</p>\n",
       "</div>"
      ],
      "text/plain": [
       "     rank_var_2022_2020           department_name  w_var_2022_2020\n",
       "0                     1      Food & Nutrition Svc              428\n",
       "1                     2    Boston Fire Department               87\n",
       "2                     3     BPS Special Education               42\n",
       "3                     4             BPS Athletics               34\n",
       "4                     5      Health & Human Servs               25\n",
       "..                  ...                       ...              ...\n",
       "210                 211   BPS Human Resource Team              -29\n",
       "211                 212          Mission Hill K-8              -33\n",
       "212                 213          Jackson/Mann K-8              -38\n",
       "213                 214  Boston Police Department              -39\n",
       "214                 215          Traffic Division              -41\n",
       "\n",
       "[215 rows x 3 columns]"
      ]
     },
     "execution_count": 28,
     "metadata": {},
     "output_type": "execute_result"
    }
   ],
   "source": [
    "%%bigquery\n",
    "WITH sq1 AS (\n",
    "    SELECT *\n",
    "    FROM `ba-775-b03.BA_775_Dataset.data_final`\n",
    "    WHERE year IN (2020, 2022)\n",
    ")\n",
    "\n",
    ", sq2 AS (\n",
    "    SELECT year, department_name, county, COUNT(*) AS total_workers\n",
    "    FROM sq1\n",
    "    GROUP BY year, department_name, county\n",
    ")\n",
    "\n",
    ", sq3 AS (\n",
    "    SELECT\n",
    "        department_name,\n",
    "        MAX(CASE WHEN year = 2020 THEN total_workers END) AS total_workers_2020,\n",
    "        MAX(CASE WHEN year = 2022 THEN total_workers END) AS total_workers_2022\n",
    "    FROM sq2\n",
    "    GROUP BY department_name\n",
    ")\n",
    "\n",
    "SELECT\n",
    "    RANK() OVER (ORDER BY total_workers_2022 - total_workers_2020 DESC) AS rank_var_2022_2020,\n",
    "    department_name,\n",
    "    total_workers_2022 - total_workers_2020 AS w_var_2022_2020\n",
    "FROM sq3\n",
    "WHERE total_workers_2022 IS NOT NULL AND total_workers_2020  IS NOT NULL\n",
    "ORDER BY rank_var_2022_2020;"
   ]
  },
  {
   "cell_type": "markdown",
   "metadata": {
    "tags": []
   },
   "source": [
    "**Answer**: \n",
    "The department that experienced the most significant increase in workforce hiring between 2020 and 2022, in the aftermath of the COVID-19 pandemic, is Food & Nutrition Services, marking an impressive surge with 428 new hires. Following closely behind are Boston Fire Department (87), BPS Special Education (42), BPS Athletics (34), and Health & Human Services (25). Although the Department of Food & Nutrition Services\n",
    "does not appear in the top 10, these results highlight a notable expansion of staffing during the specified period, reflecting the organizational response to changing needs in the post-pandemic landscape."
   ]
  },
  {
   "cell_type": "markdown",
   "metadata": {},
   "source": [
    "### **Question 4-3.** Which county experienced the most significant worker layoffs between 2018 and 2020, prior to the onset of the COVID-19 pandemic?"
   ]
  },
  {
   "cell_type": "code",
   "execution_count": 29,
   "metadata": {
    "tags": []
   },
   "outputs": [
    {
     "data": {
      "application/vnd.jupyter.widget-view+json": {
       "model_id": "1d24b80aebad4fb7836aadfc01a3784a",
       "version_major": 2,
       "version_minor": 0
      },
      "text/plain": [
       "Query is running:   0%|          |"
      ]
     },
     "metadata": {},
     "output_type": "display_data"
    },
    {
     "data": {
      "application/vnd.jupyter.widget-view+json": {
       "model_id": "e589fda4e4c0491ca525cb264bef512b",
       "version_major": 2,
       "version_minor": 0
      },
      "text/plain": [
       "Downloading:   0%|          |"
      ]
     },
     "metadata": {},
     "output_type": "display_data"
    },
    {
     "data": {
      "text/html": [
       "<div>\n",
       "<style scoped>\n",
       "    .dataframe tbody tr th:only-of-type {\n",
       "        vertical-align: middle;\n",
       "    }\n",
       "\n",
       "    .dataframe tbody tr th {\n",
       "        vertical-align: top;\n",
       "    }\n",
       "\n",
       "    .dataframe thead th {\n",
       "        text-align: right;\n",
       "    }\n",
       "</style>\n",
       "<table border=\"1\" class=\"dataframe\">\n",
       "  <thead>\n",
       "    <tr style=\"text-align: right;\">\n",
       "      <th></th>\n",
       "      <th>rank_change_2020_2018</th>\n",
       "      <th>county</th>\n",
       "      <th>change_2020_2018</th>\n",
       "    </tr>\n",
       "  </thead>\n",
       "  <tbody>\n",
       "    <tr>\n",
       "      <th>0</th>\n",
       "      <td>1</td>\n",
       "      <td>Suffolk County</td>\n",
       "      <td>-1312</td>\n",
       "    </tr>\n",
       "    <tr>\n",
       "      <th>1</th>\n",
       "      <td>2</td>\n",
       "      <td>Middlesex County</td>\n",
       "      <td>-248</td>\n",
       "    </tr>\n",
       "    <tr>\n",
       "      <th>2</th>\n",
       "      <td>3</td>\n",
       "      <td>Norfolk County</td>\n",
       "      <td>-131</td>\n",
       "    </tr>\n",
       "    <tr>\n",
       "      <th>3</th>\n",
       "      <td>4</td>\n",
       "      <td>Plymouth County</td>\n",
       "      <td>-30</td>\n",
       "    </tr>\n",
       "    <tr>\n",
       "      <th>4</th>\n",
       "      <td>5</td>\n",
       "      <td>Barnstable County</td>\n",
       "      <td>-8</td>\n",
       "    </tr>\n",
       "    <tr>\n",
       "      <th>5</th>\n",
       "      <td>6</td>\n",
       "      <td>Essex County</td>\n",
       "      <td>-7</td>\n",
       "    </tr>\n",
       "    <tr>\n",
       "      <th>6</th>\n",
       "      <td>7</td>\n",
       "      <td>Hampden County</td>\n",
       "      <td>-4</td>\n",
       "    </tr>\n",
       "    <tr>\n",
       "      <th>7</th>\n",
       "      <td>8</td>\n",
       "      <td>Dukes County</td>\n",
       "      <td>-2</td>\n",
       "    </tr>\n",
       "    <tr>\n",
       "      <th>8</th>\n",
       "      <td>9</td>\n",
       "      <td>Worcester County</td>\n",
       "      <td>-1</td>\n",
       "    </tr>\n",
       "    <tr>\n",
       "      <th>9</th>\n",
       "      <td>9</td>\n",
       "      <td>Berkshire County</td>\n",
       "      <td>-1</td>\n",
       "    </tr>\n",
       "    <tr>\n",
       "      <th>10</th>\n",
       "      <td>11</td>\n",
       "      <td>Nantucket County</td>\n",
       "      <td>0</td>\n",
       "    </tr>\n",
       "    <tr>\n",
       "      <th>11</th>\n",
       "      <td>12</td>\n",
       "      <td>Bristol County</td>\n",
       "      <td>10</td>\n",
       "    </tr>\n",
       "  </tbody>\n",
       "</table>\n",
       "</div>"
      ],
      "text/plain": [
       "    rank_change_2020_2018             county  change_2020_2018\n",
       "0                       1     Suffolk County             -1312\n",
       "1                       2   Middlesex County              -248\n",
       "2                       3     Norfolk County              -131\n",
       "3                       4    Plymouth County               -30\n",
       "4                       5  Barnstable County                -8\n",
       "5                       6       Essex County                -7\n",
       "6                       7     Hampden County                -4\n",
       "7                       8       Dukes County                -2\n",
       "8                       9   Worcester County                -1\n",
       "9                       9   Berkshire County                -1\n",
       "10                     11   Nantucket County                 0\n",
       "11                     12     Bristol County                10"
      ]
     },
     "execution_count": 29,
     "metadata": {},
     "output_type": "execute_result"
    }
   ],
   "source": [
    "%%bigquery\n",
    "WITH sq1 AS (\n",
    "    SELECT *\n",
    "    FROM `ba-775-b03.BA_775_Dataset.data_final`\n",
    "    WHERE year IN (2018, 2020)\n",
    ")\n",
    "\n",
    ", sq2 AS (\n",
    "    SELECT year, county, COUNT(*) AS total_workers\n",
    "    FROM sq1\n",
    "    GROUP BY year, county\n",
    ")\n",
    "\n",
    ", sq3 AS (\n",
    "    SELECT\n",
    "        county,\n",
    "        MAX(CASE WHEN year = 2018 THEN total_workers END) AS total_workers_2018,\n",
    "        MAX(CASE WHEN year = 2020 THEN total_workers END) AS total_workers_2020\n",
    "    FROM sq2\n",
    "    GROUP BY county\n",
    ")\n",
    "\n",
    ", sq4 AS (\n",
    "    SELECT\n",
    "        county,\n",
    "        total_workers_2020 - total_workers_2018 AS change_2020_2018\n",
    "    FROM sq3\n",
    "    WHERE total_workers_2020 IS NOT NULL AND total_workers_2018 IS NOT NULL\n",
    ")\n",
    "\n",
    "SELECT\n",
    "    RANK() OVER (ORDER BY change_2020_2018) AS rank_change_2020_2018,\n",
    "    county,\n",
    "    change_2020_2018\n",
    "FROM sq4\n",
    "ORDER BY change_2020_2018;"
   ]
  },
  {
   "cell_type": "markdown",
   "metadata": {},
   "source": [
    "**Answer**: Suffolk County, which according to Section 1 results is the county with the highest percentage of employees, emerged as the county that faced the most substantial worker layoffs between 2018 and 2020, with a notable decrease of 1,312 workers. Middlesex County followed closely with a decrease of 248 workers, and Norfolk County saw a reduction of 131 workers. Additionally, Plymouth County experienced a decrease of 30 workers during this period. "
   ]
  },
  {
   "cell_type": "markdown",
   "metadata": {},
   "source": [
    "### **Question 4-4.** Which county underwent the most significant worker hiring between 2020 and 2022, following the COVID-19 pandemic?"
   ]
  },
  {
   "cell_type": "code",
   "execution_count": 30,
   "metadata": {
    "tags": []
   },
   "outputs": [
    {
     "data": {
      "application/vnd.jupyter.widget-view+json": {
       "model_id": "6e461da95c1c4849bc0cb052f1997528",
       "version_major": 2,
       "version_minor": 0
      },
      "text/plain": [
       "Query is running:   0%|          |"
      ]
     },
     "metadata": {},
     "output_type": "display_data"
    },
    {
     "data": {
      "application/vnd.jupyter.widget-view+json": {
       "model_id": "31533a37a0774dd9a0cb3ffaeae66ab9",
       "version_major": 2,
       "version_minor": 0
      },
      "text/plain": [
       "Downloading:   0%|          |"
      ]
     },
     "metadata": {},
     "output_type": "display_data"
    },
    {
     "data": {
      "text/html": [
       "<div>\n",
       "<style scoped>\n",
       "    .dataframe tbody tr th:only-of-type {\n",
       "        vertical-align: middle;\n",
       "    }\n",
       "\n",
       "    .dataframe tbody tr th {\n",
       "        vertical-align: top;\n",
       "    }\n",
       "\n",
       "    .dataframe thead th {\n",
       "        text-align: right;\n",
       "    }\n",
       "</style>\n",
       "<table border=\"1\" class=\"dataframe\">\n",
       "  <thead>\n",
       "    <tr style=\"text-align: right;\">\n",
       "      <th></th>\n",
       "      <th>rank_change_2022_2020</th>\n",
       "      <th>county</th>\n",
       "      <th>change_2022_2020</th>\n",
       "    </tr>\n",
       "  </thead>\n",
       "  <tbody>\n",
       "    <tr>\n",
       "      <th>0</th>\n",
       "      <td>1</td>\n",
       "      <td>Suffolk County</td>\n",
       "      <td>908</td>\n",
       "    </tr>\n",
       "    <tr>\n",
       "      <th>1</th>\n",
       "      <td>2</td>\n",
       "      <td>Norfolk County</td>\n",
       "      <td>173</td>\n",
       "    </tr>\n",
       "    <tr>\n",
       "      <th>2</th>\n",
       "      <td>3</td>\n",
       "      <td>Middlesex County</td>\n",
       "      <td>130</td>\n",
       "    </tr>\n",
       "    <tr>\n",
       "      <th>3</th>\n",
       "      <td>4</td>\n",
       "      <td>Plymouth County</td>\n",
       "      <td>82</td>\n",
       "    </tr>\n",
       "    <tr>\n",
       "      <th>4</th>\n",
       "      <td>5</td>\n",
       "      <td>Bristol County</td>\n",
       "      <td>43</td>\n",
       "    </tr>\n",
       "    <tr>\n",
       "      <th>5</th>\n",
       "      <td>6</td>\n",
       "      <td>Essex County</td>\n",
       "      <td>37</td>\n",
       "    </tr>\n",
       "    <tr>\n",
       "      <th>6</th>\n",
       "      <td>7</td>\n",
       "      <td>Worcester County</td>\n",
       "      <td>22</td>\n",
       "    </tr>\n",
       "    <tr>\n",
       "      <th>7</th>\n",
       "      <td>8</td>\n",
       "      <td>Barnstable County</td>\n",
       "      <td>4</td>\n",
       "    </tr>\n",
       "    <tr>\n",
       "      <th>8</th>\n",
       "      <td>9</td>\n",
       "      <td>Hampden County</td>\n",
       "      <td>3</td>\n",
       "    </tr>\n",
       "    <tr>\n",
       "      <th>9</th>\n",
       "      <td>9</td>\n",
       "      <td>Berkshire County</td>\n",
       "      <td>3</td>\n",
       "    </tr>\n",
       "  </tbody>\n",
       "</table>\n",
       "</div>"
      ],
      "text/plain": [
       "   rank_change_2022_2020             county  change_2022_2020\n",
       "0                      1     Suffolk County               908\n",
       "1                      2     Norfolk County               173\n",
       "2                      3   Middlesex County               130\n",
       "3                      4    Plymouth County                82\n",
       "4                      5     Bristol County                43\n",
       "5                      6       Essex County                37\n",
       "6                      7   Worcester County                22\n",
       "7                      8  Barnstable County                 4\n",
       "8                      9     Hampden County                 3\n",
       "9                      9   Berkshire County                 3"
      ]
     },
     "execution_count": 30,
     "metadata": {},
     "output_type": "execute_result"
    }
   ],
   "source": [
    "%%bigquery\n",
    "WITH sq1 AS (\n",
    "    SELECT *\n",
    "    FROM `ba-775-b03.BA_775_Dataset.data_final`\n",
    "    WHERE year IN (2020, 2022)\n",
    ")\n",
    "\n",
    ", sq2 AS (\n",
    "    SELECT year, county, COUNT(*) AS total_workers\n",
    "    FROM sq1\n",
    "    GROUP BY year, county\n",
    ")\n",
    "\n",
    ", sq3 AS (\n",
    "    SELECT\n",
    "        county,\n",
    "        MAX(CASE WHEN year = 2020 THEN total_workers END) AS total_workers_2020,\n",
    "        MAX(CASE WHEN year = 2022 THEN total_workers END) AS total_workers_2022\n",
    "    FROM sq2\n",
    "    GROUP BY county\n",
    ")\n",
    "\n",
    ", sq4 AS (\n",
    "    SELECT\n",
    "        county,\n",
    "        total_workers_2022 - total_workers_2020 AS change_2022_2020\n",
    "    FROM sq3\n",
    "    WHERE total_workers_2022 IS NOT NULL AND total_workers_2020 IS NOT NULL\n",
    ")\n",
    "\n",
    "SELECT\n",
    "    RANK() OVER (ORDER BY change_2022_2020 DESC) AS rank_change_2022_2020,\n",
    "    county,\n",
    "    change_2022_2020\n",
    "FROM sq4\n",
    "ORDER BY change_2022_2020 DESC;"
   ]
  },
  {
   "cell_type": "markdown",
   "metadata": {
    "tags": []
   },
   "source": [
    "**Answer**: Suffolk County stands out as the county with the most significant worker hiring between 2020 and 2022, post-COVID-19 pandemic, witnessing an impressive increase of 908 workers. This surge in hiring is particularly noteworthy given Suffolk County's initial status as the county with the highest percentage of employees, as indicated in Section 1 results. Norfolk County follows with a notable hiring increase of 173 workers,and Middlesex with an increase of 130 workers."
   ]
  },
  {
   "cell_type": "markdown",
   "metadata": {
    "id": "AwjQgewtjQTy",
    "tags": []
   },
   "source": [
    "# **Conclusion**\n",
    "\n",
    "\n"
   ]
  },
  {
   "cell_type": "markdown",
   "metadata": {},
   "source": [
    "The job market within the Boston Government sector demonstrated adaptability in response to the COVID-19 pandemic. There was a slight shift observed but nothing significant. The Boston Government sector underwent a gradual reduction in jobs from 2018 to 2022, with Suffolk County consistently serving as the primary employment hub. A peak in job count occurred in 2018, followed by a decline in subsequent years, exacerbated by the COVID-19 pandemic in 2020. While there was a partial recovery in 2021 and 2022, job levels did not reach pre-pandemic peaks. Suffolk County maintained its position, with a relatively steady ratio (67-68%) of the highest to total jobs, although showing a slight decrease post-COVID. Notably, Suffolk County experienced the most substantial worker layoffs from 2018 to 2020, followed by a remarkable post-pandemic rebound in hiring between 2020 and 2022.\n",
    "\n",
    "Boston Government sector payouts data demonstrates its diverse pay structures, with the Police Department showing significant disparities in earnings, and the Fire Department displaying higher median payouts. This variability across departments highlights the impact of unique role demands, such as the specialized skills or increased risk factors associated, and various compensation policies in alignment with job responsibilities.\n",
    "\n",
    "From the analysis made so far, we have observed that the Boston Government sector has been quite stable over the years while adapting to the job market shifts. At this stage of our analysis, we believe government sector jobs to be more secure in terms of job safety and pay cuts when compared to corporate sector jobs.  "
   ]
  },
  {
   "cell_type": "markdown",
   "metadata": {
    "tags": []
   },
   "source": [
    "# **Acknowledgments**\n",
    "\n",
    "We would like to acknowledge the following  \n",
    "\n",
    "1. https://data.aclum.org/2023/04/05/fy2023-boston-police-department-budget/ for research about Boston Police Department.\n",
    "2. https://miro.com/app/board/uXjVNMPZmpM=/ for ERD Template\n"
   ]
  }
 ],
 "metadata": {
  "colab": {
   "collapsed_sections": [
    "4uty_m2nOw_9",
    "o1R7EaC-O5Zh",
    "qc0J0W7hPV67",
    "IBTe3jg5AVr7",
    "nDIfJu1lTP9-",
    "uIwvQGK5yaaa",
    "4yA5ScoyyjWR",
    "Sy2fG9W70igi",
    "Uy2gJScD49Va",
    "SLWgJVBghJ90",
    "SgdKCjY5U5-8",
    "AwjQgewtjQTy"
   ],
   "provenance": []
  },
  "environment": {
   "kernel": "python3",
   "name": "common-cpu.m113",
   "type": "gcloud",
   "uri": "gcr.io/deeplearning-platform-release/base-cpu:m113"
  },
  "kernelspec": {
   "display_name": "Python 3",
   "language": "python",
   "name": "python3"
  },
  "language_info": {
   "codemirror_mode": {
    "name": "ipython",
    "version": 3
   },
   "file_extension": ".py",
   "mimetype": "text/x-python",
   "name": "python",
   "nbconvert_exporter": "python",
   "pygments_lexer": "ipython3",
   "version": "3.10.13"
  }
 },
 "nbformat": 4,
 "nbformat_minor": 4
}
